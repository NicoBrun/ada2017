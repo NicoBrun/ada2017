{
 "cells": [
  {
   "cell_type": "code",
   "execution_count": 3,
   "metadata": {},
   "outputs": [
    {
     "name": "stdout",
     "output_type": "stream",
     "text": [
      "The autoreload extension is already loaded. To reload it, use:\n",
      "  %reload_ext autoreload\n"
     ]
    }
   ],
   "source": [
    "%load_ext autoreload\n",
    "%autoreload 2\n",
    "%reload_ext autoreload\n",
    "\n",
    "#essential imports\n",
    "import pandas as pd\n",
    "import numpy as np\n",
    "import json\n",
    "from pandas.io.json import json_normalize\n",
    "\n",
    "#scraping imports\n",
    "import requests\n",
    "from bs4 import BeautifulSoup\n",
    "\n",
    "#plotting imports\n",
    "%matplotlib inline\n",
    "import matplotlib.pyplot as plt\n",
    "\n",
    "#String matching\n",
    "import re\n",
    "\n",
    "#date\n",
    "import datetime as dt\n",
    "from matching_helpers import *\n",
    "\n",
    "cps = 4"
   ]
  },
  {
   "cell_type": "markdown",
   "metadata": {},
   "source": [
    "# Matching CDs/Vynils and dead musicians"
   ]
  },
  {
   "cell_type": "markdown",
   "metadata": {},
   "source": [
    "## 1) Clean the meta data generated with Amazon API"
   ]
  },
  {
   "cell_type": "code",
   "execution_count": 4,
   "metadata": {
    "collapsed": true
   },
   "outputs": [],
   "source": [
    "features_meta = ['asin', 'artist', 'description']\n",
    "\n",
    "meta_CDs_Vin = pd.read_csv(\n",
    "        'DATA/metadata_processed/meta_CDs_and_Vinyl_processed(v2).csv',\n",
    "        encoding = 'ISO-8859-1',\n",
    "        low_memory=False)\n",
    "\n",
    "meta_CDs_Vin = meta_CDs_Vin[features_meta]\n",
    "meta_CDs_Vin = df_rm_punctuation(meta_CDs_Vin)"
   ]
  },
  {
   "cell_type": "code",
   "execution_count": 5,
   "metadata": {},
   "outputs": [
    {
     "data": {
      "text/html": [
       "<div>\n",
       "<style>\n",
       "    .dataframe thead tr:only-child th {\n",
       "        text-align: right;\n",
       "    }\n",
       "\n",
       "    .dataframe thead th {\n",
       "        text-align: left;\n",
       "    }\n",
       "\n",
       "    .dataframe tbody tr th {\n",
       "        vertical-align: top;\n",
       "    }\n",
       "</style>\n",
       "<table border=\"1\" class=\"dataframe\">\n",
       "  <thead>\n",
       "    <tr style=\"text-align: right;\">\n",
       "      <th></th>\n",
       "      <th>asin</th>\n",
       "      <th>artist</th>\n",
       "      <th>description</th>\n",
       "    </tr>\n",
       "  </thead>\n",
       "  <tbody>\n",
       "    <tr>\n",
       "      <th>0</th>\n",
       "      <td>0001501348</td>\n",
       "      <td>Ron Kenoly</td>\n",
       "      <td>Lenny LeBlanc,Alex Acuna,Justo Almario,Tom Bro...</td>\n",
       "    </tr>\n",
       "    <tr>\n",
       "      <th>1</th>\n",
       "      <td>0001393774</td>\n",
       "      <td></td>\n",
       "      <td>Audio CD</td>\n",
       "    </tr>\n",
       "    <tr>\n",
       "      <th>2</th>\n",
       "      <td>0005123909</td>\n",
       "      <td>Cedarmont Kids</td>\n",
       "      <td>18 Music Videos for Kids: Do Your Ears Hang Lo...</td>\n",
       "    </tr>\n",
       "    <tr>\n",
       "      <th>3</th>\n",
       "      <td>0005072298</td>\n",
       "      <td></td>\n",
       "      <td>NaN</td>\n",
       "    </tr>\n",
       "    <tr>\n",
       "      <th>4</th>\n",
       "      <td>0005224896</td>\n",
       "      <td></td>\n",
       "      <td>NaN</td>\n",
       "    </tr>\n",
       "  </tbody>\n",
       "</table>\n",
       "</div>"
      ],
      "text/plain": [
       "         asin          artist  \\\n",
       "0  0001501348      Ron Kenoly   \n",
       "1  0001393774                   \n",
       "2  0005123909  Cedarmont Kids   \n",
       "3  0005072298                   \n",
       "4  0005224896                   \n",
       "\n",
       "                                         description  \n",
       "0  Lenny LeBlanc,Alex Acuna,Justo Almario,Tom Bro...  \n",
       "1                                           Audio CD  \n",
       "2  18 Music Videos for Kids: Do Your Ears Hang Lo...  \n",
       "3                                                NaN  \n",
       "4                                                NaN  "
      ]
     },
     "execution_count": 5,
     "metadata": {},
     "output_type": "execute_result"
    }
   ],
   "source": [
    "meta_CDs_Vin.head()"
   ]
  },
  {
   "cell_type": "markdown",
   "metadata": {},
   "source": [
    "## 2) Cleaning and filtering the dead names data"
   ]
  },
  {
   "cell_type": "code",
   "execution_count": 6,
   "metadata": {
    "collapsed": true
   },
   "outputs": [],
   "source": [
    "deaths = pd.read_csv('DATA/deaths.csv', low_memory=False, encoding=\"ISO-8859-1\")"
   ]
  },
  {
   "cell_type": "code",
   "execution_count": 7,
   "metadata": {},
   "outputs": [
    {
     "data": {
      "text/html": [
       "<div>\n",
       "<style>\n",
       "    .dataframe thead tr:only-child th {\n",
       "        text-align: right;\n",
       "    }\n",
       "\n",
       "    .dataframe thead th {\n",
       "        text-align: left;\n",
       "    }\n",
       "\n",
       "    .dataframe tbody tr th {\n",
       "        vertical-align: top;\n",
       "    }\n",
       "</style>\n",
       "<table border=\"1\" class=\"dataframe\">\n",
       "  <thead>\n",
       "    <tr style=\"text-align: right;\">\n",
       "      <th></th>\n",
       "      <th>clname</th>\n",
       "      <th>Birth Date</th>\n",
       "      <th>Death Date</th>\n",
       "    </tr>\n",
       "  </thead>\n",
       "  <tbody>\n",
       "    <tr>\n",
       "      <th>0</th>\n",
       "      <td>paul delph</td>\n",
       "      <td>1957</td>\n",
       "      <td>1996-05-21</td>\n",
       "    </tr>\n",
       "    <tr>\n",
       "      <th>1</th>\n",
       "      <td>jacob druckman</td>\n",
       "      <td>1928</td>\n",
       "      <td>1996-05-24</td>\n",
       "    </tr>\n",
       "    <tr>\n",
       "      <th>2</th>\n",
       "      <td>bradley nowell</td>\n",
       "      <td>1968</td>\n",
       "      <td>1996-05-25</td>\n",
       "    </tr>\n",
       "    <tr>\n",
       "      <th>3</th>\n",
       "      <td>pilar lorengar</td>\n",
       "      <td>1928</td>\n",
       "      <td>1996-06-02</td>\n",
       "    </tr>\n",
       "    <tr>\n",
       "      <th>4</th>\n",
       "      <td>ella fitzgerald</td>\n",
       "      <td>1917</td>\n",
       "      <td>1996-06-15</td>\n",
       "    </tr>\n",
       "  </tbody>\n",
       "</table>\n",
       "</div>"
      ],
      "text/plain": [
       "            clname  Birth Date  Death Date\n",
       "0       paul delph        1957  1996-05-21\n",
       "1   jacob druckman        1928  1996-05-24\n",
       "2   bradley nowell        1968  1996-05-25\n",
       "3   pilar lorengar        1928  1996-06-02\n",
       "4  ella fitzgerald        1917  1996-06-15"
      ]
     },
     "execution_count": 7,
     "metadata": {},
     "output_type": "execute_result"
    }
   ],
   "source": [
    "musician_features = ['clname', 'Birth Date', 'Death Date']\n",
    "\n",
    "dead_musicians = deaths[deaths['Musician']==True].reset_index()\n",
    "dead_musicians['name'] = dead_musicians['Name'].str.lower()\n",
    "dead_musicians['clname'] = dead_musicians['Name'].map(cleanstr)\n",
    "dead_musicians =dead_musicians[musician_features]\n",
    "\n",
    "dead_musicians.head()"
   ]
  },
  {
   "cell_type": "markdown",
   "metadata": {},
   "source": [
    "## 3) Build controls list"
   ]
  },
  {
   "cell_type": "code",
   "execution_count": 8,
   "metadata": {
    "scrolled": false
   },
   "outputs": [
    {
     "name": "stdout",
     "output_type": "stream",
     "text": [
      "(403854, 3)\n"
     ]
    },
    {
     "data": {
      "text/html": [
       "<div>\n",
       "<style>\n",
       "    .dataframe thead tr:only-child th {\n",
       "        text-align: right;\n",
       "    }\n",
       "\n",
       "    .dataframe thead th {\n",
       "        text-align: left;\n",
       "    }\n",
       "\n",
       "    .dataframe tbody tr th {\n",
       "        vertical-align: top;\n",
       "    }\n",
       "</style>\n",
       "<table border=\"1\" class=\"dataframe\">\n",
       "  <thead>\n",
       "    <tr style=\"text-align: right;\">\n",
       "      <th></th>\n",
       "      <th>asin</th>\n",
       "      <th>artist</th>\n",
       "      <th>description</th>\n",
       "    </tr>\n",
       "  </thead>\n",
       "  <tbody>\n",
       "    <tr>\n",
       "      <th>0</th>\n",
       "      <td>0001501348</td>\n",
       "      <td>ron kenoly</td>\n",
       "      <td>lenny leblanc,alex acuna,justo almario,tom bro...</td>\n",
       "    </tr>\n",
       "    <tr>\n",
       "      <th>2</th>\n",
       "      <td>0005123909</td>\n",
       "      <td>cedarmont kids</td>\n",
       "      <td>18 music videos for kids: do your ears hang lo...</td>\n",
       "    </tr>\n",
       "    <tr>\n",
       "      <th>5</th>\n",
       "      <td>0005134188</td>\n",
       "      <td>cedarmont kids</td>\n",
       "      <td>vhs tape</td>\n",
       "    </tr>\n",
       "    <tr>\n",
       "      <th>7</th>\n",
       "      <td>0026197898</td>\n",
       "      <td>the sudden passion</td>\n",
       "      <td>when you first hear the sudden passion,you d p...</td>\n",
       "    </tr>\n",
       "    <tr>\n",
       "      <th>18</th>\n",
       "      <td>0307141950</td>\n",
       "      <td>golden books</td>\n",
       "      <td>spring has come,so little critter and dad are ...</td>\n",
       "    </tr>\n",
       "  </tbody>\n",
       "</table>\n",
       "</div>"
      ],
      "text/plain": [
       "          asin              artist  \\\n",
       "0   0001501348          ron kenoly   \n",
       "2   0005123909      cedarmont kids   \n",
       "5   0005134188      cedarmont kids   \n",
       "7   0026197898  the sudden passion   \n",
       "18  0307141950        golden books   \n",
       "\n",
       "                                          description  \n",
       "0   lenny leblanc,alex acuna,justo almario,tom bro...  \n",
       "2   18 music videos for kids: do your ears hang lo...  \n",
       "5                                            vhs tape  \n",
       "7   when you first hear the sudden passion,you d p...  \n",
       "18  spring has come,so little critter and dad are ...  "
      ]
     },
     "execution_count": 8,
     "metadata": {},
     "output_type": "execute_result"
    }
   ],
   "source": [
    "musics_products = meta_CDs_Vin[meta_CDs_Vin['artist'].isnull()==False]\n",
    "musics_products = musics_products[musics_products[\"artist\"]!='']\n",
    "\n",
    "musics_products['artist'] = musics_products['artist'].apply(cleanstr)\n",
    "musics_products['description'] = musics_products['description'].apply(lambda s : str(s).lower())\n",
    "\n",
    "print(musics_products.shape)\n",
    "musics_products.head()"
   ]
  },
  {
   "cell_type": "code",
   "execution_count": 9,
   "metadata": {},
   "outputs": [
    {
     "name": "stdout",
     "output_type": "stream",
     "text": [
      "['', 'virgin steele', 'elena paparizou', 'master joe', 'fernandi']\n"
     ]
    },
    {
     "data": {
      "text/html": [
       "<div>\n",
       "<style>\n",
       "    .dataframe thead tr:only-child th {\n",
       "        text-align: right;\n",
       "    }\n",
       "\n",
       "    .dataframe thead th {\n",
       "        text-align: left;\n",
       "    }\n",
       "\n",
       "    .dataframe tbody tr th {\n",
       "        vertical-align: top;\n",
       "    }\n",
       "</style>\n",
       "<table border=\"1\" class=\"dataframe\">\n",
       "  <thead>\n",
       "    <tr style=\"text-align: right;\">\n",
       "      <th></th>\n",
       "      <th>Name</th>\n",
       "      <th>Birth Date</th>\n",
       "      <th>Death Date</th>\n",
       "    </tr>\n",
       "  </thead>\n",
       "  <tbody>\n",
       "    <tr>\n",
       "      <th>0</th>\n",
       "      <td>virgin steele</td>\n",
       "      <td>NaN</td>\n",
       "      <td>NaN</td>\n",
       "    </tr>\n",
       "    <tr>\n",
       "      <th>1</th>\n",
       "      <td>elena paparizou</td>\n",
       "      <td>NaN</td>\n",
       "      <td>NaN</td>\n",
       "    </tr>\n",
       "    <tr>\n",
       "      <th>2</th>\n",
       "      <td>master joe</td>\n",
       "      <td>NaN</td>\n",
       "      <td>NaN</td>\n",
       "    </tr>\n",
       "    <tr>\n",
       "      <th>3</th>\n",
       "      <td>fernandi</td>\n",
       "      <td>NaN</td>\n",
       "      <td>NaN</td>\n",
       "    </tr>\n",
       "    <tr>\n",
       "      <th>4</th>\n",
       "      <td>garageland</td>\n",
       "      <td>NaN</td>\n",
       "      <td>NaN</td>\n",
       "    </tr>\n",
       "  </tbody>\n",
       "</table>\n",
       "</div>"
      ],
      "text/plain": [
       "              Name  Birth Date  Death Date\n",
       "0    virgin steele         NaN         NaN\n",
       "1  elena paparizou         NaN         NaN\n",
       "2       master joe         NaN         NaN\n",
       "3         fernandi         NaN         NaN\n",
       "4       garageland         NaN         NaN"
      ]
     },
     "execution_count": 9,
     "metadata": {},
     "output_type": "execute_result"
    }
   ],
   "source": [
    "musicians_names = [splitstr(troup) for troup in list(musics_products['artist'])]\n",
    "musicians_names = [cleanstr(elem) for elem in np.concatenate(musicians_names)]\n",
    "musicians_names = list(set(musicians_names))\n",
    "\n",
    "# weird... \n",
    "print(musicians_names[:5])\n",
    "#amazon_actor_names = amazon_actor_names[:1]+ amazon_actor_names[2:] \n",
    "musicians_names = musicians_names[1:]\n",
    "\n",
    "amazon_musicians = pd.DataFrame(musicians_names, columns=['Name'])\n",
    "amazon_musicians['Birth Date'] = pd.Series()\n",
    "amazon_musicians['Death Date'] = pd.Series()\n",
    "amazon_musicians.head()"
   ]
  },
  {
   "cell_type": "code",
   "execution_count": 10,
   "metadata": {
    "collapsed": true
   },
   "outputs": [],
   "source": [
    "''' Returns the lines of a .txt file, with '\\n' characters removed \n",
    "'''\n",
    "def read_txt(path) : \n",
    "    file = open(path, \"r\")\n",
    "    tmplist = file.read().split(\"\\n\")\n",
    "    # the last line is an empty line\n",
    "    return tmplist[:len(tmplist)-1]\n",
    "\n",
    "def write_lines(iterable, f_out) :\n",
    "    outputfile = open(f_out, 'w')\n",
    "    for elem in iterable : \n",
    "        outputfile.write(elem+'\\n')\n",
    "    outputfile.close()\n",
    "\n",
    "englishwords = read_txt('DATA/englishwords.txt')\n",
    "\n",
    "def is_name(name):\n",
    "    if len(name.split()) <= 1 : \n",
    "        return False\n",
    "    for word in name.split(' ') :\n",
    "        if word in englishwords or any(char.isdigit() for char in word):\n",
    "            return False\n",
    "    return True\n",
    "    '''only_names = []\n",
    "    for word in list_:\n",
    "        decompose = word.split()\n",
    "        if len(decompose) == 2:\n",
    "            firstg = decompose[0]\n",
    "            if firstg not in ['the','The','le','les','los','la']:\n",
    "                only_names.append(word)\n",
    "    \n",
    "    return only_names\n",
    "    '''"
   ]
  },
  {
   "cell_type": "code",
   "execution_count": 11,
   "metadata": {
    "collapsed": true
   },
   "outputs": [],
   "source": [
    "#single_interprets = is_name(list(musicians_names)) \n",
    "amazon_musicians_singles = amazon_musicians[amazon_musicians['Name'].apply(is_name)==True]\n",
    "single_interprets = amazon_musicians_singles['Name'].tolist()"
   ]
  },
  {
   "cell_type": "code",
   "execution_count": 12,
   "metadata": {},
   "outputs": [
    {
     "name": "stdout",
     "output_type": "stream",
     "text": [
      "162575  reduced to  (41308, 3)\n"
     ]
    },
    {
     "data": {
      "text/html": [
       "<div>\n",
       "<style>\n",
       "    .dataframe thead tr:only-child th {\n",
       "        text-align: right;\n",
       "    }\n",
       "\n",
       "    .dataframe thead th {\n",
       "        text-align: left;\n",
       "    }\n",
       "\n",
       "    .dataframe tbody tr th {\n",
       "        vertical-align: top;\n",
       "    }\n",
       "</style>\n",
       "<table border=\"1\" class=\"dataframe\">\n",
       "  <thead>\n",
       "    <tr style=\"text-align: right;\">\n",
       "      <th></th>\n",
       "      <th>Name</th>\n",
       "      <th>Birth Date</th>\n",
       "      <th>Death Date</th>\n",
       "    </tr>\n",
       "  </thead>\n",
       "  <tbody>\n",
       "    <tr>\n",
       "      <th>1</th>\n",
       "      <td>elena paparizou</td>\n",
       "      <td>NaN</td>\n",
       "      <td>NaN</td>\n",
       "    </tr>\n",
       "    <tr>\n",
       "      <th>13</th>\n",
       "      <td>danny krivit</td>\n",
       "      <td>NaN</td>\n",
       "      <td>NaN</td>\n",
       "    </tr>\n",
       "    <tr>\n",
       "      <th>23</th>\n",
       "      <td>gary nicholson</td>\n",
       "      <td>NaN</td>\n",
       "      <td>NaN</td>\n",
       "    </tr>\n",
       "    <tr>\n",
       "      <th>26</th>\n",
       "      <td>bennie hess</td>\n",
       "      <td>NaN</td>\n",
       "      <td>NaN</td>\n",
       "    </tr>\n",
       "    <tr>\n",
       "      <th>30</th>\n",
       "      <td>nicolaus harnoncourt</td>\n",
       "      <td>NaN</td>\n",
       "      <td>NaN</td>\n",
       "    </tr>\n",
       "  </tbody>\n",
       "</table>\n",
       "</div>"
      ],
      "text/plain": [
       "                    Name  Birth Date  Death Date\n",
       "1        elena paparizou         NaN         NaN\n",
       "13          danny krivit         NaN         NaN\n",
       "23        gary nicholson         NaN         NaN\n",
       "26           bennie hess         NaN         NaN\n",
       "30  nicolaus harnoncourt         NaN         NaN"
      ]
     },
     "execution_count": 12,
     "metadata": {},
     "output_type": "execute_result"
    }
   ],
   "source": [
    "print(len(musicians_names), ' reduced to ', amazon_musicians_singles.shape)\n",
    "amazon_musicians_singles.head()"
   ]
  },
  {
   "cell_type": "code",
   "execution_count": 13,
   "metadata": {
    "scrolled": true
   },
   "outputs": [
    {
     "name": "stdout",
     "output_type": "stream",
     "text": [
      "0\n",
      "100\n",
      "200\n",
      "300\n",
      "400\n"
     ]
    }
   ],
   "source": [
    "nondead_musicians = pd.DataFrame(single_interprets, columns = ['clname'])\n",
    "\n",
    "for idx, name in enumerate(dead_musicians['clname'].tolist()):\n",
    "    if idx % 100 == 0 : \n",
    "        print(idx)\n",
    "    mapp = nondead_musicians['clname'].str.contains(name)\n",
    "    if mapp.any():\n",
    "        nondead_musicians = nondead_musicians[mapp==False] \n",
    "\n",
    "nondead_musicians['Birth Date'] = pd.Series()\n",
    "nondead_musicians['Death Date'] = pd.Series()\n",
    "nondead_musicians.head()\n",
    "\n",
    "controls = nondead_musicians\n",
    "\n",
    "all_musicians = pd.concat((dead_musicians, nondead_musicians))"
   ]
  },
  {
   "cell_type": "code",
   "execution_count": 14,
   "metadata": {},
   "outputs": [
    {
     "data": {
      "text/plain": [
       "(41038, 424)"
      ]
     },
     "execution_count": 14,
     "metadata": {},
     "output_type": "execute_result"
    }
   ],
   "source": [
    "len(controls), len(dead_musicians)"
   ]
  },
  {
   "cell_type": "markdown",
   "metadata": {},
   "source": [
    "## 4) Matching dead musicians and meta data"
   ]
  },
  {
   "cell_type": "code",
   "execution_count": 15,
   "metadata": {},
   "outputs": [
    {
     "name": "stdout",
     "output_type": "stream",
     "text": [
      "0 in 424 done\n",
      "100 in 424 done\n",
      "200 in 424 done\n",
      "300 in 424 done\n",
      "400 in 424 done\n"
     ]
    }
   ],
   "source": [
    "pd.options.mode.chained_assignment = None \n",
    "meta_dead_musicians = pd.DataFrame()\n",
    "\n",
    "for idx, musician in enumerate(list(dead_musicians['clname'])):\n",
    "    \n",
    "    match = pd.DataFrame()\n",
    "    match = musics_products[ \\\n",
    "                (musics_products['artist'].str.contains(musician)==True) | \n",
    "                (musics_products['description'].str.contains(musician)==True) \\\n",
    "            ].drop('artist',axis=1)\n",
    "    \n",
    "    match['name'] = musician\n",
    "    match['death date'] = dead_musicians['Death Date'].get_value(idx)\n",
    "    match['birth date'] = dead_musicians['Birth Date'].get_value(idx)\n",
    "    meta_dead_musicians = meta_dead_musicians.append(match)\n",
    "    \n",
    "    if idx %100 == 0: \n",
    "        print('{} in {} done'.format(idx, len(dead_musicians['clname'])))"
   ]
  },
  {
   "cell_type": "code",
   "execution_count": 16,
   "metadata": {},
   "outputs": [
    {
     "data": {
      "text/plain": [
       "(368, 26173)"
      ]
     },
     "execution_count": 16,
     "metadata": {},
     "output_type": "execute_result"
    }
   ],
   "source": [
    "meta_dead_musicians.head()\n",
    "len(meta_dead_musicians.groupby('name').count()), len(meta_dead_musicians)"
   ]
  },
  {
   "cell_type": "markdown",
   "metadata": {},
   "source": [
    "## 5) Subsample control musicians and match meta data"
   ]
  },
  {
   "cell_type": "code",
   "execution_count": 17,
   "metadata": {},
   "outputs": [
    {
     "name": "stdout",
     "output_type": "stream",
     "text": [
      "(1684, 3)\n"
     ]
    },
    {
     "data": {
      "text/html": [
       "<div>\n",
       "<style>\n",
       "    .dataframe thead tr:only-child th {\n",
       "        text-align: right;\n",
       "    }\n",
       "\n",
       "    .dataframe thead th {\n",
       "        text-align: left;\n",
       "    }\n",
       "\n",
       "    .dataframe tbody tr th {\n",
       "        vertical-align: top;\n",
       "    }\n",
       "</style>\n",
       "<table border=\"1\" class=\"dataframe\">\n",
       "  <thead>\n",
       "    <tr style=\"text-align: right;\">\n",
       "      <th></th>\n",
       "      <th>clname</th>\n",
       "      <th>Birth Date</th>\n",
       "      <th>Death Date</th>\n",
       "    </tr>\n",
       "  </thead>\n",
       "  <tbody>\n",
       "    <tr>\n",
       "      <th>9691</th>\n",
       "      <td>tike jah fakoly</td>\n",
       "      <td>NaN</td>\n",
       "      <td>NaN</td>\n",
       "    </tr>\n",
       "    <tr>\n",
       "      <th>21169</th>\n",
       "      <td>patricia risley</td>\n",
       "      <td>NaN</td>\n",
       "      <td>NaN</td>\n",
       "    </tr>\n",
       "    <tr>\n",
       "      <th>34685</th>\n",
       "      <td>marie bergman</td>\n",
       "      <td>NaN</td>\n",
       "      <td>NaN</td>\n",
       "    </tr>\n",
       "  </tbody>\n",
       "</table>\n",
       "</div>"
      ],
      "text/plain": [
       "                clname  Birth Date  Death Date\n",
       "9691   tike jah fakoly         NaN         NaN\n",
       "21169  patricia risley         NaN         NaN\n",
       "34685    marie bergman         NaN         NaN"
      ]
     },
     "execution_count": 17,
     "metadata": {},
     "output_type": "execute_result"
    }
   ],
   "source": [
    "from numpy.random import randint\n",
    "\n",
    "\n",
    "def subsample_df (df, nbWanted) : \n",
    "    assert nbWanted < len(df)\n",
    "    randomIndex = randint(0, len(df)-1, nbWanted)\n",
    "    return df.loc[randomIndex]\n",
    "\n",
    "sub_controls = subsample_df(controls, cps*len(dead_musicians))\n",
    "sub_controls = sub_controls.dropna(how='all')\n",
    "print(sub_controls.shape)\n",
    "sub_controls.head(3)"
   ]
  },
  {
   "cell_type": "code",
   "execution_count": 18,
   "metadata": {
    "scrolled": false
   },
   "outputs": [
    {
     "name": "stdout",
     "output_type": "stream",
     "text": [
      "0 out of 1684\n",
      "100 out of 1684\n",
      "200 out of 1684\n",
      "300 out of 1684\n",
      "400 out of 1684\n",
      "500 out of 1684\n",
      "600 out of 1684\n",
      "700 out of 1684\n",
      "800 out of 1684\n",
      "900 out of 1684\n",
      "1000 out of 1684\n",
      "1100 out of 1684\n",
      "1200 out of 1684\n",
      "1300 out of 1684\n",
      "1400 out of 1684\n",
      "1500 out of 1684\n",
      "1600 out of 1684\n"
     ]
    }
   ],
   "source": [
    "pd.options.mode.chained_assignment = None\n",
    "meta_control_musicians = pd.DataFrame()\n",
    "\n",
    "for idx, musician in enumerate(list(sub_controls['clname'])):\n",
    "    \n",
    "    #musician = musician.replace(\"(\",\"\").replace(\")\",\"\")\n",
    "    match = pd.DataFrame()\n",
    "    try : \n",
    "        mapping_name = musics_products['artist'].str.contains(musician)\n",
    "    except TypeError : \n",
    "        print(musician)\n",
    "        raise TypeError\n",
    "        \n",
    "    mapping_descp = musics_products['description'].str.contains(musician)\n",
    "    \n",
    "    if any(mapping_name)|any(mapping_descp) : \n",
    "        match = musics_products[(mapping_name==True)|(mapping_descp==True)].drop('artist',axis=1)\n",
    "        match['name'] = musician\n",
    "        match['death date'] = 'unknown'\n",
    "        match['birth date'] = 'unknown'\n",
    "        meta_control_musicians = meta_control_musicians.append(match)\n",
    "    \n",
    "    else: \n",
    "        print('no matching for control name: {}'.format(musician))\n",
    "    \n",
    "    if idx %100 == 0: print('{} out of {}'.format(idx, len(sub_controls['clname'])))"
   ]
  },
  {
   "cell_type": "code",
   "execution_count": 19,
   "metadata": {},
   "outputs": [
    {
     "data": {
      "text/plain": [
       "1652"
      ]
     },
     "execution_count": 19,
     "metadata": {},
     "output_type": "execute_result"
    }
   ],
   "source": [
    "meta_control_musicians.head()\n",
    "len(meta_control_musicians.groupby('name').count())"
   ]
  },
  {
   "cell_type": "markdown",
   "metadata": {},
   "source": [
    "## 6) Loading Reviews data for Movies and TV and cleaning"
   ]
  },
  {
   "cell_type": "code",
   "execution_count": 20,
   "metadata": {
    "collapsed": true
   },
   "outputs": [],
   "source": [
    "datapath = 'DATA/review/'\n",
    "filename = 'reviews_CDs_and_Vinyl.json.gz'"
   ]
  },
  {
   "cell_type": "code",
   "execution_count": 21,
   "metadata": {
    "collapsed": true
   },
   "outputs": [],
   "source": [
    "import gzip\n",
    "def gz_to_dataframe(datapath, filename):\n",
    "    def parse(path): \n",
    "        g = gzip.open(path, 'rb') \n",
    "        for l in g: \n",
    "            yield eval(l) \n",
    "    def getDF(path): \n",
    "        i = 0 \n",
    "        df = {} \n",
    "        for d in parse(path): \n",
    "            df[i] = d \n",
    "            i += 1 \n",
    "        return pd.DataFrame.from_dict(df, orient='index') \n",
    "    return getDF(datapath+filename)\n",
    "    \n",
    "reviews_df = gz_to_dataframe(datapath, filename)"
   ]
  },
  {
   "cell_type": "code",
   "execution_count": 22,
   "metadata": {
    "scrolled": true
   },
   "outputs": [
    {
     "name": "stdout",
     "output_type": "stream",
     "text": [
      "(3749004, 9)\n"
     ]
    },
    {
     "data": {
      "text/html": [
       "<div>\n",
       "<style>\n",
       "    .dataframe thead tr:only-child th {\n",
       "        text-align: right;\n",
       "    }\n",
       "\n",
       "    .dataframe thead th {\n",
       "        text-align: left;\n",
       "    }\n",
       "\n",
       "    .dataframe tbody tr th {\n",
       "        vertical-align: top;\n",
       "    }\n",
       "</style>\n",
       "<table border=\"1\" class=\"dataframe\">\n",
       "  <thead>\n",
       "    <tr style=\"text-align: right;\">\n",
       "      <th></th>\n",
       "      <th>reviewerID</th>\n",
       "      <th>asin</th>\n",
       "      <th>reviewerName</th>\n",
       "      <th>helpful</th>\n",
       "      <th>reviewText</th>\n",
       "      <th>overall</th>\n",
       "      <th>summary</th>\n",
       "      <th>unixReviewTime</th>\n",
       "      <th>reviewTime</th>\n",
       "    </tr>\n",
       "  </thead>\n",
       "  <tbody>\n",
       "    <tr>\n",
       "      <th>0</th>\n",
       "      <td>A9DMTMLFR9CO5</td>\n",
       "      <td>0001393774</td>\n",
       "      <td>Albert Luguterah</td>\n",
       "      <td>[0, 0]</td>\n",
       "      <td>fantastic. old time religion is good for me. t...</td>\n",
       "      <td>5.0</td>\n",
       "      <td>i love it</td>\n",
       "      <td>1377907200</td>\n",
       "      <td>08 31, 2013</td>\n",
       "    </tr>\n",
       "    <tr>\n",
       "      <th>1</th>\n",
       "      <td>AHG1GTQZUYNJN</td>\n",
       "      <td>0001393774</td>\n",
       "      <td>CAROLYNE CHAMBERLAIN</td>\n",
       "      <td>[0, 0]</td>\n",
       "      <td>I HAD THE ALBUM FOR YEARS AGO ....AND I AM VER...</td>\n",
       "      <td>5.0</td>\n",
       "      <td>PURE JOY!</td>\n",
       "      <td>1372723200</td>\n",
       "      <td>07 2, 2013</td>\n",
       "    </tr>\n",
       "    <tr>\n",
       "      <th>2</th>\n",
       "      <td>A2TFO7NREP2B2D</td>\n",
       "      <td>0001393774</td>\n",
       "      <td>cindy terpening_smith</td>\n",
       "      <td>[0, 0]</td>\n",
       "      <td>Pure praise to throne room. He had a unique st...</td>\n",
       "      <td>5.0</td>\n",
       "      <td>pure</td>\n",
       "      <td>1396396800</td>\n",
       "      <td>04 2, 2014</td>\n",
       "    </tr>\n",
       "    <tr>\n",
       "      <th>3</th>\n",
       "      <td>A2YAPAG1IPNK7K</td>\n",
       "      <td>0001393774</td>\n",
       "      <td>diane tousley</td>\n",
       "      <td>[0, 0]</td>\n",
       "      <td>I have always loved Keith Green's music and ha...</td>\n",
       "      <td>5.0</td>\n",
       "      <td>Love this CD!</td>\n",
       "      <td>1392422400</td>\n",
       "      <td>02 15, 2014</td>\n",
       "    </tr>\n",
       "    <tr>\n",
       "      <th>4</th>\n",
       "      <td>AEKGGV851HY3K</td>\n",
       "      <td>0001393774</td>\n",
       "      <td>D. MILLS</td>\n",
       "      <td>[13, 15]</td>\n",
       "      <td>Keith Green had a passionate love for Jesus.  ...</td>\n",
       "      <td>5.0</td>\n",
       "      <td>Passionate Faith Is Contagious</td>\n",
       "      <td>1130803200</td>\n",
       "      <td>11 1, 2005</td>\n",
       "    </tr>\n",
       "  </tbody>\n",
       "</table>\n",
       "</div>"
      ],
      "text/plain": [
       "       reviewerID        asin           reviewerName   helpful  \\\n",
       "0   A9DMTMLFR9CO5  0001393774       Albert Luguterah    [0, 0]   \n",
       "1   AHG1GTQZUYNJN  0001393774   CAROLYNE CHAMBERLAIN    [0, 0]   \n",
       "2  A2TFO7NREP2B2D  0001393774  cindy terpening_smith    [0, 0]   \n",
       "3  A2YAPAG1IPNK7K  0001393774          diane tousley    [0, 0]   \n",
       "4   AEKGGV851HY3K  0001393774               D. MILLS  [13, 15]   \n",
       "\n",
       "                                          reviewText  overall  \\\n",
       "0  fantastic. old time religion is good for me. t...      5.0   \n",
       "1  I HAD THE ALBUM FOR YEARS AGO ....AND I AM VER...      5.0   \n",
       "2  Pure praise to throne room. He had a unique st...      5.0   \n",
       "3  I have always loved Keith Green's music and ha...      5.0   \n",
       "4  Keith Green had a passionate love for Jesus.  ...      5.0   \n",
       "\n",
       "                          summary  unixReviewTime   reviewTime  \n",
       "0                       i love it      1377907200  08 31, 2013  \n",
       "1                       PURE JOY!      1372723200   07 2, 2013  \n",
       "2                            pure      1396396800   04 2, 2014  \n",
       "3                   Love this CD!      1392422400  02 15, 2014  \n",
       "4  Passionate Faith Is Contagious      1130803200   11 1, 2005  "
      ]
     },
     "execution_count": 22,
     "metadata": {},
     "output_type": "execute_result"
    }
   ],
   "source": [
    "print(reviews_df.shape)\n",
    "reviews_df.head()"
   ]
  },
  {
   "cell_type": "code",
   "execution_count": 26,
   "metadata": {
    "collapsed": true
   },
   "outputs": [],
   "source": [
    "all_musicians_asins = pd.concat((meta_dead_musicians['asin'], meta_control_musicians['asin']))\n",
    "\n",
    "def clean_reviews(review_df):\n",
    "    filtered_reviews = reviews_df[reviews_df['asin'].isin(all_musicians_asins)]\n",
    "    filtered_reviews = filtered_reviews[['asin','reviewText','summary','reviewTime']]\n",
    "    filtered_reviews['reviewTime'] = list(pd.to_datetime(filtered_reviews['reviewTime'].str.replace(',','').str.replace(' ','-')))\n",
    "    #filtered_reviews = filtered_reviews.drop('reviewTime',axis=1)\n",
    "    \n",
    "    return filtered_reviews"
   ]
  },
  {
   "cell_type": "code",
   "execution_count": 27,
   "metadata": {
    "collapsed": true
   },
   "outputs": [],
   "source": [
    "filtered_reviews = clean_reviews(reviews_df)"
   ]
  },
  {
   "cell_type": "code",
   "execution_count": 28,
   "metadata": {},
   "outputs": [
    {
     "data": {
      "text/html": [
       "<div>\n",
       "<style>\n",
       "    .dataframe thead tr:only-child th {\n",
       "        text-align: right;\n",
       "    }\n",
       "\n",
       "    .dataframe thead th {\n",
       "        text-align: left;\n",
       "    }\n",
       "\n",
       "    .dataframe tbody tr th {\n",
       "        vertical-align: top;\n",
       "    }\n",
       "</style>\n",
       "<table border=\"1\" class=\"dataframe\">\n",
       "  <thead>\n",
       "    <tr style=\"text-align: right;\">\n",
       "      <th></th>\n",
       "      <th></th>\n",
       "      <th>reviewText</th>\n",
       "      <th>summary</th>\n",
       "    </tr>\n",
       "    <tr>\n",
       "      <th>asin</th>\n",
       "      <th>reviewTime</th>\n",
       "      <th></th>\n",
       "      <th></th>\n",
       "    </tr>\n",
       "  </thead>\n",
       "  <tbody>\n",
       "    <tr>\n",
       "      <th>0563494255</th>\n",
       "      <th>2013-11-02</th>\n",
       "      <td>Why I like it goes without saying, it is Agath...</td>\n",
       "      <td>Listening to the story unfold allows you to us...</td>\n",
       "    </tr>\n",
       "    <tr>\n",
       "      <th rowspan=\"4\" valign=\"top\">073890015X</th>\n",
       "      <th>2000-01-29</th>\n",
       "      <td>i just kicked its just that simple if you were...</td>\n",
       "      <td>i loved it</td>\n",
       "    </tr>\n",
       "    <tr>\n",
       "      <th>2006-06-02</th>\n",
       "      <td>I'm really tired by all this \"metal\" stuff. It...</td>\n",
       "      <td>in case my previous review gets edited for con...</td>\n",
       "    </tr>\n",
       "    <tr>\n",
       "      <th>2013-09-11</th>\n",
       "      <td>ok I guess a little over 2 hours was not enoug...</td>\n",
       "      <td>great late 90's concert</td>\n",
       "    </tr>\n",
       "    <tr>\n",
       "      <th>2000-07-16</th>\n",
       "      <td>I saw the show live, and enjoyed it very much....</td>\n",
       "      <td>great show, terrible coverage</td>\n",
       "    </tr>\n",
       "  </tbody>\n",
       "</table>\n",
       "</div>"
      ],
      "text/plain": [
       "                                                              reviewText  \\\n",
       "asin       reviewTime                                                      \n",
       "0563494255 2013-11-02  Why I like it goes without saying, it is Agath...   \n",
       "073890015X 2000-01-29  i just kicked its just that simple if you were...   \n",
       "           2006-06-02  I'm really tired by all this \"metal\" stuff. It...   \n",
       "           2013-09-11  ok I guess a little over 2 hours was not enoug...   \n",
       "           2000-07-16  I saw the show live, and enjoyed it very much....   \n",
       "\n",
       "                                                                 summary  \n",
       "asin       reviewTime                                                     \n",
       "0563494255 2013-11-02  Listening to the story unfold allows you to us...  \n",
       "073890015X 2000-01-29                                         i loved it  \n",
       "           2006-06-02  in case my previous review gets edited for con...  \n",
       "           2013-09-11                            great late 90's concert  \n",
       "           2000-07-16                      great show, terrible coverage  "
      ]
     },
     "execution_count": 28,
     "metadata": {},
     "output_type": "execute_result"
    }
   ],
   "source": [
    "#filtered_reviews['reviewTime'] = filtered_reviews['ReviewTime']\n",
    "filtered_reviews.set_index(['asin', 'reviewTime']).head()"
   ]
  },
  {
   "cell_type": "code",
   "execution_count": 29,
   "metadata": {},
   "outputs": [
    {
     "data": {
      "text/plain": [
       "(367153, 4)"
      ]
     },
     "execution_count": 29,
     "metadata": {},
     "output_type": "execute_result"
    }
   ],
   "source": [
    "filtered_reviews.shape"
   ]
  },
  {
   "cell_type": "markdown",
   "metadata": {},
   "source": [
    "## 7) Matching meta/dead data with review data"
   ]
  },
  {
   "cell_type": "code",
   "execution_count": 30,
   "metadata": {
    "collapsed": true
   },
   "outputs": [],
   "source": [
    "#metactors = meta_dead_actors[['asin','name','death date', 'title','categories','salesRank']].reset_index() #.set_index(['name','death date','asin'])"
   ]
  },
  {
   "cell_type": "code",
   "execution_count": 31,
   "metadata": {
    "collapsed": true
   },
   "outputs": [],
   "source": [
    "pd.options.mode.chained_assignment = None  # default='warn'\n",
    "\n",
    "def matching_meta_reviews(filtered_reviews, meta_in):\n",
    "    \n",
    "    processed_reviews = pd.DataFrame()\n",
    "\n",
    "    meta = meta_in.reset_index()    \n",
    "    \n",
    "    for idx, asin in enumerate(meta['asin']):\n",
    "        match_reviews = pd.DataFrame()\n",
    "        match_reviews = filtered_reviews[filtered_reviews['asin']==asin]\n",
    "        \n",
    "        match_reviews['name'] = meta['name'].get_value(idx)\n",
    "        match_reviews['death date'] = meta['death date'].get_value(idx)\n",
    "        match_reviews['birth date'] = meta['birth date'].get_value(idx)\n",
    "        #match_reviews['title'] = meta['title'].get_value(idx)\n",
    "        #match_reviews['categories'] = clean_serie(meta['categories']).get_value(idx)\n",
    "        #match_reviews['salesRank'] = clean_serie(meta['salesRank']).get_value(idx)\n",
    "\n",
    "        processed_reviews = processed_reviews.append(match_reviews)\n",
    "\n",
    "        if idx %1000 == 0: \n",
    "            print('{} in {} done'.format(idx, len(meta['asin'])))\n",
    "            #break\n",
    "        \n",
    "    return processed_reviews"
   ]
  },
  {
   "cell_type": "code",
   "execution_count": 32,
   "metadata": {},
   "outputs": [
    {
     "name": "stdout",
     "output_type": "stream",
     "text": [
      "0 in 26173 done\n",
      "1000 in 26173 done\n",
      "2000 in 26173 done\n",
      "3000 in 26173 done\n",
      "4000 in 26173 done\n",
      "5000 in 26173 done\n",
      "6000 in 26173 done\n",
      "7000 in 26173 done\n",
      "8000 in 26173 done\n",
      "9000 in 26173 done\n",
      "10000 in 26173 done\n",
      "11000 in 26173 done\n",
      "12000 in 26173 done\n",
      "13000 in 26173 done\n",
      "14000 in 26173 done\n",
      "15000 in 26173 done\n",
      "16000 in 26173 done\n",
      "17000 in 26173 done\n",
      "18000 in 26173 done\n",
      "19000 in 26173 done\n",
      "20000 in 26173 done\n",
      "21000 in 26173 done\n",
      "22000 in 26173 done\n",
      "23000 in 26173 done\n",
      "24000 in 26173 done\n",
      "25000 in 26173 done\n",
      "26000 in 26173 done\n"
     ]
    }
   ],
   "source": [
    "processed_reviews_sbj = pd.DataFrame(matching_meta_reviews(filtered_reviews, meta_dead_musicians))"
   ]
  },
  {
   "cell_type": "code",
   "execution_count": 33,
   "metadata": {},
   "outputs": [
    {
     "data": {
      "text/html": [
       "<div>\n",
       "<style>\n",
       "    .dataframe thead tr:only-child th {\n",
       "        text-align: right;\n",
       "    }\n",
       "\n",
       "    .dataframe thead th {\n",
       "        text-align: left;\n",
       "    }\n",
       "\n",
       "    .dataframe tbody tr th {\n",
       "        vertical-align: top;\n",
       "    }\n",
       "</style>\n",
       "<table border=\"1\" class=\"dataframe\">\n",
       "  <thead>\n",
       "    <tr style=\"text-align: right;\">\n",
       "      <th></th>\n",
       "      <th>asin</th>\n",
       "      <th>reviewText</th>\n",
       "      <th>summary</th>\n",
       "      <th>reviewTime</th>\n",
       "      <th>name</th>\n",
       "      <th>death date</th>\n",
       "      <th>birth date</th>\n",
       "    </tr>\n",
       "  </thead>\n",
       "  <tbody>\n",
       "    <tr>\n",
       "      <th>2685909</th>\n",
       "      <td>B000KB9Y6U</td>\n",
       "      <td>I bought this item because it did not say vyna...</td>\n",
       "      <td>Should be more descriptive in the title.</td>\n",
       "      <td>2013-05-23</td>\n",
       "      <td>paul delph</td>\n",
       "      <td>1996-05-21</td>\n",
       "      <td>1957</td>\n",
       "    </tr>\n",
       "    <tr>\n",
       "      <th>2685910</th>\n",
       "      <td>B000KB9Y6U</td>\n",
       "      <td>Chrissy Faith is wonderful I must say!!  What ...</td>\n",
       "      <td>You should listen this!!</td>\n",
       "      <td>2013-11-09</td>\n",
       "      <td>paul delph</td>\n",
       "      <td>1996-05-21</td>\n",
       "      <td>1957</td>\n",
       "    </tr>\n",
       "    <tr>\n",
       "      <th>2685911</th>\n",
       "      <td>B000KB9Y6U</td>\n",
       "      <td>this product came quickly and there were no is...</td>\n",
       "      <td>great music</td>\n",
       "      <td>2013-04-26</td>\n",
       "      <td>paul delph</td>\n",
       "      <td>1996-05-21</td>\n",
       "      <td>1957</td>\n",
       "    </tr>\n",
       "    <tr>\n",
       "      <th>2549964</th>\n",
       "      <td>B000EU1H44</td>\n",
       "      <td>To put it short - the sounds are very explorat...</td>\n",
       "      <td>Enchanting</td>\n",
       "      <td>2008-07-11</td>\n",
       "      <td>jacob druckman</td>\n",
       "      <td>1996-05-24</td>\n",
       "      <td>1928</td>\n",
       "    </tr>\n",
       "    <tr>\n",
       "      <th>2696697</th>\n",
       "      <td>B000LP4O1K</td>\n",
       "      <td>This is a delightful recording. It's lite enou...</td>\n",
       "      <td>Pleasing</td>\n",
       "      <td>2011-05-19</td>\n",
       "      <td>jacob druckman</td>\n",
       "      <td>1996-05-24</td>\n",
       "      <td>1928</td>\n",
       "    </tr>\n",
       "  </tbody>\n",
       "</table>\n",
       "</div>"
      ],
      "text/plain": [
       "               asin                                         reviewText  \\\n",
       "2685909  B000KB9Y6U  I bought this item because it did not say vyna...   \n",
       "2685910  B000KB9Y6U  Chrissy Faith is wonderful I must say!!  What ...   \n",
       "2685911  B000KB9Y6U  this product came quickly and there were no is...   \n",
       "2549964  B000EU1H44  To put it short - the sounds are very explorat...   \n",
       "2696697  B000LP4O1K  This is a delightful recording. It's lite enou...   \n",
       "\n",
       "                                          summary reviewTime            name  \\\n",
       "2685909  Should be more descriptive in the title. 2013-05-23      paul delph   \n",
       "2685910                  You should listen this!! 2013-11-09      paul delph   \n",
       "2685911                               great music 2013-04-26      paul delph   \n",
       "2549964                                Enchanting 2008-07-11  jacob druckman   \n",
       "2696697                                  Pleasing 2011-05-19  jacob druckman   \n",
       "\n",
       "         death date  birth date  \n",
       "2685909  1996-05-21        1957  \n",
       "2685910  1996-05-21        1957  \n",
       "2685911  1996-05-21        1957  \n",
       "2549964  1996-05-24        1928  \n",
       "2696697  1996-05-24        1928  "
      ]
     },
     "execution_count": 33,
     "metadata": {},
     "output_type": "execute_result"
    }
   ],
   "source": [
    "processed_reviews_sbj.head()"
   ]
  },
  {
   "cell_type": "markdown",
   "metadata": {},
   "source": [
    "## 8) Matching controls and reviews"
   ]
  },
  {
   "cell_type": "code",
   "execution_count": 34,
   "metadata": {},
   "outputs": [
    {
     "name": "stdout",
     "output_type": "stream",
     "text": [
      "0 in 10857 done\n",
      "1000 in 10857 done\n",
      "2000 in 10857 done\n",
      "3000 in 10857 done\n",
      "4000 in 10857 done\n",
      "5000 in 10857 done\n",
      "6000 in 10857 done\n",
      "7000 in 10857 done\n",
      "8000 in 10857 done\n",
      "9000 in 10857 done\n",
      "10000 in 10857 done\n"
     ]
    }
   ],
   "source": [
    "processed_reviews_ctrls = pd.DataFrame(matching_meta_reviews(filtered_reviews, meta_control_musicians))"
   ]
  },
  {
   "cell_type": "markdown",
   "metadata": {},
   "source": [
    "## Save files"
   ]
  },
  {
   "cell_type": "code",
   "execution_count": 36,
   "metadata": {},
   "outputs": [],
   "source": [
    "processed_reviews_sbj.to_csv('DATA/review_filtered/music_reviews_matched_'+cps+'cps.csv')"
   ]
  },
  {
   "cell_type": "code",
   "execution_count": 37,
   "metadata": {
    "collapsed": true
   },
   "outputs": [],
   "source": [
    "processed_reviews_ctrls.to_csv('DATA/review_filtered/music_reviews_matched_'+cps+'cps_ctrls.csv')"
   ]
  },
  {
   "cell_type": "code",
   "execution_count": null,
   "metadata": {
    "collapsed": true
   },
   "outputs": [],
   "source": []
  }
 ],
 "metadata": {
  "kernelspec": {
   "display_name": "Python 3",
   "language": "python",
   "name": "python3"
  },
  "language_info": {
   "codemirror_mode": {
    "name": "ipython",
    "version": 3
   },
   "file_extension": ".py",
   "mimetype": "text/x-python",
   "name": "python",
   "nbconvert_exporter": "python",
   "pygments_lexer": "ipython3",
   "version": "3.6.3"
  }
 },
 "nbformat": 4,
 "nbformat_minor": 2
}
