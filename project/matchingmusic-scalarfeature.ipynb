{
 "cells": [
  {
   "cell_type": "code",
   "execution_count": 1,
   "metadata": {
    "collapsed": true
   },
   "outputs": [],
   "source": [
    "#essential imports\n",
    "import pandas as pd\n",
    "import numpy as np\n",
    "import json\n",
    "from pandas.io.json import json_normalize\n",
    "\n",
    "#scraping imports\n",
    "import requests\n",
    "from bs4 import BeautifulSoup\n",
    "\n",
    "#plotting imports\n",
    "%matplotlib inline\n",
    "import matplotlib.pyplot as plt\n",
    "\n",
    "#String matching\n",
    "import re\n",
    "\n",
    "# Date\n",
    "import datetime as dt\n",
    "# Sleep\n",
    "import time\n",
    "\n",
    "# Strict JSON conversion\n",
    "import json \n",
    "import gzip \n",
    "\n",
    "# Progress display\n",
    "from IPython.display import clear_output\n",
    "\n",
    "# Amazon API querying\n",
    "from amazon.api import AmazonAPI\n",
    "from amazon.api import AsinNotFound\n",
    "\n",
    "#garbage collector\n",
    "import gc\n",
    "\n",
    "cps = 4\n",
    "datapath = 'DATA/review_filtered/'\n",
    "f_subjects = datapath+'music_reviews_matched_'+str(cps)+'cps.csv'\n",
    "f_controls = datapath+'music_reviews_matched_'+str(cps)+'cps_ctrls.csv'"
   ]
  },
  {
   "cell_type": "markdown",
   "metadata": {},
   "source": [
    "# Load data"
   ]
  },
  {
   "cell_type": "code",
   "execution_count": 2,
   "metadata": {},
   "outputs": [
    {
     "data": {
      "text/html": [
       "<div>\n",
       "<style>\n",
       "    .dataframe thead tr:only-child th {\n",
       "        text-align: right;\n",
       "    }\n",
       "\n",
       "    .dataframe thead th {\n",
       "        text-align: left;\n",
       "    }\n",
       "\n",
       "    .dataframe tbody tr th {\n",
       "        vertical-align: top;\n",
       "    }\n",
       "</style>\n",
       "<table border=\"1\" class=\"dataframe\">\n",
       "  <thead>\n",
       "    <tr style=\"text-align: right;\">\n",
       "      <th></th>\n",
       "      <th>asin</th>\n",
       "      <th>reviewText</th>\n",
       "      <th>summary</th>\n",
       "      <th>strReviewTime</th>\n",
       "      <th>actor name</th>\n",
       "      <th>death date</th>\n",
       "      <th>birth date</th>\n",
       "    </tr>\n",
       "  </thead>\n",
       "  <tbody>\n",
       "    <tr>\n",
       "      <th>0</th>\n",
       "      <td>B000KB9Y6U</td>\n",
       "      <td>I bought this item because it did not say vyna...</td>\n",
       "      <td>Should be more descriptive in the title.</td>\n",
       "      <td>2013-05-23</td>\n",
       "      <td>paul delph</td>\n",
       "      <td>1996-05-21</td>\n",
       "      <td>1957</td>\n",
       "    </tr>\n",
       "    <tr>\n",
       "      <th>1</th>\n",
       "      <td>B000KB9Y6U</td>\n",
       "      <td>Chrissy Faith is wonderful I must say!!  What ...</td>\n",
       "      <td>You should listen this!!</td>\n",
       "      <td>2013-11-09</td>\n",
       "      <td>paul delph</td>\n",
       "      <td>1996-05-21</td>\n",
       "      <td>1957</td>\n",
       "    </tr>\n",
       "    <tr>\n",
       "      <th>2</th>\n",
       "      <td>B000KB9Y6U</td>\n",
       "      <td>this product came quickly and there were no is...</td>\n",
       "      <td>great music</td>\n",
       "      <td>2013-04-26</td>\n",
       "      <td>paul delph</td>\n",
       "      <td>1996-05-21</td>\n",
       "      <td>1957</td>\n",
       "    </tr>\n",
       "  </tbody>\n",
       "</table>\n",
       "</div>"
      ],
      "text/plain": [
       "         asin                                         reviewText  \\\n",
       "0  B000KB9Y6U  I bought this item because it did not say vyna...   \n",
       "1  B000KB9Y6U  Chrissy Faith is wonderful I must say!!  What ...   \n",
       "2  B000KB9Y6U  this product came quickly and there were no is...   \n",
       "\n",
       "                                    summary strReviewTime  actor name  \\\n",
       "0  Should be more descriptive in the title.    2013-05-23  paul delph   \n",
       "1                  You should listen this!!    2013-11-09  paul delph   \n",
       "2                               great music    2013-04-26  paul delph   \n",
       "\n",
       "   death date  birth date  \n",
       "0  1996-05-21        1957  \n",
       "1  1996-05-21        1957  \n",
       "2  1996-05-21        1957  "
      ]
     },
     "execution_count": 2,
     "metadata": {},
     "output_type": "execute_result"
    }
   ],
   "source": [
    "subjects_actors = pd.read_csv(f_subjects).drop('Unnamed: 0',axis=1)\n",
    "subjects_actors = subjects_actors.rename(columns={'reviewTime' : 'strReviewTime', 'name' : 'actor name'})\n",
    "subjects_actors.head(3)"
   ]
  },
  {
   "cell_type": "code",
   "execution_count": 3,
   "metadata": {},
   "outputs": [
    {
     "data": {
      "text/html": [
       "<div>\n",
       "<style>\n",
       "    .dataframe thead tr:only-child th {\n",
       "        text-align: right;\n",
       "    }\n",
       "\n",
       "    .dataframe thead th {\n",
       "        text-align: left;\n",
       "    }\n",
       "\n",
       "    .dataframe tbody tr th {\n",
       "        vertical-align: top;\n",
       "    }\n",
       "</style>\n",
       "<table border=\"1\" class=\"dataframe\">\n",
       "  <thead>\n",
       "    <tr style=\"text-align: right;\">\n",
       "      <th></th>\n",
       "      <th>asin</th>\n",
       "      <th>reviewText</th>\n",
       "      <th>summary</th>\n",
       "      <th>strReviewTime</th>\n",
       "      <th>actor name</th>\n",
       "      <th>death date</th>\n",
       "      <th>birth date</th>\n",
       "    </tr>\n",
       "  </thead>\n",
       "  <tbody>\n",
       "    <tr>\n",
       "      <th>0</th>\n",
       "      <td>B0002VYEHW</td>\n",
       "      <td>In a reggae universe gone mad for dancehall, T...</td>\n",
       "      <td>Plain good reggae</td>\n",
       "      <td>2005-08-23</td>\n",
       "      <td>tike jah fakoly</td>\n",
       "      <td>unknown</td>\n",
       "      <td>unknown</td>\n",
       "    </tr>\n",
       "    <tr>\n",
       "      <th>1</th>\n",
       "      <td>B0002VYEHW</td>\n",
       "      <td>Tiken Jah's \"Coup de Gueule\" is on the continu...</td>\n",
       "      <td>MBafoh Pian!!!( I Shall Say It Loud and Sound,...</td>\n",
       "      <td>2006-03-10</td>\n",
       "      <td>tike jah fakoly</td>\n",
       "      <td>unknown</td>\n",
       "      <td>unknown</td>\n",
       "    </tr>\n",
       "    <tr>\n",
       "      <th>2</th>\n",
       "      <td>B0040AT66U</td>\n",
       "      <td>This is very touching little opera. The libret...</td>\n",
       "      <td>A Mini Masterpiece</td>\n",
       "      <td>2013-05-28</td>\n",
       "      <td>patricia risley</td>\n",
       "      <td>unknown</td>\n",
       "      <td>unknown</td>\n",
       "    </tr>\n",
       "  </tbody>\n",
       "</table>\n",
       "</div>"
      ],
      "text/plain": [
       "         asin                                         reviewText  \\\n",
       "0  B0002VYEHW  In a reggae universe gone mad for dancehall, T...   \n",
       "1  B0002VYEHW  Tiken Jah's \"Coup de Gueule\" is on the continu...   \n",
       "2  B0040AT66U  This is very touching little opera. The libret...   \n",
       "\n",
       "                                             summary strReviewTime  \\\n",
       "0                                  Plain good reggae    2005-08-23   \n",
       "1  MBafoh Pian!!!( I Shall Say It Loud and Sound,...    2006-03-10   \n",
       "2                                 A Mini Masterpiece    2013-05-28   \n",
       "\n",
       "        actor name death date birth date  \n",
       "0  tike jah fakoly    unknown    unknown  \n",
       "1  tike jah fakoly    unknown    unknown  \n",
       "2  patricia risley    unknown    unknown  "
      ]
     },
     "execution_count": 3,
     "metadata": {},
     "output_type": "execute_result"
    }
   ],
   "source": [
    "controls_actors = pd.read_csv(f_controls).drop('Unnamed: 0',axis=1)\n",
    "controls_actors = controls_actors.rename(columns={'reviewTime' : 'strReviewTime', 'name' : 'actor name'})\n",
    "controls_actors.head(3)"
   ]
  },
  {
   "cell_type": "markdown",
   "metadata": {},
   "source": [
    "# Convert dates to timestamps / years"
   ]
  },
  {
   "cell_type": "markdown",
   "metadata": {},
   "source": [
    "Convert dates to year and extract and set aside actor<-> deathdates"
   ]
  },
  {
   "cell_type": "code",
   "execution_count": 4,
   "metadata": {
    "collapsed": true
   },
   "outputs": [],
   "source": [
    "#counts = subjects_actors.groupby('actor name').count()\n",
    "#subjects_actors['death date'] = pd.to_datetime('2001').year\n",
    "\n",
    "''' Takes a serie !\n",
    "'''\n",
    "def strdateToYear(date) : \n",
    "    return int(date[:4])\n",
    "\n",
    "# SUBJECTS\n",
    "subjects_actors['reviewYear'] = subjects_actors['strReviewTime'].apply(strdateToYear)\n",
    "subjects_actors['reviewTime'] = pd.to_datetime(subjects_actors['strReviewTime'])\n",
    "subjects_actors['death year'] = subjects_actors['death date'].apply(strdateToYear)\n",
    "subjects_actors['death date'] = pd.to_datetime(subjects_actors['death date'])\n",
    "\n",
    "# CONTROLS\n",
    "controls_actors['reviewYear'] = controls_actors['strReviewTime'].apply(strdateToYear)\n",
    "controls_actors['reviewTime'] = pd.to_datetime(controls_actors['strReviewTime'])"
   ]
  },
  {
   "cell_type": "markdown",
   "metadata": {},
   "source": [
    "Extract death dates and subjects names"
   ]
  },
  {
   "cell_type": "code",
   "execution_count": 5,
   "metadata": {},
   "outputs": [
    {
     "data": {
      "text/html": [
       "<div>\n",
       "<style>\n",
       "    .dataframe thead tr:only-child th {\n",
       "        text-align: right;\n",
       "    }\n",
       "\n",
       "    .dataframe thead th {\n",
       "        text-align: left;\n",
       "    }\n",
       "\n",
       "    .dataframe tbody tr th {\n",
       "        vertical-align: top;\n",
       "    }\n",
       "</style>\n",
       "<table border=\"1\" class=\"dataframe\">\n",
       "  <thead>\n",
       "    <tr style=\"text-align: right;\">\n",
       "      <th></th>\n",
       "      <th>actor name</th>\n",
       "      <th>death date</th>\n",
       "      <th>death year</th>\n",
       "    </tr>\n",
       "  </thead>\n",
       "  <tbody>\n",
       "    <tr>\n",
       "      <th>0</th>\n",
       "      <td>adrian borland</td>\n",
       "      <td>1999-04-26</td>\n",
       "      <td>1999</td>\n",
       "    </tr>\n",
       "    <tr>\n",
       "      <th>1</th>\n",
       "      <td>akira ifukube</td>\n",
       "      <td>2006-02-08</td>\n",
       "      <td>2006</td>\n",
       "    </tr>\n",
       "    <tr>\n",
       "      <th>2</th>\n",
       "      <td>al hirt</td>\n",
       "      <td>1999-04-27</td>\n",
       "      <td>1999</td>\n",
       "    </tr>\n",
       "    <tr>\n",
       "      <th>3</th>\n",
       "      <td>al martino</td>\n",
       "      <td>2009-10-13</td>\n",
       "      <td>2009</td>\n",
       "    </tr>\n",
       "    <tr>\n",
       "      <th>4</th>\n",
       "      <td>alain bashung</td>\n",
       "      <td>2009-03-14</td>\n",
       "      <td>2009</td>\n",
       "    </tr>\n",
       "  </tbody>\n",
       "</table>\n",
       "</div>"
      ],
      "text/plain": [
       "       actor name death date  death year\n",
       "0  adrian borland 1999-04-26        1999\n",
       "1   akira ifukube 2006-02-08        2006\n",
       "2         al hirt 1999-04-27        1999\n",
       "3      al martino 2009-10-13        2009\n",
       "4   alain bashung 2009-03-14        2009"
      ]
     },
     "execution_count": 5,
     "metadata": {},
     "output_type": "execute_result"
    }
   ],
   "source": [
    "deathdates = subjects_actors.groupby(['actor name','death date', 'death year']).count()\\\n",
    "                            .reset_index()[['actor name', 'death date', 'death year']]\n",
    "sbj_names = list(deathdates['actor name'])\n",
    "deathdates.head()"
   ]
  },
  {
   "cell_type": "markdown",
   "metadata": {},
   "source": [
    "Extract controls names"
   ]
  },
  {
   "cell_type": "code",
   "execution_count": 6,
   "metadata": {
    "collapsed": true
   },
   "outputs": [],
   "source": [
    "ctrl_names = list(set(controls_actors['actor name']))"
   ]
  },
  {
   "cell_type": "markdown",
   "metadata": {},
   "source": [
    "# Pre-filtering"
   ]
  },
  {
   "cell_type": "markdown",
   "metadata": {},
   "source": [
    "### Filtering on populatiry"
   ]
  },
  {
   "cell_type": "markdown",
   "metadata": {},
   "source": [
    "Filter actors based on their popularity: they should be mentioned at least once in the reviews. It is a way to be sure the reviewers know the actor."
   ]
  },
  {
   "cell_type": "code",
   "execution_count": 7,
   "metadata": {
    "collapsed": true
   },
   "outputs": [],
   "source": [
    "thresh_pop = 1\n",
    "\n",
    "def mentionsName(row) : \n",
    "    if type(row['reviewText']) is str :\n",
    "        names = row['actor name'].split(' ')\n",
    "        text =  row['reviewText'].lower()\n",
    "        # can mention only name or surname\n",
    "        #return row['actor name'] in row['reviewText']\n",
    "        for name in names : \n",
    "            if name in text : \n",
    "                return True\n",
    "        return False\n",
    "    else : return False"
   ]
  },
  {
   "cell_type": "code",
   "execution_count": 8,
   "metadata": {},
   "outputs": [
    {
     "data": {
      "text/plain": [
       "((320780, 11), (96181, 11))"
      ]
     },
     "execution_count": 8,
     "metadata": {},
     "output_type": "execute_result"
    }
   ],
   "source": [
    "subjects_actors['mentionned'] = subjects_actors.apply(mentionsName, axis=1)\n",
    "subjects_actors.shape, subjects_actors[subjects_actors['mentionned']==True].shape"
   ]
  },
  {
   "cell_type": "code",
   "execution_count": 9,
   "metadata": {},
   "outputs": [
    {
     "name": "stdout",
     "output_type": "stream",
     "text": [
      "368  reduced to (348,)\n"
     ]
    },
    {
     "data": {
      "text/plain": [
       "actor name\n",
       "the rev            9136\n",
       "johnny cash        4492\n",
       "big l              2960\n",
       "whitney houston    2392\n",
       "john denver        2139\n",
       "lou reed           2066\n",
       "ella fitzgerald    1706\n",
       "ray charles        1642\n",
       "george jones       1585\n",
       "donna summer       1535\n",
       "Name: asin, dtype: int64"
      ]
     },
     "execution_count": 9,
     "metadata": {},
     "output_type": "execute_result"
    }
   ],
   "source": [
    "## Not necessarily needed, count of mentions are still in the reviews dataframe\n",
    "##\n",
    "sbj_popular = subjects_actors[subjects_actors['mentionned']==True]\n",
    "sbj_popular = sbj_popular.groupby('actor name').count()['asin']\n",
    "print(len(sbj_names), \" reduced to\", sbj_popular.shape)\n",
    "sbj_popular.sort_values(ascending=False)[:10]"
   ]
  },
  {
   "cell_type": "code",
   "execution_count": 10,
   "metadata": {},
   "outputs": [
    {
     "data": {
      "text/plain": [
       "((119120, 10), (38852, 10))"
      ]
     },
     "execution_count": 10,
     "metadata": {},
     "output_type": "execute_result"
    }
   ],
   "source": [
    "controls_actors['mentionned'] = controls_actors.apply(mentionsName, axis=1)\n",
    "controls_actors.shape, controls_actors[controls_actors['mentionned']==True].shape"
   ]
  },
  {
   "cell_type": "code",
   "execution_count": 11,
   "metadata": {},
   "outputs": [
    {
     "name": "stdout",
     "output_type": "stream",
     "text": [
      "1640  reduced to (1258,)\n"
     ]
    },
    {
     "data": {
      "text/plain": [
       "actor name\n",
       "elvis presley        6307\n",
       "andrea bocelli       2499\n",
       "george harrison      2337\n",
       "diana ross           1614\n",
       "toni braxton         1125\n",
       "loreena mckennitt    1028\n",
       "steve winwood         806\n",
       "scott weiland         766\n",
       "tim buckley           677\n",
       "rory gallagher        617\n",
       "Name: asin, dtype: int64"
      ]
     },
     "execution_count": 11,
     "metadata": {},
     "output_type": "execute_result"
    }
   ],
   "source": [
    "## Not necessarily needed, count of mentions are still in the reviews dataframe\n",
    "##\n",
    "ctl_popular = controls_actors[controls_actors['mentionned']==True]\n",
    "ctl_popular = ctl_popular.groupby('actor name').count()['asin']\n",
    "print(len(ctrl_names), \" reduced to\", ctl_popular.shape)\n",
    "ctl_popular.sort_values(ascending=False)[:10]"
   ]
  },
  {
   "cell_type": "markdown",
   "metadata": {},
   "source": [
    "### Filtering on date (2004-2013)"
   ]
  },
  {
   "cell_type": "code",
   "execution_count": 12,
   "metadata": {
    "scrolled": false
   },
   "outputs": [
    {
     "name": "stdout",
     "output_type": "stream",
     "text": [
      "original size :  (320780, 11)\n",
      "filtered size :  (320780, 11)\n"
     ]
    },
    {
     "data": {
      "text/html": [
       "<div>\n",
       "<style>\n",
       "    .dataframe thead tr:only-child th {\n",
       "        text-align: right;\n",
       "    }\n",
       "\n",
       "    .dataframe thead th {\n",
       "        text-align: left;\n",
       "    }\n",
       "\n",
       "    .dataframe tbody tr th {\n",
       "        vertical-align: top;\n",
       "    }\n",
       "</style>\n",
       "<table border=\"1\" class=\"dataframe\">\n",
       "  <thead>\n",
       "    <tr style=\"text-align: right;\">\n",
       "      <th></th>\n",
       "      <th>asin</th>\n",
       "      <th>reviewText</th>\n",
       "      <th>summary</th>\n",
       "      <th>strReviewTime</th>\n",
       "      <th>actor name</th>\n",
       "      <th>death date</th>\n",
       "      <th>birth date</th>\n",
       "      <th>reviewYear</th>\n",
       "      <th>reviewTime</th>\n",
       "      <th>death year</th>\n",
       "      <th>mentionned</th>\n",
       "    </tr>\n",
       "  </thead>\n",
       "  <tbody>\n",
       "    <tr>\n",
       "      <th>0</th>\n",
       "      <td>B000KB9Y6U</td>\n",
       "      <td>I bought this item because it did not say vyna...</td>\n",
       "      <td>Should be more descriptive in the title.</td>\n",
       "      <td>2013-05-23</td>\n",
       "      <td>paul delph</td>\n",
       "      <td>1996-05-21</td>\n",
       "      <td>1957</td>\n",
       "      <td>2013</td>\n",
       "      <td>2013-05-23</td>\n",
       "      <td>1996</td>\n",
       "      <td>False</td>\n",
       "    </tr>\n",
       "    <tr>\n",
       "      <th>1</th>\n",
       "      <td>B000KB9Y6U</td>\n",
       "      <td>Chrissy Faith is wonderful I must say!!  What ...</td>\n",
       "      <td>You should listen this!!</td>\n",
       "      <td>2013-11-09</td>\n",
       "      <td>paul delph</td>\n",
       "      <td>1996-05-21</td>\n",
       "      <td>1957</td>\n",
       "      <td>2013</td>\n",
       "      <td>2013-11-09</td>\n",
       "      <td>1996</td>\n",
       "      <td>False</td>\n",
       "    </tr>\n",
       "    <tr>\n",
       "      <th>2</th>\n",
       "      <td>B000KB9Y6U</td>\n",
       "      <td>this product came quickly and there were no is...</td>\n",
       "      <td>great music</td>\n",
       "      <td>2013-04-26</td>\n",
       "      <td>paul delph</td>\n",
       "      <td>1996-05-21</td>\n",
       "      <td>1957</td>\n",
       "      <td>2013</td>\n",
       "      <td>2013-04-26</td>\n",
       "      <td>1996</td>\n",
       "      <td>False</td>\n",
       "    </tr>\n",
       "  </tbody>\n",
       "</table>\n",
       "</div>"
      ],
      "text/plain": [
       "         asin                                         reviewText  \\\n",
       "0  B000KB9Y6U  I bought this item because it did not say vyna...   \n",
       "1  B000KB9Y6U  Chrissy Faith is wonderful I must say!!  What ...   \n",
       "2  B000KB9Y6U  this product came quickly and there were no is...   \n",
       "\n",
       "                                    summary strReviewTime  actor name  \\\n",
       "0  Should be more descriptive in the title.    2013-05-23  paul delph   \n",
       "1                  You should listen this!!    2013-11-09  paul delph   \n",
       "2                               great music    2013-04-26  paul delph   \n",
       "\n",
       "  death date  birth date  reviewYear reviewTime  death year  mentionned  \n",
       "0 1996-05-21        1957        2013 2013-05-23        1996       False  \n",
       "1 1996-05-21        1957        2013 2013-11-09        1996       False  \n",
       "2 1996-05-21        1957        2013 2013-04-26        1996       False  "
      ]
     },
     "execution_count": 12,
     "metadata": {},
     "output_type": "execute_result"
    }
   ],
   "source": [
    "start = 1996\n",
    "end = 2014\n",
    "\n",
    "print('original size : ', subjects_actors.shape)\n",
    "subjects_inTime = subjects_actors[    (subjects_actors['death year']>=start) \\\n",
    "                                    & (subjects_actors['death year']<=end)]\n",
    "print('filtered size : ', subjects_inTime.shape)\n",
    "subjects_inTime.head(3)"
   ]
  },
  {
   "cell_type": "markdown",
   "metadata": {},
   "source": [
    "# Get matching features"
   ]
  },
  {
   "cell_type": "markdown",
   "metadata": {},
   "source": [
    "Extract features for subjects"
   ]
  },
  {
   "cell_type": "code",
   "execution_count": 13,
   "metadata": {
    "scrolled": false
   },
   "outputs": [
    {
     "data": {
      "text/html": [
       "<div>\n",
       "<style>\n",
       "    .dataframe thead tr:only-child th {\n",
       "        text-align: right;\n",
       "    }\n",
       "\n",
       "    .dataframe thead th {\n",
       "        text-align: left;\n",
       "    }\n",
       "\n",
       "    .dataframe tbody tr th {\n",
       "        vertical-align: top;\n",
       "    }\n",
       "</style>\n",
       "<table border=\"1\" class=\"dataframe\">\n",
       "  <thead>\n",
       "    <tr style=\"text-align: right;\">\n",
       "      <th></th>\n",
       "      <th>reviews</th>\n",
       "      <th>actor name</th>\n",
       "      <th>death year</th>\n",
       "    </tr>\n",
       "  </thead>\n",
       "  <tbody>\n",
       "    <tr>\n",
       "      <th>290</th>\n",
       "      <td>2109</td>\n",
       "      <td>proof</td>\n",
       "      <td>2006</td>\n",
       "    </tr>\n",
       "    <tr>\n",
       "      <th>160</th>\n",
       "      <td>1002</td>\n",
       "      <td>james brown</td>\n",
       "      <td>2006</td>\n",
       "    </tr>\n",
       "    <tr>\n",
       "      <th>219</th>\n",
       "      <td>577</td>\n",
       "      <td>lorin maazel</td>\n",
       "      <td>2014</td>\n",
       "    </tr>\n",
       "    <tr>\n",
       "      <th>335</th>\n",
       "      <td>477</td>\n",
       "      <td>the rev</td>\n",
       "      <td>2009</td>\n",
       "    </tr>\n",
       "    <tr>\n",
       "      <th>230</th>\n",
       "      <td>429</td>\n",
       "      <td>luther vandross</td>\n",
       "      <td>2005</td>\n",
       "    </tr>\n",
       "  </tbody>\n",
       "</table>\n",
       "</div>"
      ],
      "text/plain": [
       "     reviews       actor name  death year\n",
       "290     2109            proof        2006\n",
       "160     1002      james brown        2006\n",
       "219      577     lorin maazel        2014\n",
       "335      477          the rev        2009\n",
       "230      429  luther vandross        2005"
      ]
     },
     "execution_count": 13,
     "metadata": {},
     "output_type": "execute_result"
    }
   ],
   "source": [
    "# SUBJECTS COUNTS BY YEAR\n",
    "subjects_revs = subjects_actors.groupby(['actor name','reviewYear']).count()\n",
    "\n",
    "\n",
    "def getreview(actor, year) : \n",
    "    try : \n",
    "        val = subjects_revs.loc[actor, year]['asin']\n",
    "        return val\n",
    "    except TypeError :\n",
    "        return 0\n",
    "    \n",
    "\n",
    "# FILTER TO GET THE DEATH YEAR COUNT - 1\n",
    "subjects_feats = deathdates[1:].apply(lambda row : getreview(row['actor name'], int(row['death year'])-1), axis=1)\n",
    "subjects_feats = pd.DataFrame(subjects_feats, columns=['reviews'])\n",
    "subjects_feats['actor name'] = deathdates['actor name']\n",
    "subjects_feats['death year'] = deathdates['death year']\n",
    "\n",
    "subjects_feats.sort_values(by='reviews', ascending=False).head()"
   ]
  },
  {
   "cell_type": "markdown",
   "metadata": {},
   "source": [
    "Extract features for subjects"
   ]
  },
  {
   "cell_type": "code",
   "execution_count": 14,
   "metadata": {
    "collapsed": true
   },
   "outputs": [],
   "source": [
    "controls_revs = controls_actors.groupby(['actor name','reviewYear'])\\\n",
    "                                .count()['asin']\\\n",
    "                                .to_frame().reset_index()"
   ]
  },
  {
   "cell_type": "code",
   "execution_count": 15,
   "metadata": {},
   "outputs": [
    {
     "data": {
      "text/html": [
       "<div>\n",
       "<style>\n",
       "    .dataframe thead tr:only-child th {\n",
       "        text-align: right;\n",
       "    }\n",
       "\n",
       "    .dataframe thead th {\n",
       "        text-align: left;\n",
       "    }\n",
       "\n",
       "    .dataframe tbody tr th {\n",
       "        vertical-align: top;\n",
       "    }\n",
       "</style>\n",
       "<table border=\"1\" class=\"dataframe\">\n",
       "  <thead>\n",
       "    <tr style=\"text-align: right;\">\n",
       "      <th></th>\n",
       "      <th>actor name</th>\n",
       "      <th>reviewYear</th>\n",
       "      <th>asin</th>\n",
       "    </tr>\n",
       "  </thead>\n",
       "  <tbody>\n",
       "    <tr>\n",
       "      <th>7801</th>\n",
       "      <td>ã?ico membiela</td>\n",
       "      <td>2012</td>\n",
       "      <td>2</td>\n",
       "    </tr>\n",
       "    <tr>\n",
       "      <th>7797</th>\n",
       "      <td>ã?ico membiela</td>\n",
       "      <td>2003</td>\n",
       "      <td>1</td>\n",
       "    </tr>\n",
       "    <tr>\n",
       "      <th>7798</th>\n",
       "      <td>ã?ico membiela</td>\n",
       "      <td>2007</td>\n",
       "      <td>1</td>\n",
       "    </tr>\n",
       "    <tr>\n",
       "      <th>7799</th>\n",
       "      <td>ã?ico membiela</td>\n",
       "      <td>2010</td>\n",
       "      <td>1</td>\n",
       "    </tr>\n",
       "    <tr>\n",
       "      <th>7800</th>\n",
       "      <td>ã?ico membiela</td>\n",
       "      <td>2011</td>\n",
       "      <td>1</td>\n",
       "    </tr>\n",
       "  </tbody>\n",
       "</table>\n",
       "</div>"
      ],
      "text/plain": [
       "          actor name  reviewYear  asin\n",
       "7801  ã?ico membiela        2012     2\n",
       "7797  ã?ico membiela        2003     1\n",
       "7798  ã?ico membiela        2007     1\n",
       "7799  ã?ico membiela        2010     1\n",
       "7800  ã?ico membiela        2011     1"
      ]
     },
     "execution_count": 15,
     "metadata": {},
     "output_type": "execute_result"
    }
   ],
   "source": [
    "controls_revs.sort_values(by=['actor name', 'asin'], ascending=False).head()"
   ]
  },
  {
   "cell_type": "markdown",
   "metadata": {},
   "source": [
    "# Matching"
   ]
  },
  {
   "cell_type": "markdown",
   "metadata": {},
   "source": [
    "Construct a matching function per subject"
   ]
  },
  {
   "cell_type": "code",
   "execution_count": 16,
   "metadata": {
    "collapsed": true
   },
   "outputs": [],
   "source": [
    "def match(actorname, threshold, ctrl_revs) : \n",
    "\n",
    "    # extract the useful features for the subject \n",
    "    sbj_actor = subjects_feats[subjects_feats['actor name'] == actorname]\n",
    "    deathyear = int(sbj_actor['death year'])\n",
    "    sbj_revs = int(sbj_actor['reviews'])\n",
    "    \n",
    "    #find the non zero reviews count for the year preceding the death of the subject\n",
    "    mapp = (ctrl_revs['reviewYear']==(deathyear-1))\n",
    "    \n",
    "    \n",
    "    if (sbj_revs == 0) and (not ctrl_revs[mapp==False].empty):\n",
    "        \n",
    "        # zero count subjects are matched with zero count controls \n",
    "        matched_name = ctrl_revs[mapp==False].reset_index()['actor name'].get_value(0)\n",
    "        matched_count = 0\n",
    "        \n",
    "        # delete the matched control \n",
    "        ctrl_revs = ctrl_revs[ctrl_revs['actor name'].isin([matched_name])==False]\n",
    "        \n",
    "        return matched_name, matched_count, ctrl_revs\n",
    "    \n",
    "    \n",
    "    if mapp.any():\n",
    "        \n",
    "        for row in ctrl_revs[mapp].iterrows():\n",
    "            #print(np.abs(sbj_revs-row[1]['asin']))\n",
    "                   \n",
    "            if np.abs(sbj_revs-row[1]['asin']) < threshold :\n",
    "                \n",
    "                matched_name = row[1]['actor name']\n",
    "                matched_count = row[1]['asin']\n",
    "                \n",
    "                # delete the matched control\n",
    "                ctrl_revs = ctrl_revs[ctrl_revs['actor name'].isin([matched_name])==False]\n",
    "                \n",
    "                return matched_name, matched_count, ctrl_revs\n",
    "    else:\n",
    "        \n",
    "        matched_name = ctrl_revs.reset_index()['actor name'].get_value(0)\n",
    "        matched_count = 0\n",
    "        \n",
    "        #delete the matched control\n",
    "        ctrl_revs = ctrl_revs[ctrl_revs['actor name'].isin([matched_name])==False]\n",
    "        \n",
    "        return matched_name, matched_count, ctrl_revs\n",
    "    \n",
    "    \n",
    "    return 0, 0, ctrl_revs  \n"
   ]
  },
  {
   "cell_type": "code",
   "execution_count": 17,
   "metadata": {},
   "outputs": [
    {
     "name": "stdout",
     "output_type": "stream",
     "text": [
      "1640 368\n"
     ]
    }
   ],
   "source": [
    "ctrl_revs = controls_revs.copy()\n",
    "\n",
    "print(len(ctrl_names), len(sbj_names))"
   ]
  },
  {
   "cell_type": "code",
   "execution_count": 18,
   "metadata": {
    "scrolled": false
   },
   "outputs": [
    {
     "name": "stdout",
     "output_type": "stream",
     "text": [
      "0 out of  367\n",
      "proof reached threshold  51\n",
      "proof reached threshold  63\n",
      "proof reached threshold  1113\n",
      "proof reached threshold  1391\n",
      "james brown reached threshold  51\n",
      "james brown reached threshold  63\n",
      "lou reed reached threshold  51\n",
      "lou reed reached threshold  63\n",
      "johnny cash reached threshold  51\n",
      "etta james reached threshold  51\n",
      "etta james reached threshold  63\n",
      "billy preston reached threshold  51\n",
      "billy preston reached threshold  63\n",
      "laura branigan reached threshold  51\n",
      "laura branigan reached threshold  63\n",
      "layne staley reached threshold  51\n",
      "layne staley reached threshold  63\n",
      "john lee hooker reached threshold  51\n",
      "john lee hooker reached threshold  63\n",
      "syd barrett reached threshold  51\n",
      "syd barrett reached threshold  63\n",
      "donna summer reached threshold  51\n",
      "donna summer reached threshold  63\n",
      "ronnie james dio reached threshold  51\n",
      "oliver reached threshold  51\n",
      "oliver reached threshold  63\n",
      "ray charles reached threshold  51\n",
      "ray charles reached threshold  63\n",
      "bo diddley reached threshold  51\n",
      "bo diddley reached threshold  63\n",
      "captain beefheart reached threshold  51\n",
      "ol dirty bastard reached threshold  51\n",
      "ol dirty bastard reached threshold  63\n",
      "50 out of  367\n",
      "100 out of  367\n",
      "150 out of  367\n",
      "200 out of  367\n",
      "250 out of  367\n",
      "300 out of  367\n",
      "350 out of  367\n"
     ]
    }
   ],
   "source": [
    "thresh = 5\n",
    "ctrl_revs = controls_revs.copy()\n",
    "sorted_subjects = subjects_feats.sort_values(by='reviews', ascending=False)\n",
    "ctrl_list = [] # stores the name of matched controls\n",
    "count_list = [] # stores the features of matched controls\n",
    "matchings = []\n",
    "\n",
    "for idx, subject_name in enumerate(sorted_subjects['actor name']):\n",
    "    \n",
    "    if idx%50 == 0: \n",
    "        print(idx, \"out of \", len(subjects_feats['actor name']))\n",
    "    \n",
    "    mtch = 0\n",
    "    thr = thresh\n",
    "\n",
    "    while mtch == 0:\n",
    "        \n",
    "        thr += int(0.25*thr)\n",
    "        \n",
    "        if thr > 50 and thr < 70  : \n",
    "            print(subject_name+' reached threshold ', thr)\n",
    "        if thr > 1000 and thr < 1499  : \n",
    "            print(subject_name+' reached threshold ', thr)\n",
    "        if thr > 10000 : \n",
    "            print(subject_name+' reached threshold > 10000 (won\\'t match)')\n",
    "        \n",
    "        name, count, ctrl_revs_ = match(subject_name,thr,ctrl_revs)\n",
    "        ctrl_revs = ctrl_revs_.sample(frac=1) \n",
    "        \n",
    "        \n",
    "        if name != 0:\n",
    "            #rint(subject_name+' matched with '+name)\n",
    "            \n",
    "            ctrl_list.append(name)\n",
    "            count_list.append(count)\n",
    "            matchings.append((subject_name, name))\n",
    "            mtch += 1"
   ]
  },
  {
   "cell_type": "markdown",
   "metadata": {},
   "source": [
    "# Results"
   ]
  },
  {
   "cell_type": "code",
   "execution_count": 19,
   "metadata": {
    "scrolled": false
   },
   "outputs": [
    {
     "data": {
      "text/html": [
       "<div>\n",
       "<style>\n",
       "    .dataframe thead tr:only-child th {\n",
       "        text-align: right;\n",
       "    }\n",
       "\n",
       "    .dataframe thead th {\n",
       "        text-align: left;\n",
       "    }\n",
       "\n",
       "    .dataframe tbody tr th {\n",
       "        vertical-align: top;\n",
       "    }\n",
       "</style>\n",
       "<table border=\"1\" class=\"dataframe\">\n",
       "  <thead>\n",
       "    <tr style=\"text-align: right;\">\n",
       "      <th></th>\n",
       "      <th>ctrl_name</th>\n",
       "      <th>ctrl_reviews</th>\n",
       "      <th>reviews</th>\n",
       "      <th>actor name</th>\n",
       "      <th>death year</th>\n",
       "      <th>error</th>\n",
       "    </tr>\n",
       "  </thead>\n",
       "  <tbody>\n",
       "    <tr>\n",
       "      <th>107</th>\n",
       "      <td>robert pete williams</td>\n",
       "      <td>2</td>\n",
       "      <td>19</td>\n",
       "      <td>dusty springfield</td>\n",
       "      <td>1999</td>\n",
       "      <td>0.386364</td>\n",
       "    </tr>\n",
       "    <tr>\n",
       "      <th>156</th>\n",
       "      <td>jose fajardo</td>\n",
       "      <td>1</td>\n",
       "      <td>6</td>\n",
       "      <td>mercedes sosa</td>\n",
       "      <td>2009</td>\n",
       "      <td>0.312500</td>\n",
       "    </tr>\n",
       "    <tr>\n",
       "      <th>153</th>\n",
       "      <td>jared anderson</td>\n",
       "      <td>1</td>\n",
       "      <td>6</td>\n",
       "      <td>johnny ramone</td>\n",
       "      <td>2004</td>\n",
       "      <td>0.312500</td>\n",
       "    </tr>\n",
       "    <tr>\n",
       "      <th>154</th>\n",
       "      <td>sam levene</td>\n",
       "      <td>1</td>\n",
       "      <td>6</td>\n",
       "      <td>charlie byrd</td>\n",
       "      <td>1999</td>\n",
       "      <td>0.312500</td>\n",
       "    </tr>\n",
       "    <tr>\n",
       "      <th>155</th>\n",
       "      <td>themba mkhize</td>\n",
       "      <td>1</td>\n",
       "      <td>6</td>\n",
       "      <td>long john baldry</td>\n",
       "      <td>2005</td>\n",
       "      <td>0.312500</td>\n",
       "    </tr>\n",
       "  </tbody>\n",
       "</table>\n",
       "</div>"
      ],
      "text/plain": [
       "                ctrl_name  ctrl_reviews  reviews         actor name  \\\n",
       "107  robert pete williams             2       19  dusty springfield   \n",
       "156          jose fajardo             1        6      mercedes sosa   \n",
       "153        jared anderson             1        6      johnny ramone   \n",
       "154            sam levene             1        6       charlie byrd   \n",
       "155         themba mkhize             1        6   long john baldry   \n",
       "\n",
       "     death year     error  \n",
       "107        1999  0.386364  \n",
       "156        2009  0.312500  \n",
       "153        2004  0.312500  \n",
       "154        1999  0.312500  \n",
       "155        2005  0.312500  "
      ]
     },
     "execution_count": 19,
     "metadata": {},
     "output_type": "execute_result"
    }
   ],
   "source": [
    "ctrl_features = pd.DataFrame(ctrl_list, columns=['ctrl_name'])\n",
    "ctrl_features['ctrl_reviews'] = count_list\n",
    "\n",
    "res = pd.concat([ctrl_features.reset_index(), sorted_subjects.reset_index()], axis=1)\\\n",
    "            .drop('index', axis=1)\n",
    "res['error'] = np.abs(res['ctrl_reviews'] - res['reviews'])/(2*(1+res['ctrl_reviews'] + res['reviews']))\n",
    "\n",
    "res.sort_values(by='error', ascending=False).head()"
   ]
  },
  {
   "cell_type": "code",
   "execution_count": 20,
   "metadata": {},
   "outputs": [
    {
     "data": {
      "text/plain": [
       "array([[<matplotlib.axes._subplots.AxesSubplot object at 0x7f07af1baf28>]], dtype=object)"
      ]
     },
     "execution_count": 20,
     "metadata": {},
     "output_type": "execute_result"
    },
    {
     "data": {
      "image/png": "[encoded data removed]",
      "text/plain": [
       "<matplotlib.figure.Figure at 0x7f0772755a20>"
      ]
     },
     "metadata": {},
     "output_type": "display_data"
    }
   ],
   "source": [
    "ctrl_features.hist(column='ctrl_reviews', figsize=[10,10], bins=100)"
   ]
  },
  {
   "cell_type": "code",
   "execution_count": 21,
   "metadata": {
    "scrolled": true
   },
   "outputs": [
    {
     "data": {
      "text/plain": [
       "array([[<matplotlib.axes._subplots.AxesSubplot object at 0x7f077b92b5f8>]], dtype=object)"
      ]
     },
     "execution_count": 21,
     "metadata": {},
     "output_type": "execute_result"
    },
    {
     "data": {
      "image/png": "[encoded data removed]",
      "text/plain": [
       "<matplotlib.figure.Figure at 0x7f077b96c898>"
      ]
     },
     "metadata": {},
     "output_type": "display_data"
    }
   ],
   "source": [
    "subjects_feats.hist(column='reviews', figsize=[10,10], bins=100)"
   ]
  },
  {
   "cell_type": "markdown",
   "metadata": {},
   "source": [
    "# Export results"
   ]
  },
  {
   "cell_type": "code",
   "execution_count": 22,
   "metadata": {
    "collapsed": true
   },
   "outputs": [],
   "source": [
    "subjectsnb = str(len(sbj_names)-1)"
   ]
  },
  {
   "cell_type": "code",
   "execution_count": 23,
   "metadata": {
    "collapsed": true
   },
   "outputs": [],
   "source": [
    "subjects_actors.to_csv('DATA/reviews_cs_matched/music_reviews_subjects_'+subjectsnb+'.csv', index=False)"
   ]
  },
  {
   "cell_type": "code",
   "execution_count": 24,
   "metadata": {
    "collapsed": true
   },
   "outputs": [],
   "source": [
    "controls_actors.to_csv('DATA/reviews_cs_matched/music_reviews_controls_'+subjectsnb+'.csv', index=False)"
   ]
  },
  {
   "cell_type": "code",
   "execution_count": 25,
   "metadata": {
    "collapsed": true
   },
   "outputs": [],
   "source": [
    "res.to_csv('DATA/reviews_cs_matched/music_matchings_'+subjectsnb+'_feature=yearbefore.csv', index=False)"
   ]
  }
 ],
 "metadata": {
  "kernelspec": {
   "display_name": "Python 3",
   "language": "python",
   "name": "python3"
  },
  "language_info": {
   "codemirror_mode": {
    "name": "ipython",
    "version": 3
   },
   "file_extension": ".py",
   "mimetype": "text/x-python",
   "name": "python",
   "nbconvert_exporter": "python",
   "pygments_lexer": "ipython3",
   "version": "3.6.3"
  }
 },
 "nbformat": 4,
 "nbformat_minor": 2
}
