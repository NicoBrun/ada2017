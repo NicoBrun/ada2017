{
 "cells": [
  {
   "cell_type": "code",
   "execution_count": 1,
   "metadata": {
    "collapsed": true
   },
   "outputs": [],
   "source": [
    "# re-import modules without restarting kernel\n",
    "%load_ext autoreload\n",
    "%autoreload 2\n",
    "%reload_ext autoreload\n",
    "\n",
    "\n",
    "from io_helpers import *\n",
    "from matching_helpers import *\n",
    "\n",
    "#essential imports\n",
    "import pandas as pd\n",
    "import numpy as np\n",
    "\n",
    "#date\n",
    "import datetime as dt\n",
    "\n",
    "from IPython.display import clear_output\n",
    "\n",
    "\n",
    "\n",
    "nb_controls_per_subject = 4\n",
    "\n"
   ]
  },
  {
   "cell_type": "markdown",
   "metadata": {},
   "source": [
    "# Matching movies and dead actors/directors"
   ]
  },
  {
   "cell_type": "markdown",
   "metadata": {},
   "source": [
    "### 1) Load and clean the meta_movies data generated with Amazon API"
   ]
  },
  {
   "cell_type": "code",
   "execution_count": 2,
   "metadata": {
    "collapsed": true
   },
   "outputs": [],
   "source": [
    "## open datafiles\n",
    "##\n",
    "\n",
    "features_meta = ['asin', 'actors', 'directors', 'creators', 'authors']\n",
    "\n",
    "MMTV = pd.read_csv('DATA/metadata_processed/meta_Movies_and_TV_processed(v1).csv', low_memory=False)[features_meta]\n",
    "AIV = pd.read_csv('DATA/metadata_processed/meta_Amazon_Instant_Video_processed(v1).csv', low_memory=False)[features_meta]\n",
    "\n",
    "video_df = pd.concat((MMTV, AIV))\n",
    "video_df = df_rm_punctuation(video_df)"
   ]
  },
  {
   "cell_type": "code",
   "execution_count": 3,
   "metadata": {
    "scrolled": false
   },
   "outputs": [
    {
     "data": {
      "text/html": [
       "<div>\n",
       "<style scoped>\n",
       "    .dataframe tbody tr th:only-of-type {\n",
       "        vertical-align: middle;\n",
       "    }\n",
       "\n",
       "    .dataframe tbody tr th {\n",
       "        vertical-align: top;\n",
       "    }\n",
       "\n",
       "    .dataframe thead th {\n",
       "        text-align: right;\n",
       "    }\n",
       "</style>\n",
       "<table border=\"1\" class=\"dataframe\">\n",
       "  <thead>\n",
       "    <tr style=\"text-align: right;\">\n",
       "      <th></th>\n",
       "      <th>asin</th>\n",
       "      <th>actors</th>\n",
       "      <th>directors</th>\n",
       "      <th>creators</th>\n",
       "      <th>authors</th>\n",
       "    </tr>\n",
       "  </thead>\n",
       "  <tbody>\n",
       "    <tr>\n",
       "      <th>0</th>\n",
       "      <td>0000143561</td>\n",
       "      <td></td>\n",
       "      <td></td>\n",
       "      <td></td>\n",
       "      <td></td>\n",
       "    </tr>\n",
       "    <tr>\n",
       "      <th>1</th>\n",
       "      <td>0000589012</td>\n",
       "      <td></td>\n",
       "      <td></td>\n",
       "      <td></td>\n",
       "      <td>Joe Herzanek</td>\n",
       "    </tr>\n",
       "    <tr>\n",
       "      <th>2</th>\n",
       "      <td>0000695009</td>\n",
       "      <td></td>\n",
       "      <td></td>\n",
       "      <td></td>\n",
       "      <td>Epilepsy Foundation</td>\n",
       "    </tr>\n",
       "    <tr>\n",
       "      <th>3</th>\n",
       "      <td>000107461X</td>\n",
       "      <td>Douglas Miller</td>\n",
       "      <td></td>\n",
       "      <td>(Joe Thomas,Producer),(Joseph Williams,Producer)</td>\n",
       "      <td></td>\n",
       "    </tr>\n",
       "    <tr>\n",
       "      <th>4</th>\n",
       "      <td>0000143529</td>\n",
       "      <td>Alton Brown</td>\n",
       "      <td></td>\n",
       "      <td></td>\n",
       "      <td></td>\n",
       "    </tr>\n",
       "  </tbody>\n",
       "</table>\n",
       "</div>"
      ],
      "text/plain": [
       "         asin          actors directors  \\\n",
       "0  0000143561                             \n",
       "1  0000589012                             \n",
       "2  0000695009                             \n",
       "3  000107461X  Douglas Miller             \n",
       "4  0000143529     Alton Brown             \n",
       "\n",
       "                                           creators              authors  \n",
       "0                                                                         \n",
       "1                                                           Joe Herzanek  \n",
       "2                                                    Epilepsy Foundation  \n",
       "3  (Joe Thomas,Producer),(Joseph Williams,Producer)                       \n",
       "4                                                                         "
      ]
     },
     "execution_count": 3,
     "metadata": {},
     "output_type": "execute_result"
    }
   ],
   "source": [
    "assert(MMTV.shape[0]+AIV.shape[0] == video_df.shape[0])\n",
    "video_df.head()"
   ]
  },
  {
   "cell_type": "markdown",
   "metadata": {},
   "source": [
    "## 2) Clean and filter dead actors data"
   ]
  },
  {
   "cell_type": "code",
   "execution_count": 4,
   "metadata": {},
   "outputs": [
    {
     "data": {
      "text/html": [
       "<div>\n",
       "<style scoped>\n",
       "    .dataframe tbody tr th:only-of-type {\n",
       "        vertical-align: middle;\n",
       "    }\n",
       "\n",
       "    .dataframe tbody tr th {\n",
       "        vertical-align: top;\n",
       "    }\n",
       "\n",
       "    .dataframe thead th {\n",
       "        text-align: right;\n",
       "    }\n",
       "</style>\n",
       "<table border=\"1\" class=\"dataframe\">\n",
       "  <thead>\n",
       "    <tr style=\"text-align: right;\">\n",
       "      <th></th>\n",
       "      <th>Name</th>\n",
       "      <th>Birth Date</th>\n",
       "      <th>Death Date</th>\n",
       "    </tr>\n",
       "  </thead>\n",
       "  <tbody>\n",
       "    <tr>\n",
       "      <th>0</th>\n",
       "      <td>jack weston</td>\n",
       "      <td>1924</td>\n",
       "      <td>1996-05-03</td>\n",
       "    </tr>\n",
       "    <tr>\n",
       "      <th>1</th>\n",
       "      <td>john beradino</td>\n",
       "      <td>1917</td>\n",
       "      <td>1996-05-19</td>\n",
       "    </tr>\n",
       "    <tr>\n",
       "      <th>2</th>\n",
       "      <td>jon pertwee</td>\n",
       "      <td>1919</td>\n",
       "      <td>1996-05-20</td>\n",
       "    </tr>\n",
       "    <tr>\n",
       "      <th>3</th>\n",
       "      <td>lash larue</td>\n",
       "      <td>1917</td>\n",
       "      <td>1996-05-21</td>\n",
       "    </tr>\n",
       "    <tr>\n",
       "      <th>4</th>\n",
       "      <td>enrique álvarez félix</td>\n",
       "      <td>1934</td>\n",
       "      <td>1996-05-24</td>\n",
       "    </tr>\n",
       "  </tbody>\n",
       "</table>\n",
       "</div>"
      ],
      "text/plain": [
       "                    Name  Birth Date  Death Date\n",
       "0            jack weston        1924  1996-05-03\n",
       "1          john beradino        1917  1996-05-19\n",
       "2            jon pertwee        1919  1996-05-20\n",
       "3             lash larue        1917  1996-05-21\n",
       "4  enrique álvarez félix        1934  1996-05-24"
      ]
     },
     "execution_count": 4,
     "metadata": {},
     "output_type": "execute_result"
    }
   ],
   "source": [
    "deaths = pd.read_csv('DATA/deaths.csv', low_memory=False, encoding=\"ISO-8859-1\")\n",
    "dead_actors = deaths[deaths['Actor']==True].drop('Actor', axis=1).drop('Author', axis=1).drop('Musician', axis=1).drop('Description', axis=1)\n",
    "# for some reason the index skips some numbers\n",
    "dead_actors = dead_actors.reset_index().drop('index', axis=1)\n",
    "dead_actors['Name'] = std_actors_names(dead_actors['Name'])\n",
    "dead_actors.head()"
   ]
  },
  {
   "cell_type": "markdown",
   "metadata": {},
   "source": [
    "## 3) Build (metadata<->actors) controls list"
   ]
  },
  {
   "cell_type": "code",
   "execution_count": 5,
   "metadata": {},
   "outputs": [
    {
     "name": "stdout",
     "output_type": "stream",
     "text": [
      "(144720, 5)\n"
     ]
    },
    {
     "data": {
      "text/html": [
       "<div>\n",
       "<style scoped>\n",
       "    .dataframe tbody tr th:only-of-type {\n",
       "        vertical-align: middle;\n",
       "    }\n",
       "\n",
       "    .dataframe tbody tr th {\n",
       "        vertical-align: top;\n",
       "    }\n",
       "\n",
       "    .dataframe thead th {\n",
       "        text-align: right;\n",
       "    }\n",
       "</style>\n",
       "<table border=\"1\" class=\"dataframe\">\n",
       "  <thead>\n",
       "    <tr style=\"text-align: right;\">\n",
       "      <th></th>\n",
       "      <th>asin</th>\n",
       "      <th>actors</th>\n",
       "      <th>directors</th>\n",
       "      <th>creators</th>\n",
       "      <th>authors</th>\n",
       "    </tr>\n",
       "  </thead>\n",
       "  <tbody>\n",
       "    <tr>\n",
       "      <th>3</th>\n",
       "      <td>000107461X</td>\n",
       "      <td>Douglas Miller</td>\n",
       "      <td></td>\n",
       "      <td>(Joe Thomas,Producer),(Joseph Williams,Producer)</td>\n",
       "      <td></td>\n",
       "    </tr>\n",
       "    <tr>\n",
       "      <th>4</th>\n",
       "      <td>0000143529</td>\n",
       "      <td>Alton Brown</td>\n",
       "      <td></td>\n",
       "      <td></td>\n",
       "      <td></td>\n",
       "    </tr>\n",
       "    <tr>\n",
       "      <th>5</th>\n",
       "      <td>0000143502</td>\n",
       "      <td>Alton Brown</td>\n",
       "      <td></td>\n",
       "      <td></td>\n",
       "      <td></td>\n",
       "    </tr>\n",
       "    <tr>\n",
       "      <th>6</th>\n",
       "      <td>0000143588</td>\n",
       "      <td>Ina Garten</td>\n",
       "      <td></td>\n",
       "      <td></td>\n",
       "      <td></td>\n",
       "    </tr>\n",
       "    <tr>\n",
       "      <th>11</th>\n",
       "      <td>0001485423</td>\n",
       "      <td>Sr Faustina</td>\n",
       "      <td>J Paddy Nolan</td>\n",
       "      <td></td>\n",
       "      <td></td>\n",
       "    </tr>\n",
       "  </tbody>\n",
       "</table>\n",
       "</div>"
      ],
      "text/plain": [
       "          asin          actors      directors  \\\n",
       "3   000107461X  Douglas Miller                  \n",
       "4   0000143529     Alton Brown                  \n",
       "5   0000143502     Alton Brown                  \n",
       "6   0000143588      Ina Garten                  \n",
       "11  0001485423     Sr Faustina  J Paddy Nolan   \n",
       "\n",
       "                                            creators authors  \n",
       "3   (Joe Thomas,Producer),(Joseph Williams,Producer)          \n",
       "4                                                             \n",
       "5                                                             \n",
       "6                                                             \n",
       "11                                                            "
      ]
     },
     "execution_count": 5,
     "metadata": {},
     "output_type": "execute_result"
    }
   ],
   "source": [
    "# filter out blanks, products_actors will be re-used\n",
    "amazon_actor_products = video_df[(video_df[\"actors\"].isnull()==False)]\n",
    "amazon_actor_products = amazon_actor_products[amazon_actor_products['actors']!='']\n",
    "print(amazon_actor_products.shape)\n",
    "amazon_actor_products.head()"
   ]
  },
  {
   "cell_type": "code",
   "execution_count": 6,
   "metadata": {},
   "outputs": [
    {
     "name": "stdout",
     "output_type": "stream",
     "text": [
      "['', 'alejandra darín', 'rory calhoun', 'sofia wd', 'sergi lópez']\n"
     ]
    },
    {
     "data": {
      "text/html": [
       "<div>\n",
       "<style scoped>\n",
       "    .dataframe tbody tr th:only-of-type {\n",
       "        vertical-align: middle;\n",
       "    }\n",
       "\n",
       "    .dataframe tbody tr th {\n",
       "        vertical-align: top;\n",
       "    }\n",
       "\n",
       "    .dataframe thead th {\n",
       "        text-align: right;\n",
       "    }\n",
       "</style>\n",
       "<table border=\"1\" class=\"dataframe\">\n",
       "  <thead>\n",
       "    <tr style=\"text-align: right;\">\n",
       "      <th></th>\n",
       "      <th>Name</th>\n",
       "      <th>Birth Date</th>\n",
       "      <th>Death Date</th>\n",
       "    </tr>\n",
       "  </thead>\n",
       "  <tbody>\n",
       "    <tr>\n",
       "      <th>0</th>\n",
       "      <td>alejandra darín</td>\n",
       "      <td>NaN</td>\n",
       "      <td>NaN</td>\n",
       "    </tr>\n",
       "    <tr>\n",
       "      <th>1</th>\n",
       "      <td>rory calhoun</td>\n",
       "      <td>NaN</td>\n",
       "      <td>NaN</td>\n",
       "    </tr>\n",
       "    <tr>\n",
       "      <th>2</th>\n",
       "      <td>sofia wd</td>\n",
       "      <td>NaN</td>\n",
       "      <td>NaN</td>\n",
       "    </tr>\n",
       "    <tr>\n",
       "      <th>3</th>\n",
       "      <td>sergi lópez</td>\n",
       "      <td>NaN</td>\n",
       "      <td>NaN</td>\n",
       "    </tr>\n",
       "    <tr>\n",
       "      <th>4</th>\n",
       "      <td>gabriel garko</td>\n",
       "      <td>NaN</td>\n",
       "      <td>NaN</td>\n",
       "    </tr>\n",
       "  </tbody>\n",
       "</table>\n",
       "</div>"
      ],
      "text/plain": [
       "              Name  Birth Date  Death Date\n",
       "0  alejandra darín         NaN         NaN\n",
       "1     rory calhoun         NaN         NaN\n",
       "2         sofia wd         NaN         NaN\n",
       "3      sergi lópez         NaN         NaN\n",
       "4    gabriel garko         NaN         NaN"
      ]
     },
     "execution_count": 6,
     "metadata": {},
     "output_type": "execute_result"
    }
   ],
   "source": [
    "amazon_actor_names = [troup.split(',') for troup in list(amazon_actor_products['actors'])]\n",
    "amazon_actor_names = [lm.lower() for lm in np.concatenate(amazon_actor_names)]\n",
    "amazon_actor_names = list(set(amazon_actor_names))\n",
    "\n",
    "# weird... \n",
    "print(amazon_actor_names[:5])\n",
    "#amazon_actor_names = amazon_actor_names[:1]+ amazon_actor_names[2:] \n",
    "amazon_actor_names = amazon_actor_names[1:]\n",
    "\n",
    "amazon_actors = pd.DataFrame(amazon_actor_names, columns=['Name'])\n",
    "amazon_actors['Name'] = std_actors_names(amazon_actors['Name'])\n",
    "amazon_actors['Birth Date'] = pd.Series()\n",
    "amazon_actors['Death Date'] = pd.Series()\n",
    "amazon_actors.head()"
   ]
  },
  {
   "cell_type": "code",
   "execution_count": 7,
   "metadata": {},
   "outputs": [
    {
     "name": "stdout",
     "output_type": "stream",
     "text": [
      "0\n",
      "100\n",
      "200\n",
      "300\n",
      "400\n",
      "500\n",
      "600\n"
     ]
    }
   ],
   "source": [
    "## filter out deads\n",
    "##\n",
    "\n",
    "dead_actors['clname'] = dead_actors['Name'].map(cleanstr)\n",
    "dead_actors = dead_actors.drop('Name', axis=1)\n",
    "nondead_actors = pd.DataFrame(list(map(lambda s : cleanstr(s), amazon_actor_names)),columns=['clname'])\n",
    "nondead_actors= nondead_actors[nondead_actors['clname'].map(lambda e : len(e.split())>1)]\n",
    "\n",
    "for idx, name in enumerate(dead_actors['clname'].tolist()):\n",
    "    if idx % 100 == 0 : \n",
    "        print(idx)\n",
    "    mapp = nondead_actors['clname'].str.contains(name)\n",
    "    if mapp.any():\n",
    "        nondead_actors = nondead_actors[mapp==False] \n",
    "\n",
    "nondead_actors['Birth Date'] = pd.Series()\n",
    "nondead_actors['Death Date'] = pd.Series()\n",
    "nondead_actors.head()\n",
    "\n",
    "controls = nondead_actors\n",
    "\n",
    "all_actors = pd.concat((dead_actors, nondead_actors))"
   ]
  },
  {
   "cell_type": "code",
   "execution_count": 8,
   "metadata": {
    "scrolled": true
   },
   "outputs": [
    {
     "data": {
      "text/plain": [
       "((149443, 3), (639, 3), (155561, 3), 6118)"
      ]
     },
     "execution_count": 8,
     "metadata": {},
     "output_type": "execute_result"
    }
   ],
   "source": [
    "controls.shape, dead_actors.shape, amazon_actors.shape, amazon_actors.shape[0]-controls.shape[0]"
   ]
  },
  {
   "cell_type": "markdown",
   "metadata": {},
   "source": [
    "## 4) Match dead actors and meta data"
   ]
  },
  {
   "cell_type": "code",
   "execution_count": 9,
   "metadata": {
    "scrolled": true
   },
   "outputs": [
    {
     "name": "stderr",
     "output_type": "stream",
     "text": [
      "/usr/lib/python3.6/site-packages/ipykernel/__main__.py:10: FutureWarning: get_value is deprecated and will be removed in a future release. Please use .at[] or .iat[] accessors instead\n"
     ]
    },
    {
     "name": "stdout",
     "output_type": "stream",
     "text": [
      "actor 100 in 639 - Done\n",
      "actor 200 in 639 - Done\n",
      "actor 300 in 639 - Done\n",
      "actor 400 in 639 - Done\n",
      "actor 500 in 639 - Done\n",
      "actor 600 in 639 - Done\n",
      "(14282, 6)\n"
     ]
    },
    {
     "data": {
      "text/html": [
       "<div>\n",
       "<style scoped>\n",
       "    .dataframe tbody tr th:only-of-type {\n",
       "        vertical-align: middle;\n",
       "    }\n",
       "\n",
       "    .dataframe tbody tr th {\n",
       "        vertical-align: top;\n",
       "    }\n",
       "\n",
       "    .dataframe thead th {\n",
       "        text-align: right;\n",
       "    }\n",
       "</style>\n",
       "<table border=\"1\" class=\"dataframe\">\n",
       "  <thead>\n",
       "    <tr style=\"text-align: right;\">\n",
       "      <th></th>\n",
       "      <th>asin</th>\n",
       "      <th>directors</th>\n",
       "      <th>creators</th>\n",
       "      <th>authors</th>\n",
       "      <th>clname</th>\n",
       "      <th>Death Date</th>\n",
       "    </tr>\n",
       "  </thead>\n",
       "  <tbody>\n",
       "    <tr>\n",
       "      <th>3487</th>\n",
       "      <td>0792840461</td>\n",
       "      <td>Norman Jewison</td>\n",
       "      <td>(Haskell Wexler,Cinematographer),(Norman Jewis...</td>\n",
       "      <td></td>\n",
       "      <td>jack weston</td>\n",
       "      <td>1996-05-03</td>\n",
       "    </tr>\n",
       "    <tr>\n",
       "      <th>10823</th>\n",
       "      <td>6300216217</td>\n",
       "      <td></td>\n",
       "      <td></td>\n",
       "      <td></td>\n",
       "      <td>jack weston</td>\n",
       "      <td>1996-05-03</td>\n",
       "    </tr>\n",
       "    <tr>\n",
       "      <th>11212</th>\n",
       "      <td>6300270297</td>\n",
       "      <td>Richard Lester</td>\n",
       "      <td>(Paul Wilson,Cinematographer),(John Bloom,Edit...</td>\n",
       "      <td></td>\n",
       "      <td>jack weston</td>\n",
       "      <td>1996-05-03</td>\n",
       "    </tr>\n",
       "    <tr>\n",
       "      <th>11233</th>\n",
       "      <td>6300270025</td>\n",
       "      <td>Brian G Hutton</td>\n",
       "      <td>(Andre Morgan,Producer),(Daniel Grodnik,Produc...</td>\n",
       "      <td></td>\n",
       "      <td>jack weston</td>\n",
       "      <td>1996-05-03</td>\n",
       "    </tr>\n",
       "    <tr>\n",
       "      <th>12506</th>\n",
       "      <td>6301514017</td>\n",
       "      <td>Stuart Rosenberg</td>\n",
       "      <td></td>\n",
       "      <td></td>\n",
       "      <td>jack weston</td>\n",
       "      <td>1996-05-03</td>\n",
       "    </tr>\n",
       "  </tbody>\n",
       "</table>\n",
       "</div>"
      ],
      "text/plain": [
       "             asin         directors  \\\n",
       "3487   0792840461    Norman Jewison   \n",
       "10823  6300216217                     \n",
       "11212  6300270297    Richard Lester   \n",
       "11233  6300270025    Brian G Hutton   \n",
       "12506  6301514017  Stuart Rosenberg   \n",
       "\n",
       "                                                creators authors       clname  \\\n",
       "3487   (Haskell Wexler,Cinematographer),(Norman Jewis...          jack weston   \n",
       "10823                                                             jack weston   \n",
       "11212  (Paul Wilson,Cinematographer),(John Bloom,Edit...          jack weston   \n",
       "11233  (Andre Morgan,Producer),(Daniel Grodnik,Produc...          jack weston   \n",
       "12506                                                             jack weston   \n",
       "\n",
       "       Death Date  \n",
       "3487   1996-05-03  \n",
       "10823  1996-05-03  \n",
       "11212  1996-05-03  \n",
       "11233  1996-05-03  \n",
       "12506  1996-05-03  "
      ]
     },
     "execution_count": 9,
     "metadata": {},
     "output_type": "execute_result"
    }
   ],
   "source": [
    "pd.options.mode.chained_assignment = None \n",
    "meta_dead_actors = pd.DataFrame()\n",
    "\n",
    "amazon_actor_products['clname'] = amazon_actor_products['actors'].map(cleanstr)\n",
    "\n",
    "for idx, actor in enumerate(list(dead_actors['clname'])):\n",
    "    \n",
    "    match = amazon_actor_products[amazon_actor_products['clname'].str.contains(actor)==True].drop('actors',axis=1)\n",
    "    match['clname'] = actor\n",
    "    match['Death Date'] = dead_actors.reset_index()['Death Date'].get_value(idx)\n",
    "    meta_dead_actors = meta_dead_actors.append(match)\n",
    "    \n",
    "    if idx%100==0 and idx!=0: \n",
    "        print('actor {} in {} - Done'.format(idx, len(list(dead_actors['clname']))))\n",
    "        \n",
    "print(meta_dead_actors.shape)        \n",
    "meta_dead_actors.head()"
   ]
  },
  {
   "cell_type": "code",
   "execution_count": 10,
   "metadata": {},
   "outputs": [
    {
     "data": {
      "text/plain": [
       "481"
      ]
     },
     "execution_count": 10,
     "metadata": {},
     "output_type": "execute_result"
    }
   ],
   "source": [
    "len(set(meta_dead_actors['clname']))"
   ]
  },
  {
   "cell_type": "markdown",
   "metadata": {},
   "source": [
    "## 5) Subsample control actors and match meta data"
   ]
  },
  {
   "cell_type": "code",
   "execution_count": 11,
   "metadata": {
    "scrolled": true
   },
   "outputs": [
    {
     "name": "stdout",
     "output_type": "stream",
     "text": [
      "(2556, 3)\n"
     ]
    },
    {
     "name": "stderr",
     "output_type": "stream",
     "text": [
      "/usr/lib/python3.6/site-packages/ipykernel/__main__.py:6: FutureWarning: \n",
      "Passing list-likes to .loc or [] with any missing label will raise\n",
      "KeyError in the future, you can use .reindex() as an alternative.\n",
      "\n",
      "See the documentation here:\n",
      "http://pandas.pydata.org/pandas-docs/stable/indexing.html#deprecate-loc-reindex-listlike\n"
     ]
    },
    {
     "data": {
      "text/html": [
       "<div>\n",
       "<style scoped>\n",
       "    .dataframe tbody tr th:only-of-type {\n",
       "        vertical-align: middle;\n",
       "    }\n",
       "\n",
       "    .dataframe tbody tr th {\n",
       "        vertical-align: top;\n",
       "    }\n",
       "\n",
       "    .dataframe thead th {\n",
       "        text-align: right;\n",
       "    }\n",
       "</style>\n",
       "<table border=\"1\" class=\"dataframe\">\n",
       "  <thead>\n",
       "    <tr style=\"text-align: right;\">\n",
       "      <th></th>\n",
       "      <th>clname</th>\n",
       "      <th>Birth Date</th>\n",
       "      <th>Death Date</th>\n",
       "    </tr>\n",
       "  </thead>\n",
       "  <tbody>\n",
       "    <tr>\n",
       "      <th>9300</th>\n",
       "      <td>misty lewis</td>\n",
       "      <td>NaN</td>\n",
       "      <td>NaN</td>\n",
       "    </tr>\n",
       "    <tr>\n",
       "      <th>39734</th>\n",
       "      <td>mary t brown</td>\n",
       "      <td>NaN</td>\n",
       "      <td>NaN</td>\n",
       "    </tr>\n",
       "    <tr>\n",
       "      <th>145462</th>\n",
       "      <td>susú pecoraro</td>\n",
       "      <td>NaN</td>\n",
       "      <td>NaN</td>\n",
       "    </tr>\n",
       "  </tbody>\n",
       "</table>\n",
       "</div>"
      ],
      "text/plain": [
       "               clname  Birth Date  Death Date\n",
       "9300      misty lewis         NaN         NaN\n",
       "39734    mary t brown         NaN         NaN\n",
       "145462  susú pecoraro         NaN         NaN"
      ]
     },
     "execution_count": 11,
     "metadata": {},
     "output_type": "execute_result"
    }
   ],
   "source": [
    "from numpy.random import randint\n",
    "\n",
    "def subsample_df (df, nbWanted) : \n",
    "    assert nbWanted < len(df)\n",
    "    randomIndex = randint(0, len(df)-1, nbWanted)\n",
    "    return df.loc[randomIndex]\n",
    "\n",
    "sub_controls = subsample_df(controls, nb_controls_per_subject*len(dead_actors))\n",
    "print(sub_controls.shape)\n",
    "sub_controls.head(3)"
   ]
  },
  {
   "cell_type": "code",
   "execution_count": 12,
   "metadata": {
    "scrolled": false
   },
   "outputs": [
    {
     "name": "stderr",
     "output_type": "stream",
     "text": [
      "/usr/lib/python3.6/site-packages/ipykernel/__main__.py:9: FutureWarning: get_value is deprecated and will be removed in a future release. Please use .at[] or .iat[] accessors instead\n"
     ]
    },
    {
     "name": "stdout",
     "output_type": "stream",
     "text": [
      "actor 100 in 2556 - Done\n",
      "actor 200 in 2556 - Done\n",
      "actor 300 in 2556 - Done\n",
      "actor 400 in 2556 - Done\n",
      "actor 500 in 2556 - Done\n",
      "actor 600 in 2556 - Done\n",
      "actor 700 in 2556 - Done\n",
      "actor 800 in 2556 - Done\n",
      "actor 900 in 2556 - Done\n",
      "actor 1000 in 2556 - Done\n",
      "actor 1100 in 2556 - Done\n",
      "actor 1200 in 2556 - Done\n",
      "actor 1300 in 2556 - Done\n",
      "actor 1400 in 2556 - Done\n",
      "actor 1500 in 2556 - Done\n",
      "actor 1600 in 2556 - Done\n",
      "actor 1700 in 2556 - Done\n",
      "actor 1800 in 2556 - Done\n",
      "actor 1900 in 2556 - Done\n",
      "actor 2000 in 2556 - Done\n",
      "actor 2100 in 2556 - Done\n",
      "actor 2200 in 2556 - Done\n",
      "actor 2300 in 2556 - Done\n",
      "actor 2400 in 2556 - Done\n",
      "(8997, 6)\n",
      "481\n"
     ]
    },
    {
     "data": {
      "text/html": [
       "<div>\n",
       "<style scoped>\n",
       "    .dataframe tbody tr th:only-of-type {\n",
       "        vertical-align: middle;\n",
       "    }\n",
       "\n",
       "    .dataframe tbody tr th {\n",
       "        vertical-align: top;\n",
       "    }\n",
       "\n",
       "    .dataframe thead th {\n",
       "        text-align: right;\n",
       "    }\n",
       "</style>\n",
       "<table border=\"1\" class=\"dataframe\">\n",
       "  <thead>\n",
       "    <tr style=\"text-align: right;\">\n",
       "      <th></th>\n",
       "      <th>asin</th>\n",
       "      <th>directors</th>\n",
       "      <th>creators</th>\n",
       "      <th>authors</th>\n",
       "      <th>clname</th>\n",
       "      <th>Death Date</th>\n",
       "    </tr>\n",
       "  </thead>\n",
       "  <tbody>\n",
       "    <tr>\n",
       "      <th>39693</th>\n",
       "      <td>B00004YZEE</td>\n",
       "      <td>George Demick</td>\n",
       "      <td>(George Demick,Producer),(George Demick,Writer...</td>\n",
       "      <td></td>\n",
       "      <td>misty lewis</td>\n",
       "      <td>NaN</td>\n",
       "    </tr>\n",
       "    <tr>\n",
       "      <th>16827</th>\n",
       "      <td>6302449332</td>\n",
       "      <td>Les Blank</td>\n",
       "      <td>(Les Blank,Cinematographer),(Les Blank,Produce...</td>\n",
       "      <td></td>\n",
       "      <td>mary t brown</td>\n",
       "      <td>NaN</td>\n",
       "    </tr>\n",
       "    <tr>\n",
       "      <th>83975</th>\n",
       "      <td>B000ALGBD4</td>\n",
       "      <td>Adolfo Aristarain</td>\n",
       "      <td>(Adolfo Aristarain,Producer),(Adolfo Aristarai...</td>\n",
       "      <td></td>\n",
       "      <td>susú pecoraro</td>\n",
       "      <td>NaN</td>\n",
       "    </tr>\n",
       "    <tr>\n",
       "      <th>149746</th>\n",
       "      <td>B002BFW09Q</td>\n",
       "      <td>Fernando E Solanas</td>\n",
       "      <td>(Philippe Léotard,Host),(Ulises Dumont,Host),(...</td>\n",
       "      <td></td>\n",
       "      <td>susú pecoraro</td>\n",
       "      <td>NaN</td>\n",
       "    </tr>\n",
       "    <tr>\n",
       "      <th>76233</th>\n",
       "      <td>B0007OP1D0</td>\n",
       "      <td>Howard Bretherton</td>\n",
       "      <td>(Harry Neumann,Cinematographer),(Russell F Sch...</td>\n",
       "      <td></td>\n",
       "      <td>edward keane</td>\n",
       "      <td>NaN</td>\n",
       "    </tr>\n",
       "  </tbody>\n",
       "</table>\n",
       "</div>"
      ],
      "text/plain": [
       "              asin           directors  \\\n",
       "39693   B00004YZEE       George Demick   \n",
       "16827   6302449332           Les Blank   \n",
       "83975   B000ALGBD4   Adolfo Aristarain   \n",
       "149746  B002BFW09Q  Fernando E Solanas   \n",
       "76233   B0007OP1D0   Howard Bretherton   \n",
       "\n",
       "                                                 creators authors  \\\n",
       "39693   (George Demick,Producer),(George Demick,Writer...           \n",
       "16827   (Les Blank,Cinematographer),(Les Blank,Produce...           \n",
       "83975   (Adolfo Aristarain,Producer),(Adolfo Aristarai...           \n",
       "149746  (Philippe Léotard,Host),(Ulises Dumont,Host),(...           \n",
       "76233   (Harry Neumann,Cinematographer),(Russell F Sch...           \n",
       "\n",
       "               clname  Death Date  \n",
       "39693     misty lewis         NaN  \n",
       "16827    mary t brown         NaN  \n",
       "83975   susú pecoraro         NaN  \n",
       "149746  susú pecoraro         NaN  \n",
       "76233    edward keane         NaN  "
      ]
     },
     "execution_count": 12,
     "metadata": {},
     "output_type": "execute_result"
    }
   ],
   "source": [
    "pd.options.mode.chained_assignment = None \n",
    "meta_control_actors = pd.DataFrame()\n",
    "\n",
    "d=''\n",
    "for idx, actor in enumerate(list(sub_controls.dropna(how='all')['clname'])):  \n",
    "    match = pd.DataFrame()\n",
    "    match = amazon_actor_products[amazon_actor_products['clname'].str.contains(actor)==True].drop('actors',axis=1)\n",
    "    match['clname'] = actor\n",
    "    match['Death Date'] = sub_controls.reset_index()['Death Date'].get_value(idx)\n",
    "    meta_control_actors = meta_control_actors.append(match)\n",
    "    \n",
    "    if idx%100==0 and idx!=0: \n",
    "        print('actor {} in {} - Done'.format(idx, len(list(sub_controls['clname']))))\n",
    "\n",
    "\n",
    "print(meta_control_actors.shape)\n",
    "print(len(set(meta_dead_actors['clname'])))\n",
    "meta_control_actors.head()"
   ]
  },
  {
   "cell_type": "markdown",
   "metadata": {},
   "source": [
    "## 6) Concatenate (metadatas<->artist) for dead and control artists"
   ]
  },
  {
   "cell_type": "code",
   "execution_count": 13,
   "metadata": {
    "collapsed": true
   },
   "outputs": [],
   "source": [
    "meta_all_actors = pd.concat((meta_dead_actors, meta_control_actors))"
   ]
  },
  {
   "cell_type": "markdown",
   "metadata": {},
   "source": [
    "## 7) Loading Reviews data for Movies and TV and cleaning"
   ]
  },
  {
   "cell_type": "code",
   "execution_count": 14,
   "metadata": {
    "collapsed": true
   },
   "outputs": [],
   "source": [
    "f_MTV = 'DATA/review/reviews_Movies_and_TV.json.gz'\n",
    "f_AIV = 'DATA/review/reviews_Amazon_Instant_Video.json.gz'\n",
    "#features_reviews = ['asin', 'reviewTime']\n",
    "features_reviews = ['asin', 'reviewTime', 'overall', 'helpful', 'summary', 'reviewText']"
   ]
  },
  {
   "cell_type": "code",
   "execution_count": 15,
   "metadata": {
    "collapsed": true,
    "scrolled": false
   },
   "outputs": [],
   "source": [
    "b=gz_to_dataframe(f_AIV)[features_reviews]\n",
    "a=gz_to_dataframe(f_MTV)[features_reviews]\n",
    "safe_reviews_df = pd.concat((a, b))"
   ]
  },
  {
   "cell_type": "code",
   "execution_count": 16,
   "metadata": {},
   "outputs": [
    {
     "name": "stdout",
     "output_type": "stream",
     "text": [
      "(5190980, 6)\n"
     ]
    },
    {
     "data": {
      "text/html": [
       "<div>\n",
       "<style scoped>\n",
       "    .dataframe tbody tr th:only-of-type {\n",
       "        vertical-align: middle;\n",
       "    }\n",
       "\n",
       "    .dataframe tbody tr th {\n",
       "        vertical-align: top;\n",
       "    }\n",
       "\n",
       "    .dataframe thead th {\n",
       "        text-align: right;\n",
       "    }\n",
       "</style>\n",
       "<table border=\"1\" class=\"dataframe\">\n",
       "  <thead>\n",
       "    <tr style=\"text-align: right;\">\n",
       "      <th></th>\n",
       "      <th>asin</th>\n",
       "      <th>reviewTime</th>\n",
       "      <th>overall</th>\n",
       "      <th>helpful</th>\n",
       "      <th>summary</th>\n",
       "      <th>reviewText</th>\n",
       "    </tr>\n",
       "  </thead>\n",
       "  <tbody>\n",
       "    <tr>\n",
       "      <th>0</th>\n",
       "      <td>0000143502</td>\n",
       "      <td>01 17, 2013</td>\n",
       "      <td>5.0</td>\n",
       "      <td>[0, 0]</td>\n",
       "      <td>Alton... nough said</td>\n",
       "      <td>This has some great tips as always and is help...</td>\n",
       "    </tr>\n",
       "    <tr>\n",
       "      <th>1</th>\n",
       "      <td>0000143529</td>\n",
       "      <td>10 2, 2013</td>\n",
       "      <td>5.0</td>\n",
       "      <td>[0, 0]</td>\n",
       "      <td>Ah Alton...</td>\n",
       "      <td>This is a great pastry guide.  I love how Alto...</td>\n",
       "    </tr>\n",
       "    <tr>\n",
       "      <th>2</th>\n",
       "      <td>0000143561</td>\n",
       "      <td>07 17, 2008</td>\n",
       "      <td>2.0</td>\n",
       "      <td>[2, 4]</td>\n",
       "      <td>Don't waste your money</td>\n",
       "      <td>I have to admit that I am a fan of Giada's coo...</td>\n",
       "    </tr>\n",
       "    <tr>\n",
       "      <th>3</th>\n",
       "      <td>0000143588</td>\n",
       "      <td>03 13, 2009</td>\n",
       "      <td>5.0</td>\n",
       "      <td>[9, 9]</td>\n",
       "      <td>VOLUME 1 &amp; VOLUME 2-BETTER THAN THERAPY</td>\n",
       "      <td>I bought these two volumes new and spent over ...</td>\n",
       "    </tr>\n",
       "    <tr>\n",
       "      <th>4</th>\n",
       "      <td>0000143588</td>\n",
       "      <td>01 18, 2009</td>\n",
       "      <td>5.0</td>\n",
       "      <td>[1, 4]</td>\n",
       "      <td>Barefoot Contesst Vol 2</td>\n",
       "      <td>I am very pleased with the dvd only wish i cou...</td>\n",
       "    </tr>\n",
       "  </tbody>\n",
       "</table>\n",
       "</div>"
      ],
      "text/plain": [
       "         asin   reviewTime  overall helpful  \\\n",
       "0  0000143502  01 17, 2013      5.0  [0, 0]   \n",
       "1  0000143529   10 2, 2013      5.0  [0, 0]   \n",
       "2  0000143561  07 17, 2008      2.0  [2, 4]   \n",
       "3  0000143588  03 13, 2009      5.0  [9, 9]   \n",
       "4  0000143588  01 18, 2009      5.0  [1, 4]   \n",
       "\n",
       "                                   summary  \\\n",
       "0                      Alton... nough said   \n",
       "1                              Ah Alton...   \n",
       "2                   Don't waste your money   \n",
       "3  VOLUME 1 & VOLUME 2-BETTER THAN THERAPY   \n",
       "4                  Barefoot Contesst Vol 2   \n",
       "\n",
       "                                          reviewText  \n",
       "0  This has some great tips as always and is help...  \n",
       "1  This is a great pastry guide.  I love how Alto...  \n",
       "2  I have to admit that I am a fan of Giada's coo...  \n",
       "3  I bought these two volumes new and spent over ...  \n",
       "4  I am very pleased with the dvd only wish i cou...  "
      ]
     },
     "execution_count": 16,
     "metadata": {},
     "output_type": "execute_result"
    }
   ],
   "source": [
    "reviews_df = safe_reviews_df\n",
    "print(reviews_df.shape)\n",
    "reviews_df.head()"
   ]
  },
  {
   "cell_type": "code",
   "execution_count": 17,
   "metadata": {
    "collapsed": true
   },
   "outputs": [],
   "source": [
    "def prefilter_reviews(review_df):\n",
    "    filtered_reviews = review_df[review_df['asin'].isin(meta_all_actors['asin'].tolist())]\n",
    "    filtered_reviews = filtered_reviews[features_reviews]\n",
    "    filtered_reviews['reviewTime'] = list(pd.to_datetime(filtered_reviews['reviewTime'].str.replace(',','').str.replace(' ','-')))\n",
    "    \n",
    "    return filtered_reviews"
   ]
  },
  {
   "cell_type": "code",
   "execution_count": 18,
   "metadata": {
    "scrolled": true
   },
   "outputs": [
    {
     "name": "stdout",
     "output_type": "stream",
     "text": [
      "(753180, 7)\n"
     ]
    },
    {
     "data": {
      "text/html": [
       "<div>\n",
       "<style scoped>\n",
       "    .dataframe tbody tr th:only-of-type {\n",
       "        vertical-align: middle;\n",
       "    }\n",
       "\n",
       "    .dataframe tbody tr th {\n",
       "        vertical-align: top;\n",
       "    }\n",
       "\n",
       "    .dataframe thead th {\n",
       "        text-align: right;\n",
       "    }\n",
       "</style>\n",
       "<table border=\"1\" class=\"dataframe\">\n",
       "  <thead>\n",
       "    <tr style=\"text-align: right;\">\n",
       "      <th></th>\n",
       "      <th>index</th>\n",
       "      <th>asin</th>\n",
       "      <th>reviewTime</th>\n",
       "      <th>overall</th>\n",
       "      <th>helpful</th>\n",
       "      <th>summary</th>\n",
       "      <th>reviewText</th>\n",
       "    </tr>\n",
       "  </thead>\n",
       "  <tbody>\n",
       "    <tr>\n",
       "      <th>0</th>\n",
       "      <td>742</td>\n",
       "      <td>0307141462</td>\n",
       "      <td>2011-09-16</td>\n",
       "      <td>5.0</td>\n",
       "      <td>[0, 0]</td>\n",
       "      <td>Great movie! Even as a young adult (:</td>\n",
       "      <td>This was one of my favorite movies to watch at...</td>\n",
       "    </tr>\n",
       "    <tr>\n",
       "      <th>1</th>\n",
       "      <td>746</td>\n",
       "      <td>0307141985</td>\n",
       "      <td>2010-11-08</td>\n",
       "      <td>3.0</td>\n",
       "      <td>[2, 7]</td>\n",
       "      <td>the not so great olden days of cinema...</td>\n",
       "      <td>I purchased this video for my daughter, rememb...</td>\n",
       "    </tr>\n",
       "    <tr>\n",
       "      <th>2</th>\n",
       "      <td>747</td>\n",
       "      <td>0307141985</td>\n",
       "      <td>2008-11-25</td>\n",
       "      <td>5.0</td>\n",
       "      <td>[2, 2]</td>\n",
       "      <td>Nostalgic Entertainment</td>\n",
       "      <td>I video taped this off of television for my ch...</td>\n",
       "    </tr>\n",
       "    <tr>\n",
       "      <th>3</th>\n",
       "      <td>748</td>\n",
       "      <td>0307141985</td>\n",
       "      <td>2008-11-17</td>\n",
       "      <td>5.0</td>\n",
       "      <td>[2, 2]</td>\n",
       "      <td>Delightful Lesson In Our Nation's Early History</td>\n",
       "      <td>\"Set sail with the tiniest Pilgrim for a music...</td>\n",
       "    </tr>\n",
       "    <tr>\n",
       "      <th>4</th>\n",
       "      <td>749</td>\n",
       "      <td>0307141985</td>\n",
       "      <td>2004-11-13</td>\n",
       "      <td>5.0</td>\n",
       "      <td>[7, 8]</td>\n",
       "      <td>Every child would LOV E this Movie!</td>\n",
       "      <td>I can remember every Thanksgiving me and my co...</td>\n",
       "    </tr>\n",
       "  </tbody>\n",
       "</table>\n",
       "</div>"
      ],
      "text/plain": [
       "   index        asin reviewTime  overall helpful  \\\n",
       "0    742  0307141462 2011-09-16      5.0  [0, 0]   \n",
       "1    746  0307141985 2010-11-08      3.0  [2, 7]   \n",
       "2    747  0307141985 2008-11-25      5.0  [2, 2]   \n",
       "3    748  0307141985 2008-11-17      5.0  [2, 2]   \n",
       "4    749  0307141985 2004-11-13      5.0  [7, 8]   \n",
       "\n",
       "                                           summary  \\\n",
       "0            Great movie! Even as a young adult (:   \n",
       "1         the not so great olden days of cinema...   \n",
       "2                          Nostalgic Entertainment   \n",
       "3  Delightful Lesson In Our Nation's Early History   \n",
       "4              Every child would LOV E this Movie!   \n",
       "\n",
       "                                          reviewText  \n",
       "0  This was one of my favorite movies to watch at...  \n",
       "1  I purchased this video for my daughter, rememb...  \n",
       "2  I video taped this off of television for my ch...  \n",
       "3  \"Set sail with the tiniest Pilgrim for a music...  \n",
       "4  I can remember every Thanksgiving me and my co...  "
      ]
     },
     "execution_count": 18,
     "metadata": {},
     "output_type": "execute_result"
    }
   ],
   "source": [
    "filtered_reviews = prefilter_reviews(reviews_df)\n",
    "filtered_reviews = filtered_reviews.reset_index()\n",
    "print(filtered_reviews.shape)\n",
    "filtered_reviews.head()"
   ]
  },
  {
   "cell_type": "markdown",
   "metadata": {},
   "source": [
    "## 8) Matching meta/dead data with review data"
   ]
  },
  {
   "cell_type": "code",
   "execution_count": 19,
   "metadata": {
    "scrolled": true
   },
   "outputs": [
    {
     "name": "stdout",
     "output_type": "stream",
     "text": [
      "(14282, 6)\n"
     ]
    },
    {
     "data": {
      "text/html": [
       "<div>\n",
       "<style scoped>\n",
       "    .dataframe tbody tr th:only-of-type {\n",
       "        vertical-align: middle;\n",
       "    }\n",
       "\n",
       "    .dataframe tbody tr th {\n",
       "        vertical-align: top;\n",
       "    }\n",
       "\n",
       "    .dataframe thead th {\n",
       "        text-align: right;\n",
       "    }\n",
       "</style>\n",
       "<table border=\"1\" class=\"dataframe\">\n",
       "  <thead>\n",
       "    <tr style=\"text-align: right;\">\n",
       "      <th></th>\n",
       "      <th>asin</th>\n",
       "      <th>directors</th>\n",
       "      <th>creators</th>\n",
       "      <th>authors</th>\n",
       "      <th>clname</th>\n",
       "      <th>Death Date</th>\n",
       "    </tr>\n",
       "  </thead>\n",
       "  <tbody>\n",
       "    <tr>\n",
       "      <th>3487</th>\n",
       "      <td>0792840461</td>\n",
       "      <td>Norman Jewison</td>\n",
       "      <td>(Haskell Wexler,Cinematographer),(Norman Jewis...</td>\n",
       "      <td></td>\n",
       "      <td>jack weston</td>\n",
       "      <td>1996-05-03</td>\n",
       "    </tr>\n",
       "    <tr>\n",
       "      <th>10823</th>\n",
       "      <td>6300216217</td>\n",
       "      <td></td>\n",
       "      <td></td>\n",
       "      <td></td>\n",
       "      <td>jack weston</td>\n",
       "      <td>1996-05-03</td>\n",
       "    </tr>\n",
       "    <tr>\n",
       "      <th>11212</th>\n",
       "      <td>6300270297</td>\n",
       "      <td>Richard Lester</td>\n",
       "      <td>(Paul Wilson,Cinematographer),(John Bloom,Edit...</td>\n",
       "      <td></td>\n",
       "      <td>jack weston</td>\n",
       "      <td>1996-05-03</td>\n",
       "    </tr>\n",
       "    <tr>\n",
       "      <th>11233</th>\n",
       "      <td>6300270025</td>\n",
       "      <td>Brian G Hutton</td>\n",
       "      <td>(Andre Morgan,Producer),(Daniel Grodnik,Produc...</td>\n",
       "      <td></td>\n",
       "      <td>jack weston</td>\n",
       "      <td>1996-05-03</td>\n",
       "    </tr>\n",
       "    <tr>\n",
       "      <th>12506</th>\n",
       "      <td>6301514017</td>\n",
       "      <td>Stuart Rosenberg</td>\n",
       "      <td></td>\n",
       "      <td></td>\n",
       "      <td>jack weston</td>\n",
       "      <td>1996-05-03</td>\n",
       "    </tr>\n",
       "  </tbody>\n",
       "</table>\n",
       "</div>"
      ],
      "text/plain": [
       "             asin         directors  \\\n",
       "3487   0792840461    Norman Jewison   \n",
       "10823  6300216217                     \n",
       "11212  6300270297    Richard Lester   \n",
       "11233  6300270025    Brian G Hutton   \n",
       "12506  6301514017  Stuart Rosenberg   \n",
       "\n",
       "                                                creators authors       clname  \\\n",
       "3487   (Haskell Wexler,Cinematographer),(Norman Jewis...          jack weston   \n",
       "10823                                                             jack weston   \n",
       "11212  (Paul Wilson,Cinematographer),(John Bloom,Edit...          jack weston   \n",
       "11233  (Andre Morgan,Producer),(Daniel Grodnik,Produc...          jack weston   \n",
       "12506                                                             jack weston   \n",
       "\n",
       "       Death Date  \n",
       "3487   1996-05-03  \n",
       "10823  1996-05-03  \n",
       "11212  1996-05-03  \n",
       "11233  1996-05-03  \n",
       "12506  1996-05-03  "
      ]
     },
     "execution_count": 19,
     "metadata": {},
     "output_type": "execute_result"
    }
   ],
   "source": [
    "print(meta_dead_actors.shape)\n",
    "meta_dead_actors.head()"
   ]
  },
  {
   "cell_type": "code",
   "execution_count": null,
   "metadata": {
    "collapsed": true
   },
   "outputs": [],
   "source": [
    "pd.options.mode.chained_assignment = None  # default='warn'\n",
    "\n",
    "def matching_meta_reviews(filtered_reviews, meta):\n",
    "    \n",
    "    processed_reviews = pd.DataFrame()\n",
    "    \n",
    "    for idx, asin in enumerate(meta['asin']):\n",
    "        match_reviews = pd.DataFrame()\n",
    "        match_reviews = filtered_reviews[filtered_reviews['asin']==asin]\n",
    "\n",
    "        match_reviews['actor name'] = meta.reset_index()['clname'].get_value(idx)\n",
    "        match_reviews['death date'] = meta.reset_index()['Death Date'].get_value(idx)\n",
    "\n",
    "        processed_reviews = processed_reviews.append(match_reviews)\n",
    "\n",
    "        if idx %1000 == 0 and idx!=0: \n",
    "            print('{} in {}'.format(idx, len(meta['asin'])))\n",
    "        \n",
    "    return processed_reviews"
   ]
  },
  {
   "cell_type": "code",
   "execution_count": null,
   "metadata": {
    "scrolled": false
   },
   "outputs": [
    {
     "name": "stderr",
     "output_type": "stream",
     "text": [
      "/usr/lib/python3.6/site-packages/ipykernel/__main__.py:11: FutureWarning: get_value is deprecated and will be removed in a future release. Please use .at[] or .iat[] accessors instead\n",
      "/usr/lib/python3.6/site-packages/ipykernel/__main__.py:12: FutureWarning: get_value is deprecated and will be removed in a future release. Please use .at[] or .iat[] accessors instead\n"
     ]
    },
    {
     "name": "stdout",
     "output_type": "stream",
     "text": [
      "1000 in 14282\n",
      "2000 in 14282\n"
     ]
    }
   ],
   "source": [
    "deads_reviews = matching_meta_reviews(filtered_reviews, meta_dead_actors)\n",
    "print(deads_reviews.shape)\n",
    "deads_reviews.head()"
   ]
  },
  {
   "cell_type": "markdown",
   "metadata": {},
   "source": [
    "## 8) Matching controls and reviews"
   ]
  },
  {
   "cell_type": "code",
   "execution_count": null,
   "metadata": {},
   "outputs": [],
   "source": [
    "print(meta_control_actors.shape)\n",
    "meta_control_actors.sort_values(by='asin').head()"
   ]
  },
  {
   "cell_type": "code",
   "execution_count": null,
   "metadata": {
    "collapsed": true
   },
   "outputs": [],
   "source": [
    "def match_control_meta_reviews(filtered_reviews, meta):\n",
    "    \n",
    "    processed_reviews = pd.DataFrame()\n",
    "    \n",
    "    for idx, asin in enumerate(meta['asin']):\n",
    "        match_reviews = pd.DataFrame()\n",
    "        match_reviews = filtered_reviews[filtered_reviews['asin']==asin]\n",
    "\n",
    "        match_reviews['actor name'] = meta.reset_index()['clname'].get_value(idx)\n",
    "\n",
    "        processed_reviews = processed_reviews.append(match_reviews)\n",
    "\n",
    "        if idx %1000 == 0 and idx!=0: \n",
    "            print('{} in {}'.format(idx, len(meta['asin'])))\n",
    "        \n",
    "    return processed_reviews"
   ]
  },
  {
   "cell_type": "code",
   "execution_count": null,
   "metadata": {},
   "outputs": [],
   "source": [
    "ctrls_reviews = match_control_meta_reviews(filtered_reviews, meta_control_actors)"
   ]
  },
  {
   "cell_type": "markdown",
   "metadata": {},
   "source": [
    "## Save files"
   ]
  },
  {
   "cell_type": "code",
   "execution_count": null,
   "metadata": {
    "collapsed": true
   },
   "outputs": [],
   "source": [
    "deads_reviews.to_csv('DATA/review_filtered/movie_reviews_matched.csv')"
   ]
  },
  {
   "cell_type": "code",
   "execution_count": null,
   "metadata": {
    "collapsed": true
   },
   "outputs": [],
   "source": [
    "ctrls_reviews.to_csv('DATA/review_filtered/movie_reviews_matched_ctrls.csv')"
   ]
  },
  {
   "cell_type": "markdown",
   "metadata": {},
   "source": [
    "## problems ?"
   ]
  },
  {
   "cell_type": "code",
   "execution_count": null,
   "metadata": {},
   "outputs": [],
   "source": [
    "deads_reviews.groupby('actor name').count().sort_values(by='index', ascending=False)[:10]"
   ]
  },
  {
   "cell_type": "code",
   "execution_count": null,
   "metadata": {
    "scrolled": true
   },
   "outputs": [],
   "source": [
    "ctrls_reviews.groupby('actor name').count().sort_values(by='index', ascending=False)"
   ]
  },
  {
   "cell_type": "code",
   "execution_count": null,
   "metadata": {},
   "outputs": [],
   "source": [
    "### PROBLEM\n",
    "###\n",
    "\n",
    "#ctrls_reviews[ctrls_reviews['actor name']=='johnny depp'].groupby('asin').count()['asins']\n",
    "idx = meta_control_actors[meta_control_actors['clname']=='chris fisher'].groupby('asin').count().reset_index()['asin']\n",
    "reviews_df[reviews_df['asin'].isin(idx)].count()"
   ]
  },
  {
   "cell_type": "code",
   "execution_count": null,
   "metadata": {},
   "outputs": [],
   "source": [
    "match_reviews = filtered_reviews[filtered_reviews['asin'].str.contains('B00G3NK8NW')]\n",
    "match_reviews.shape"
   ]
  },
  {
   "cell_type": "code",
   "execution_count": null,
   "metadata": {},
   "outputs": [],
   "source": [
    "meta_all_actors[meta_all_actors['asin'].isin(['B00G3NK8NW'])]"
   ]
  },
  {
   "cell_type": "code",
   "execution_count": null,
   "metadata": {},
   "outputs": [],
   "source": [
    "reviews_df[reviews_df['asin'].isin(['B00G3NK8NW'])].shape"
   ]
  },
  {
   "cell_type": "code",
   "execution_count": null,
   "metadata": {},
   "outputs": [],
   "source": [
    "filtered_reviews[filtered_reviews['asin'].isin(['B00G3NK8NW'])].shape"
   ]
  },
  {
   "cell_type": "code",
   "execution_count": null,
   "metadata": {},
   "outputs": [],
   "source": [
    "len(list(meta_all_actors['asin']))"
   ]
  },
  {
   "cell_type": "code",
   "execution_count": null,
   "metadata": {},
   "outputs": [],
   "source": [
    "len(meta_all_actors['asin'].unique()), len(meta_all_actors['asin'])"
   ]
  },
  {
   "cell_type": "code",
   "execution_count": null,
   "metadata": {},
   "outputs": [],
   "source": [
    "ctrls_reviews[ctrls_reviews['asin'].isin(['B00G3NK8NW'])]"
   ]
  },
  {
   "cell_type": "code",
   "execution_count": null,
   "metadata": {
    "collapsed": true
   },
   "outputs": [],
   "source": []
  },
  {
   "cell_type": "code",
   "execution_count": null,
   "metadata": {
    "collapsed": true
   },
   "outputs": [],
   "source": []
  }
 ],
 "metadata": {
  "kernelspec": {
   "display_name": "Python 3",
   "language": "python",
   "name": "python3"
  },
  "language_info": {
   "codemirror_mode": {
    "name": "ipython",
    "version": 3
   },
   "file_extension": ".py",
   "mimetype": "text/x-python",
   "name": "python",
   "nbconvert_exporter": "python",
   "pygments_lexer": "ipython3",
   "version": "3.6.3"
  }
 },
 "nbformat": 4,
 "nbformat_minor": 2
}
