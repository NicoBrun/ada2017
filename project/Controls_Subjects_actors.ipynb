{
 "cells": [
  {
   "cell_type": "code",
   "execution_count": 1,
   "metadata": {
    "collapsed": true
   },
   "outputs": [],
   "source": [
    "#essential imports\n",
    "import pandas as pd\n",
    "import numpy as np\n",
    "\n",
    "import datetime as dt\n",
    "import time\n",
    "\n",
    "# Strict JSON conversion\n",
    "import json \n",
    "import gzip \n",
    "\n",
    "#garbage collector\n",
    "import gc\n",
    "\n",
    "startyear=1990\n",
    "startmonth=1\n",
    "\n",
    "cps = 4\n",
    "nbMonthBeforeDeath = 2 # how many month are used as features\n",
    "datapath = 'DATA/review_filtered/'\n",
    "f_subjects = datapath+'movie_reviews_matched_'+str(cps)+'cps.csv'\n",
    "f_controls = datapath+'movie_reviews_matched_'+str(cps)+'cps_ctrls.csv'"
   ]
  },
  {
   "cell_type": "markdown",
   "metadata": {},
   "source": [
    "# Load data"
   ]
  },
  {
   "cell_type": "code",
   "execution_count": 2,
   "metadata": {},
   "outputs": [
    {
     "data": {
      "text/html": [
       "<div>\n",
       "<style>\n",
       "    .dataframe thead tr:only-child th {\n",
       "        text-align: right;\n",
       "    }\n",
       "\n",
       "    .dataframe thead th {\n",
       "        text-align: left;\n",
       "    }\n",
       "\n",
       "    .dataframe tbody tr th {\n",
       "        vertical-align: top;\n",
       "    }\n",
       "</style>\n",
       "<table border=\"1\" class=\"dataframe\">\n",
       "  <thead>\n",
       "    <tr style=\"text-align: right;\">\n",
       "      <th></th>\n",
       "      <th>index</th>\n",
       "      <th>asin</th>\n",
       "      <th>strReviewTime</th>\n",
       "      <th>overall</th>\n",
       "      <th>helpful</th>\n",
       "      <th>summary</th>\n",
       "      <th>reviewText</th>\n",
       "      <th>actor name</th>\n",
       "      <th>death date</th>\n",
       "    </tr>\n",
       "  </thead>\n",
       "  <tbody>\n",
       "    <tr>\n",
       "      <th>0</th>\n",
       "      <td>308659</td>\n",
       "      <td>0792840461</td>\n",
       "      <td>2006-04-07</td>\n",
       "      <td>4.0</td>\n",
       "      <td>[1, 3]</td>\n",
       "      <td>The orginal</td>\n",
       "      <td>The Original and the best-not much to say read...</td>\n",
       "      <td>jack weston</td>\n",
       "      <td>1996-05-03</td>\n",
       "    </tr>\n",
       "    <tr>\n",
       "      <th>1</th>\n",
       "      <td>308660</td>\n",
       "      <td>0792840461</td>\n",
       "      <td>2013-03-24</td>\n",
       "      <td>5.0</td>\n",
       "      <td>[0, 0]</td>\n",
       "      <td>Steve McQueen invented cool</td>\n",
       "      <td>This was a great movie Steve McQueen invented ...</td>\n",
       "      <td>jack weston</td>\n",
       "      <td>1996-05-03</td>\n",
       "    </tr>\n",
       "    <tr>\n",
       "      <th>2</th>\n",
       "      <td>308661</td>\n",
       "      <td>0792840461</td>\n",
       "      <td>2014-04-05</td>\n",
       "      <td>4.0</td>\n",
       "      <td>[1, 1]</td>\n",
       "      <td>Where The Dough Is</td>\n",
       "      <td>Everybody knows banks, whether in storefronts,...</td>\n",
       "      <td>jack weston</td>\n",
       "      <td>1996-05-03</td>\n",
       "    </tr>\n",
       "  </tbody>\n",
       "</table>\n",
       "</div>"
      ],
      "text/plain": [
       "    index        asin strReviewTime  overall helpful  \\\n",
       "0  308659  0792840461    2006-04-07      4.0  [1, 3]   \n",
       "1  308660  0792840461    2013-03-24      5.0  [0, 0]   \n",
       "2  308661  0792840461    2014-04-05      4.0  [1, 1]   \n",
       "\n",
       "                       summary  \\\n",
       "0                  The orginal   \n",
       "1  Steve McQueen invented cool   \n",
       "2           Where The Dough Is   \n",
       "\n",
       "                                          reviewText   actor name  death date  \n",
       "0  The Original and the best-not much to say read...  jack weston  1996-05-03  \n",
       "1  This was a great movie Steve McQueen invented ...  jack weston  1996-05-03  \n",
       "2  Everybody knows banks, whether in storefronts,...  jack weston  1996-05-03  "
      ]
     },
     "execution_count": 2,
     "metadata": {},
     "output_type": "execute_result"
    }
   ],
   "source": [
    "subjects_actors = pd.read_csv(f_subjects).drop('Unnamed: 0',axis=1)\n",
    "subjects_actors = subjects_actors.rename(columns={'reviewTime' : 'strReviewTime'})\n",
    "subjects_actors.head(3)"
   ]
  },
  {
   "cell_type": "code",
   "execution_count": 3,
   "metadata": {},
   "outputs": [
    {
     "data": {
      "text/html": [
       "<div>\n",
       "<style>\n",
       "    .dataframe thead tr:only-child th {\n",
       "        text-align: right;\n",
       "    }\n",
       "\n",
       "    .dataframe thead th {\n",
       "        text-align: left;\n",
       "    }\n",
       "\n",
       "    .dataframe tbody tr th {\n",
       "        vertical-align: top;\n",
       "    }\n",
       "</style>\n",
       "<table border=\"1\" class=\"dataframe\">\n",
       "  <thead>\n",
       "    <tr style=\"text-align: right;\">\n",
       "      <th></th>\n",
       "      <th>index</th>\n",
       "      <th>asin</th>\n",
       "      <th>strReviewTime</th>\n",
       "      <th>overall</th>\n",
       "      <th>helpful</th>\n",
       "      <th>summary</th>\n",
       "      <th>reviewText</th>\n",
       "      <th>actor name</th>\n",
       "    </tr>\n",
       "  </thead>\n",
       "  <tbody>\n",
       "    <tr>\n",
       "      <th>0</th>\n",
       "      <td>827321</td>\n",
       "      <td>630327417X</td>\n",
       "      <td>2009-10-15</td>\n",
       "      <td>5.0</td>\n",
       "      <td>[0, 1]</td>\n",
       "      <td>Great Movie</td>\n",
       "      <td>Nothing bad to say. Dvd came quickly and in gr...</td>\n",
       "      <td>michael hynson</td>\n",
       "    </tr>\n",
       "    <tr>\n",
       "      <th>1</th>\n",
       "      <td>827322</td>\n",
       "      <td>630327417X</td>\n",
       "      <td>2000-09-16</td>\n",
       "      <td>5.0</td>\n",
       "      <td>[0, 0]</td>\n",
       "      <td>endless summer</td>\n",
       "      <td>its just to good for words!</td>\n",
       "      <td>michael hynson</td>\n",
       "    </tr>\n",
       "    <tr>\n",
       "      <th>2</th>\n",
       "      <td>827323</td>\n",
       "      <td>630327417X</td>\n",
       "      <td>2005-03-03</td>\n",
       "      <td>1.0</td>\n",
       "      <td>[5, 58]</td>\n",
       "      <td>A very disappointed lover of documentaries</td>\n",
       "      <td>I feel obligated to warn you-as I wish I was w...</td>\n",
       "      <td>michael hynson</td>\n",
       "    </tr>\n",
       "  </tbody>\n",
       "</table>\n",
       "</div>"
      ],
      "text/plain": [
       "    index        asin strReviewTime  overall  helpful  \\\n",
       "0  827321  630327417X    2009-10-15      5.0   [0, 1]   \n",
       "1  827322  630327417X    2000-09-16      5.0   [0, 0]   \n",
       "2  827323  630327417X    2005-03-03      1.0  [5, 58]   \n",
       "\n",
       "                                      summary  \\\n",
       "0                                 Great Movie   \n",
       "1                              endless summer   \n",
       "2  A very disappointed lover of documentaries   \n",
       "\n",
       "                                          reviewText      actor name  \n",
       "0  Nothing bad to say. Dvd came quickly and in gr...  michael hynson  \n",
       "1                        its just to good for words!  michael hynson  \n",
       "2  I feel obligated to warn you-as I wish I was w...  michael hynson  "
      ]
     },
     "execution_count": 3,
     "metadata": {},
     "output_type": "execute_result"
    }
   ],
   "source": [
    "controls_actors = pd.read_csv(f_controls).drop('Unnamed: 0',axis=1)\n",
    "controls_actors = controls_actors.rename(columns={'reviewTime' : 'strReviewTime'})\n",
    "controls_actors.head(3)"
   ]
  },
  {
   "cell_type": "markdown",
   "metadata": {},
   "source": [
    "# Convert dates to timestamps / years"
   ]
  },
  {
   "cell_type": "markdown",
   "metadata": {},
   "source": [
    "Convert dates to year and extract and set aside actor<-> deathdates"
   ]
  },
  {
   "cell_type": "code",
   "execution_count": 4,
   "metadata": {},
   "outputs": [
    {
     "data": {
      "text/html": [
       "<div>\n",
       "<style>\n",
       "    .dataframe thead tr:only-child th {\n",
       "        text-align: right;\n",
       "    }\n",
       "\n",
       "    .dataframe thead th {\n",
       "        text-align: left;\n",
       "    }\n",
       "\n",
       "    .dataframe tbody tr th {\n",
       "        vertical-align: top;\n",
       "    }\n",
       "</style>\n",
       "<table border=\"1\" class=\"dataframe\">\n",
       "  <thead>\n",
       "    <tr style=\"text-align: right;\">\n",
       "      <th></th>\n",
       "      <th>index</th>\n",
       "      <th>asin</th>\n",
       "      <th>strReviewTime</th>\n",
       "      <th>overall</th>\n",
       "      <th>helpful</th>\n",
       "      <th>summary</th>\n",
       "      <th>reviewText</th>\n",
       "      <th>actor name</th>\n",
       "      <th>death date</th>\n",
       "    </tr>\n",
       "  </thead>\n",
       "  <tbody>\n",
       "    <tr>\n",
       "      <th>0</th>\n",
       "      <td>308659</td>\n",
       "      <td>0792840461</td>\n",
       "      <td>2006-04-07</td>\n",
       "      <td>4.0</td>\n",
       "      <td>[1, 3]</td>\n",
       "      <td>The orginal</td>\n",
       "      <td>The Original and the best-not much to say read...</td>\n",
       "      <td>jack weston</td>\n",
       "      <td>1996-05-03</td>\n",
       "    </tr>\n",
       "    <tr>\n",
       "      <th>1</th>\n",
       "      <td>308660</td>\n",
       "      <td>0792840461</td>\n",
       "      <td>2013-03-24</td>\n",
       "      <td>5.0</td>\n",
       "      <td>[0, 0]</td>\n",
       "      <td>Steve McQueen invented cool</td>\n",
       "      <td>This was a great movie Steve McQueen invented ...</td>\n",
       "      <td>jack weston</td>\n",
       "      <td>1996-05-03</td>\n",
       "    </tr>\n",
       "    <tr>\n",
       "      <th>2</th>\n",
       "      <td>308661</td>\n",
       "      <td>0792840461</td>\n",
       "      <td>2014-04-05</td>\n",
       "      <td>4.0</td>\n",
       "      <td>[1, 1]</td>\n",
       "      <td>Where The Dough Is</td>\n",
       "      <td>Everybody knows banks, whether in storefronts,...</td>\n",
       "      <td>jack weston</td>\n",
       "      <td>1996-05-03</td>\n",
       "    </tr>\n",
       "    <tr>\n",
       "      <th>3</th>\n",
       "      <td>308662</td>\n",
       "      <td>0792840461</td>\n",
       "      <td>2012-12-21</td>\n",
       "      <td>2.0</td>\n",
       "      <td>[3, 3]</td>\n",
       "      <td>great movie,but PLEASE avoid this copy.</td>\n",
       "      <td>an all-time great movie and one of my favorite...</td>\n",
       "      <td>jack weston</td>\n",
       "      <td>1996-05-03</td>\n",
       "    </tr>\n",
       "    <tr>\n",
       "      <th>4</th>\n",
       "      <td>308663</td>\n",
       "      <td>0792840461</td>\n",
       "      <td>2013-05-12</td>\n",
       "      <td>5.0</td>\n",
       "      <td>[0, 0]</td>\n",
       "      <td>It's McQueen</td>\n",
       "      <td>Fans of a rough and tough McQueen know that th...</td>\n",
       "      <td>jack weston</td>\n",
       "      <td>1996-05-03</td>\n",
       "    </tr>\n",
       "  </tbody>\n",
       "</table>\n",
       "</div>"
      ],
      "text/plain": [
       "    index        asin strReviewTime  overall helpful  \\\n",
       "0  308659  0792840461    2006-04-07      4.0  [1, 3]   \n",
       "1  308660  0792840461    2013-03-24      5.0  [0, 0]   \n",
       "2  308661  0792840461    2014-04-05      4.0  [1, 1]   \n",
       "3  308662  0792840461    2012-12-21      2.0  [3, 3]   \n",
       "4  308663  0792840461    2013-05-12      5.0  [0, 0]   \n",
       "\n",
       "                                   summary  \\\n",
       "0                              The orginal   \n",
       "1              Steve McQueen invented cool   \n",
       "2                       Where The Dough Is   \n",
       "3  great movie,but PLEASE avoid this copy.   \n",
       "4                             It's McQueen   \n",
       "\n",
       "                                          reviewText   actor name  death date  \n",
       "0  The Original and the best-not much to say read...  jack weston  1996-05-03  \n",
       "1  This was a great movie Steve McQueen invented ...  jack weston  1996-05-03  \n",
       "2  Everybody knows banks, whether in storefronts,...  jack weston  1996-05-03  \n",
       "3  an all-time great movie and one of my favorite...  jack weston  1996-05-03  \n",
       "4  Fans of a rough and tough McQueen know that th...  jack weston  1996-05-03  "
      ]
     },
     "execution_count": 4,
     "metadata": {},
     "output_type": "execute_result"
    }
   ],
   "source": [
    "subjects_actors.head()"
   ]
  },
  {
   "cell_type": "code",
   "execution_count": 5,
   "metadata": {
    "collapsed": true
   },
   "outputs": [],
   "source": [
    "#counts = subjects_actors.groupby('actor name').count()\n",
    "#subjects_actors['death date'] = pd.to_datetime('2001').year\n",
    "\n",
    "''' Takes a serie !\n",
    "'''\n",
    "def strdateToMonth(date) : \n",
    "    year = int(str(date)[:4])\n",
    "    month = int(str(date)[5:7])\n",
    "    assert(month <= 12 and month >= 1)\n",
    "    return (month - startmonth) + (year - startyear)*12 \n",
    "\n",
    "''' Takes a serie !\n",
    "'''\n",
    "def strdateToYear(date) : \n",
    "    return int(str(date)[:4])\n",
    "\n",
    "# SUBJECTS\n",
    "subjects_actors['reviewMonth'] = subjects_actors['strReviewTime'].apply(strdateToMonth)\n",
    "subjects_actors['reviewYear'] = subjects_actors['strReviewTime'].apply(strdateToYear)\n",
    "subjects_actors['reviewTime'] = pd.to_datetime(subjects_actors['strReviewTime'])\n",
    "subjects_actors['death month'] = subjects_actors['death date'].apply(strdateToMonth)\n",
    "subjects_actors['death year'] = subjects_actors['death date'].apply(strdateToYear)\n",
    "subjects_actors['death date'] = pd.to_datetime(subjects_actors['death date'])\n",
    "\n",
    "# CONTROLS\n",
    "controls_actors['reviewMonth'] = controls_actors['strReviewTime'].apply(strdateToMonth)\n",
    "controls_actors['reviewYear'] = controls_actors['strReviewTime'].apply(strdateToYear)\n",
    "controls_actors['reviewTime'] = pd.to_datetime(controls_actors['strReviewTime'])"
   ]
  },
  {
   "cell_type": "markdown",
   "metadata": {},
   "source": [
    "Extract death dates and subjects names"
   ]
  },
  {
   "cell_type": "code",
   "execution_count": 6,
   "metadata": {},
   "outputs": [
    {
     "data": {
      "text/html": [
       "<div>\n",
       "<style>\n",
       "    .dataframe thead tr:only-child th {\n",
       "        text-align: right;\n",
       "    }\n",
       "\n",
       "    .dataframe thead th {\n",
       "        text-align: left;\n",
       "    }\n",
       "\n",
       "    .dataframe tbody tr th {\n",
       "        vertical-align: top;\n",
       "    }\n",
       "</style>\n",
       "<table border=\"1\" class=\"dataframe\">\n",
       "  <thead>\n",
       "    <tr style=\"text-align: right;\">\n",
       "      <th></th>\n",
       "      <th>actor name</th>\n",
       "      <th>death date</th>\n",
       "      <th>death year</th>\n",
       "      <th>death month</th>\n",
       "    </tr>\n",
       "  </thead>\n",
       "  <tbody>\n",
       "    <tr>\n",
       "      <th>0</th>\n",
       "      <td>adriana caselotti</td>\n",
       "      <td>1997-01-19</td>\n",
       "      <td>1997</td>\n",
       "      <td>84</td>\n",
       "    </tr>\n",
       "    <tr>\n",
       "      <th>1</th>\n",
       "      <td>adrienne shelly</td>\n",
       "      <td>2006-11-01</td>\n",
       "      <td>2006</td>\n",
       "      <td>202</td>\n",
       "    </tr>\n",
       "    <tr>\n",
       "      <th>2</th>\n",
       "      <td>al martino</td>\n",
       "      <td>2009-10-13</td>\n",
       "      <td>2009</td>\n",
       "      <td>237</td>\n",
       "    </tr>\n",
       "    <tr>\n",
       "      <th>3</th>\n",
       "      <td>alain bashung</td>\n",
       "      <td>2009-03-14</td>\n",
       "      <td>2009</td>\n",
       "      <td>230</td>\n",
       "    </tr>\n",
       "    <tr>\n",
       "      <th>4</th>\n",
       "      <td>alan bates</td>\n",
       "      <td>2003-12-27</td>\n",
       "      <td>2003</td>\n",
       "      <td>167</td>\n",
       "    </tr>\n",
       "  </tbody>\n",
       "</table>\n",
       "</div>"
      ],
      "text/plain": [
       "          actor name death date  death year  death month\n",
       "0  adriana caselotti 1997-01-19        1997           84\n",
       "1    adrienne shelly 2006-11-01        2006          202\n",
       "2         al martino 2009-10-13        2009          237\n",
       "3      alain bashung 2009-03-14        2009          230\n",
       "4         alan bates 2003-12-27        2003          167"
      ]
     },
     "execution_count": 6,
     "metadata": {},
     "output_type": "execute_result"
    }
   ],
   "source": [
    "deathdates = subjects_actors.groupby(['actor name','death date', 'death year', 'death month']).count()\\\n",
    "                            .reset_index()[['actor name', 'death date', 'death year', 'death month']]\n",
    "sbj_names = list(deathdates['actor name'])\n",
    "deathdates.head()"
   ]
  },
  {
   "cell_type": "markdown",
   "metadata": {},
   "source": [
    "Extract controls names"
   ]
  },
  {
   "cell_type": "code",
   "execution_count": 7,
   "metadata": {
    "collapsed": true
   },
   "outputs": [],
   "source": [
    "ctrl_names = list(set(controls_actors['actor name']))"
   ]
  },
  {
   "cell_type": "markdown",
   "metadata": {},
   "source": [
    "# Pre-filtering"
   ]
  },
  {
   "cell_type": "markdown",
   "metadata": {},
   "source": [
    "### Filtering on populatiry"
   ]
  },
  {
   "cell_type": "markdown",
   "metadata": {},
   "source": [
    "Filter actors based on their popularity: they should be mentioned at least once in the reviews. It is a way to be sure the reviewers know the actor."
   ]
  },
  {
   "cell_type": "code",
   "execution_count": 8,
   "metadata": {
    "collapsed": true
   },
   "outputs": [],
   "source": [
    "thresh_pop = 1\n",
    "\n",
    "def mentionsName(row) : \n",
    "    if type(row['reviewText']) is str :\n",
    "        names = row['actor name'].split(' ')\n",
    "        text =  row['reviewText'].lower()\n",
    "        # can mention only name or surname\n",
    "        #return row['actor name'] in row['reviewText']\n",
    "        for name in names : \n",
    "            if name in text : \n",
    "                return True\n",
    "        return False\n",
    "    else : return False"
   ]
  },
  {
   "cell_type": "code",
   "execution_count": 9,
   "metadata": {},
   "outputs": [
    {
     "data": {
      "text/html": [
       "<div>\n",
       "<style>\n",
       "    .dataframe thead tr:only-child th {\n",
       "        text-align: right;\n",
       "    }\n",
       "\n",
       "    .dataframe thead th {\n",
       "        text-align: left;\n",
       "    }\n",
       "\n",
       "    .dataframe tbody tr th {\n",
       "        vertical-align: top;\n",
       "    }\n",
       "</style>\n",
       "<table border=\"1\" class=\"dataframe\">\n",
       "  <thead>\n",
       "    <tr style=\"text-align: right;\">\n",
       "      <th></th>\n",
       "      <th>index</th>\n",
       "      <th>asin</th>\n",
       "      <th>strReviewTime</th>\n",
       "      <th>overall</th>\n",
       "      <th>helpful</th>\n",
       "      <th>summary</th>\n",
       "      <th>reviewText</th>\n",
       "      <th>actor name</th>\n",
       "      <th>death date</th>\n",
       "      <th>reviewMonth</th>\n",
       "      <th>reviewYear</th>\n",
       "      <th>reviewTime</th>\n",
       "      <th>death month</th>\n",
       "      <th>death year</th>\n",
       "    </tr>\n",
       "  </thead>\n",
       "  <tbody>\n",
       "    <tr>\n",
       "      <th>0</th>\n",
       "      <td>308659</td>\n",
       "      <td>0792840461</td>\n",
       "      <td>2006-04-07</td>\n",
       "      <td>4.0</td>\n",
       "      <td>[1, 3]</td>\n",
       "      <td>The orginal</td>\n",
       "      <td>The Original and the best-not much to say read...</td>\n",
       "      <td>jack weston</td>\n",
       "      <td>1996-05-03</td>\n",
       "      <td>195</td>\n",
       "      <td>2006</td>\n",
       "      <td>2006-04-07</td>\n",
       "      <td>76</td>\n",
       "      <td>1996</td>\n",
       "    </tr>\n",
       "    <tr>\n",
       "      <th>1</th>\n",
       "      <td>308660</td>\n",
       "      <td>0792840461</td>\n",
       "      <td>2013-03-24</td>\n",
       "      <td>5.0</td>\n",
       "      <td>[0, 0]</td>\n",
       "      <td>Steve McQueen invented cool</td>\n",
       "      <td>This was a great movie Steve McQueen invented ...</td>\n",
       "      <td>jack weston</td>\n",
       "      <td>1996-05-03</td>\n",
       "      <td>278</td>\n",
       "      <td>2013</td>\n",
       "      <td>2013-03-24</td>\n",
       "      <td>76</td>\n",
       "      <td>1996</td>\n",
       "    </tr>\n",
       "    <tr>\n",
       "      <th>2</th>\n",
       "      <td>308661</td>\n",
       "      <td>0792840461</td>\n",
       "      <td>2014-04-05</td>\n",
       "      <td>4.0</td>\n",
       "      <td>[1, 1]</td>\n",
       "      <td>Where The Dough Is</td>\n",
       "      <td>Everybody knows banks, whether in storefronts,...</td>\n",
       "      <td>jack weston</td>\n",
       "      <td>1996-05-03</td>\n",
       "      <td>291</td>\n",
       "      <td>2014</td>\n",
       "      <td>2014-04-05</td>\n",
       "      <td>76</td>\n",
       "      <td>1996</td>\n",
       "    </tr>\n",
       "    <tr>\n",
       "      <th>3</th>\n",
       "      <td>308662</td>\n",
       "      <td>0792840461</td>\n",
       "      <td>2012-12-21</td>\n",
       "      <td>2.0</td>\n",
       "      <td>[3, 3]</td>\n",
       "      <td>great movie,but PLEASE avoid this copy.</td>\n",
       "      <td>an all-time great movie and one of my favorite...</td>\n",
       "      <td>jack weston</td>\n",
       "      <td>1996-05-03</td>\n",
       "      <td>275</td>\n",
       "      <td>2012</td>\n",
       "      <td>2012-12-21</td>\n",
       "      <td>76</td>\n",
       "      <td>1996</td>\n",
       "    </tr>\n",
       "    <tr>\n",
       "      <th>4</th>\n",
       "      <td>308663</td>\n",
       "      <td>0792840461</td>\n",
       "      <td>2013-05-12</td>\n",
       "      <td>5.0</td>\n",
       "      <td>[0, 0]</td>\n",
       "      <td>It's McQueen</td>\n",
       "      <td>Fans of a rough and tough McQueen know that th...</td>\n",
       "      <td>jack weston</td>\n",
       "      <td>1996-05-03</td>\n",
       "      <td>280</td>\n",
       "      <td>2013</td>\n",
       "      <td>2013-05-12</td>\n",
       "      <td>76</td>\n",
       "      <td>1996</td>\n",
       "    </tr>\n",
       "  </tbody>\n",
       "</table>\n",
       "</div>"
      ],
      "text/plain": [
       "    index        asin strReviewTime  overall helpful  \\\n",
       "0  308659  0792840461    2006-04-07      4.0  [1, 3]   \n",
       "1  308660  0792840461    2013-03-24      5.0  [0, 0]   \n",
       "2  308661  0792840461    2014-04-05      4.0  [1, 1]   \n",
       "3  308662  0792840461    2012-12-21      2.0  [3, 3]   \n",
       "4  308663  0792840461    2013-05-12      5.0  [0, 0]   \n",
       "\n",
       "                                   summary  \\\n",
       "0                              The orginal   \n",
       "1              Steve McQueen invented cool   \n",
       "2                       Where The Dough Is   \n",
       "3  great movie,but PLEASE avoid this copy.   \n",
       "4                             It's McQueen   \n",
       "\n",
       "                                          reviewText   actor name death date  \\\n",
       "0  The Original and the best-not much to say read...  jack weston 1996-05-03   \n",
       "1  This was a great movie Steve McQueen invented ...  jack weston 1996-05-03   \n",
       "2  Everybody knows banks, whether in storefronts,...  jack weston 1996-05-03   \n",
       "3  an all-time great movie and one of my favorite...  jack weston 1996-05-03   \n",
       "4  Fans of a rough and tough McQueen know that th...  jack weston 1996-05-03   \n",
       "\n",
       "   reviewMonth  reviewYear reviewTime  death month  death year  \n",
       "0          195        2006 2006-04-07           76        1996  \n",
       "1          278        2013 2013-03-24           76        1996  \n",
       "2          291        2014 2014-04-05           76        1996  \n",
       "3          275        2012 2012-12-21           76        1996  \n",
       "4          280        2013 2013-05-12           76        1996  "
      ]
     },
     "execution_count": 9,
     "metadata": {},
     "output_type": "execute_result"
    }
   ],
   "source": [
    "subjects_actors.head()"
   ]
  },
  {
   "cell_type": "code",
   "execution_count": 10,
   "metadata": {},
   "outputs": [
    {
     "data": {
      "text/plain": [
       "((597276, 15), (130234, 15))"
      ]
     },
     "execution_count": 10,
     "metadata": {},
     "output_type": "execute_result"
    }
   ],
   "source": [
    "subjects_actors['mentionned'] = subjects_actors.apply(mentionsName, axis=1)\n",
    "subjects_actors.shape, subjects_actors[subjects_actors['mentionned']==True].shape"
   ]
  },
  {
   "cell_type": "code",
   "execution_count": 11,
   "metadata": {},
   "outputs": [
    {
     "name": "stdout",
     "output_type": "stream",
     "text": [
      "501  reduced to (460,)\n"
     ]
    },
    {
     "data": {
      "text/plain": [
       "actor name\n",
       "james stewart        4135\n",
       "paul newman          3119\n",
       "charlton heston      3031\n",
       "gregory peck         2618\n",
       "marlon brando        2592\n",
       "jack lemmon          2367\n",
       "james garner         2347\n",
       "katharine hepburn    2293\n",
       "robert mitchum       2089\n",
       "charles bronson      2028\n",
       "Name: asin, dtype: int64"
      ]
     },
     "execution_count": 11,
     "metadata": {},
     "output_type": "execute_result"
    }
   ],
   "source": [
    "## Not necessarily needed, count of mentions are still in the reviews dataframe\n",
    "##\n",
    "sbj_popular = subjects_actors[subjects_actors['mentionned']==True]\n",
    "sbj_popular = sbj_popular.groupby('actor name').count()['asin']\n",
    "print(len(sbj_names), \" reduced to\", sbj_popular.shape)\n",
    "sbj_popular.sort_values(ascending=False)[:10]"
   ]
  },
  {
   "cell_type": "code",
   "execution_count": 12,
   "metadata": {},
   "outputs": [
    {
     "data": {
      "text/plain": [
       "((285071, 12), (42178, 12))"
      ]
     },
     "execution_count": 12,
     "metadata": {},
     "output_type": "execute_result"
    }
   ],
   "source": [
    "controls_actors['mentionned'] = controls_actors.apply(mentionsName, axis=1)\n",
    "controls_actors.shape, controls_actors[controls_actors['mentionned']==True].shape"
   ]
  },
  {
   "cell_type": "code",
   "execution_count": 13,
   "metadata": {},
   "outputs": [
    {
     "name": "stdout",
     "output_type": "stream",
     "text": [
      "2419  reduced to (1215,)\n"
     ]
    },
    {
     "data": {
      "text/plain": [
       "actor name\n",
       "matt damon            6017\n",
       "steve martin          3266\n",
       "tyler perry           2870\n",
       "ian anderson          1213\n",
       "laurence fishburne    1198\n",
       "liev schreiber        1060\n",
       "michelle williams     1058\n",
       "marc m                 896\n",
       "maggie gyllenhaal      867\n",
       "robert taylor          749\n",
       "Name: asin, dtype: int64"
      ]
     },
     "execution_count": 13,
     "metadata": {},
     "output_type": "execute_result"
    }
   ],
   "source": [
    "## Not necessarily needed, count of mentions are still in the reviews dataframe\n",
    "##\n",
    "ctl_popular = controls_actors[controls_actors['mentionned']==True]\n",
    "ctl_popular = ctl_popular.groupby('actor name').count()['asin']\n",
    "print(len(ctrl_names), \" reduced to\", ctl_popular.shape)\n",
    "ctl_popular.sort_values(ascending=False)[:10]"
   ]
  },
  {
   "cell_type": "markdown",
   "metadata": {},
   "source": [
    "### Filtering on date (2004-2013)"
   ]
  },
  {
   "cell_type": "code",
   "execution_count": 14,
   "metadata": {
    "scrolled": false
   },
   "outputs": [
    {
     "name": "stdout",
     "output_type": "stream",
     "text": [
      "original size :  (597276, 15)\n",
      "filtered size :  (597276, 15)\n"
     ]
    },
    {
     "data": {
      "text/html": [
       "<div>\n",
       "<style>\n",
       "    .dataframe thead tr:only-child th {\n",
       "        text-align: right;\n",
       "    }\n",
       "\n",
       "    .dataframe thead th {\n",
       "        text-align: left;\n",
       "    }\n",
       "\n",
       "    .dataframe tbody tr th {\n",
       "        vertical-align: top;\n",
       "    }\n",
       "</style>\n",
       "<table border=\"1\" class=\"dataframe\">\n",
       "  <thead>\n",
       "    <tr style=\"text-align: right;\">\n",
       "      <th></th>\n",
       "      <th>index</th>\n",
       "      <th>asin</th>\n",
       "      <th>strReviewTime</th>\n",
       "      <th>overall</th>\n",
       "      <th>helpful</th>\n",
       "      <th>summary</th>\n",
       "      <th>reviewText</th>\n",
       "      <th>actor name</th>\n",
       "      <th>death date</th>\n",
       "      <th>reviewMonth</th>\n",
       "      <th>reviewYear</th>\n",
       "      <th>reviewTime</th>\n",
       "      <th>death month</th>\n",
       "      <th>death year</th>\n",
       "      <th>mentionned</th>\n",
       "    </tr>\n",
       "  </thead>\n",
       "  <tbody>\n",
       "    <tr>\n",
       "      <th>0</th>\n",
       "      <td>308659</td>\n",
       "      <td>0792840461</td>\n",
       "      <td>2006-04-07</td>\n",
       "      <td>4.0</td>\n",
       "      <td>[1, 3]</td>\n",
       "      <td>The orginal</td>\n",
       "      <td>The Original and the best-not much to say read...</td>\n",
       "      <td>jack weston</td>\n",
       "      <td>1996-05-03</td>\n",
       "      <td>195</td>\n",
       "      <td>2006</td>\n",
       "      <td>2006-04-07</td>\n",
       "      <td>76</td>\n",
       "      <td>1996</td>\n",
       "      <td>False</td>\n",
       "    </tr>\n",
       "    <tr>\n",
       "      <th>1</th>\n",
       "      <td>308660</td>\n",
       "      <td>0792840461</td>\n",
       "      <td>2013-03-24</td>\n",
       "      <td>5.0</td>\n",
       "      <td>[0, 0]</td>\n",
       "      <td>Steve McQueen invented cool</td>\n",
       "      <td>This was a great movie Steve McQueen invented ...</td>\n",
       "      <td>jack weston</td>\n",
       "      <td>1996-05-03</td>\n",
       "      <td>278</td>\n",
       "      <td>2013</td>\n",
       "      <td>2013-03-24</td>\n",
       "      <td>76</td>\n",
       "      <td>1996</td>\n",
       "      <td>False</td>\n",
       "    </tr>\n",
       "    <tr>\n",
       "      <th>2</th>\n",
       "      <td>308661</td>\n",
       "      <td>0792840461</td>\n",
       "      <td>2014-04-05</td>\n",
       "      <td>4.0</td>\n",
       "      <td>[1, 1]</td>\n",
       "      <td>Where The Dough Is</td>\n",
       "      <td>Everybody knows banks, whether in storefronts,...</td>\n",
       "      <td>jack weston</td>\n",
       "      <td>1996-05-03</td>\n",
       "      <td>291</td>\n",
       "      <td>2014</td>\n",
       "      <td>2014-04-05</td>\n",
       "      <td>76</td>\n",
       "      <td>1996</td>\n",
       "      <td>False</td>\n",
       "    </tr>\n",
       "  </tbody>\n",
       "</table>\n",
       "</div>"
      ],
      "text/plain": [
       "    index        asin strReviewTime  overall helpful  \\\n",
       "0  308659  0792840461    2006-04-07      4.0  [1, 3]   \n",
       "1  308660  0792840461    2013-03-24      5.0  [0, 0]   \n",
       "2  308661  0792840461    2014-04-05      4.0  [1, 1]   \n",
       "\n",
       "                       summary  \\\n",
       "0                  The orginal   \n",
       "1  Steve McQueen invented cool   \n",
       "2           Where The Dough Is   \n",
       "\n",
       "                                          reviewText   actor name death date  \\\n",
       "0  The Original and the best-not much to say read...  jack weston 1996-05-03   \n",
       "1  This was a great movie Steve McQueen invented ...  jack weston 1996-05-03   \n",
       "2  Everybody knows banks, whether in storefronts,...  jack weston 1996-05-03   \n",
       "\n",
       "   reviewMonth  reviewYear reviewTime  death month  death year  mentionned  \n",
       "0          195        2006 2006-04-07           76        1996       False  \n",
       "1          278        2013 2013-03-24           76        1996       False  \n",
       "2          291        2014 2014-04-05           76        1996       False  "
      ]
     },
     "execution_count": 14,
     "metadata": {},
     "output_type": "execute_result"
    }
   ],
   "source": [
    "start = 1996\n",
    "end = 2014\n",
    "\n",
    "print('original size : ', subjects_actors.shape)\n",
    "subjects_inTime = subjects_actors[    (subjects_actors['death year']>=start) \\\n",
    "                                    & (subjects_actors['death year']<=end)]\n",
    "print('filtered size : ', subjects_inTime.shape)\n",
    "subjects_inTime.head(3)"
   ]
  },
  {
   "cell_type": "markdown",
   "metadata": {},
   "source": [
    "# Get matching features"
   ]
  },
  {
   "cell_type": "markdown",
   "metadata": {},
   "source": [
    "Extract features for subjects"
   ]
  },
  {
   "cell_type": "code",
   "execution_count": 15,
   "metadata": {
    "collapsed": true
   },
   "outputs": [],
   "source": [
    "relMonthBeforeDeath = [-i for i in range(1, nbMonthBeforeDeath+1)]\n",
    "relFeaturesStr = { i : 'revs'+str(i) for i in relMonthBeforeDeath}\n",
    "#relFeaturesStr"
   ]
  },
  {
   "cell_type": "code",
   "execution_count": 16,
   "metadata": {},
   "outputs": [
    {
     "data": {
      "text/html": [
       "<div>\n",
       "<style>\n",
       "    .dataframe thead tr:only-child th {\n",
       "        text-align: right;\n",
       "    }\n",
       "\n",
       "    .dataframe thead th {\n",
       "        text-align: left;\n",
       "    }\n",
       "\n",
       "    .dataframe tbody tr th {\n",
       "        vertical-align: top;\n",
       "    }\n",
       "</style>\n",
       "<table border=\"1\" class=\"dataframe\">\n",
       "  <thead>\n",
       "    <tr style=\"text-align: right;\">\n",
       "      <th></th>\n",
       "      <th>actor name</th>\n",
       "      <th>death month</th>\n",
       "      <th>revs-1</th>\n",
       "      <th>revs-2</th>\n",
       "      <th>featureNorm</th>\n",
       "      <th>death date</th>\n",
       "    </tr>\n",
       "  </thead>\n",
       "  <tbody>\n",
       "    <tr>\n",
       "      <th>228</th>\n",
       "      <td>james garner</td>\n",
       "      <td>294</td>\n",
       "      <td>151</td>\n",
       "      <td>178</td>\n",
       "      <td>233.420222</td>\n",
       "      <td>2014-07-19</td>\n",
       "    </tr>\n",
       "    <tr>\n",
       "      <th>357</th>\n",
       "      <td>mickey rooney</td>\n",
       "      <td>291</td>\n",
       "      <td>149</td>\n",
       "      <td>156</td>\n",
       "      <td>215.724361</td>\n",
       "      <td>2014-04-06</td>\n",
       "    </tr>\n",
       "    <tr>\n",
       "      <th>140</th>\n",
       "      <td>eli wallach</td>\n",
       "      <td>293</td>\n",
       "      <td>120</td>\n",
       "      <td>138</td>\n",
       "      <td>182.877008</td>\n",
       "      <td>2014-06-24</td>\n",
       "    </tr>\n",
       "    <tr>\n",
       "      <th>389</th>\n",
       "      <td>philip seymour hoffman</td>\n",
       "      <td>289</td>\n",
       "      <td>119</td>\n",
       "      <td>106</td>\n",
       "      <td>159.364362</td>\n",
       "      <td>2014-02-02</td>\n",
       "    </tr>\n",
       "    <tr>\n",
       "      <th>288</th>\n",
       "      <td>karen black</td>\n",
       "      <td>283</td>\n",
       "      <td>74</td>\n",
       "      <td>111</td>\n",
       "      <td>133.405397</td>\n",
       "      <td>2013-08-08</td>\n",
       "    </tr>\n",
       "  </tbody>\n",
       "</table>\n",
       "</div>"
      ],
      "text/plain": [
       "                 actor name  death month  revs-1  revs-2  featureNorm  \\\n",
       "228            james garner          294     151     178   233.420222   \n",
       "357           mickey rooney          291     149     156   215.724361   \n",
       "140             eli wallach          293     120     138   182.877008   \n",
       "389  philip seymour hoffman          289     119     106   159.364362   \n",
       "288             karen black          283      74     111   133.405397   \n",
       "\n",
       "    death date  \n",
       "228 2014-07-19  \n",
       "357 2014-04-06  \n",
       "140 2014-06-24  \n",
       "389 2014-02-02  \n",
       "288 2013-08-08  "
      ]
     },
     "execution_count": 16,
     "metadata": {},
     "output_type": "execute_result"
    }
   ],
   "source": [
    "# SUBJECTS COUNTS BY MONTH\n",
    "subjects_monthly_revs = subjects_actors.groupby(['actor name','reviewMonth']).count()\n",
    "\n",
    "\n",
    "''' MonthNb is relative to death time, so monthNb=-1 for deathMonth=March \n",
    "    means February\n",
    "'''\n",
    "def getreview_month_subjects(row, relMonth) : \n",
    "    return getreview_month(row, relMonth, subjects_monthly_revs)\n",
    "def getreview_month(row, monthNb, musiciansDataframe, deathMonth=None) : \n",
    "    actor = row['actor name']\n",
    "    if deathMonth==None : \n",
    "        deathMonth = int(row['death month'])\n",
    "    try : \n",
    "        val = subjects_monthly_revs.loc[actor, int(deathMonth+monthNb)]['asin']\n",
    "        return val\n",
    "    except TypeError :\n",
    "        #print('typeError cant index at -->'+str(deathmonth+monthNb)+'<--')\n",
    "        return 0\n",
    "    \n",
    "subjects_monthly_feats = pd.DataFrame(deathdates[['actor name', 'death month']])\n",
    "for i in relMonthBeforeDeath :\n",
    "    subjects_monthly_feats[relFeaturesStr[i]] = subjects_monthly_feats\\\n",
    "                                        .apply(lambda row : getreview_month_subjects(row, i), axis=1)\n",
    "\n",
    "def feature_norm(row) : \n",
    "    feature = [row[relFeaturesStr[i]] for i in relMonthBeforeDeath]\n",
    "    return np.linalg.norm(feature)\n",
    "\n",
    "subjects_monthly_feats['featureNorm'] = subjects_monthly_feats.apply(feature_norm, axis=1)\n",
    "subjects_monthly_feats['death date'] = deathdates['death date']\n",
    "        \n",
    "subjects_monthly_feats.sort_values(by='featureNorm', ascending=False).head()"
   ]
  },
  {
   "cell_type": "code",
   "execution_count": 17,
   "metadata": {},
   "outputs": [
    {
     "data": {
      "text/html": [
       "<div>\n",
       "<style>\n",
       "    .dataframe thead tr:only-child th {\n",
       "        text-align: right;\n",
       "    }\n",
       "\n",
       "    .dataframe thead th {\n",
       "        text-align: left;\n",
       "    }\n",
       "\n",
       "    .dataframe tbody tr th {\n",
       "        vertical-align: top;\n",
       "    }\n",
       "</style>\n",
       "<table border=\"1\" class=\"dataframe\">\n",
       "  <thead>\n",
       "    <tr style=\"text-align: right;\">\n",
       "      <th></th>\n",
       "      <th>reviews</th>\n",
       "      <th>actor name</th>\n",
       "      <th>death year</th>\n",
       "      <th>death date</th>\n",
       "    </tr>\n",
       "  </thead>\n",
       "  <tbody>\n",
       "    <tr>\n",
       "      <th>228</th>\n",
       "      <td>2054</td>\n",
       "      <td>james garner</td>\n",
       "      <td>2014</td>\n",
       "      <td>2014-07-19</td>\n",
       "    </tr>\n",
       "    <tr>\n",
       "      <th>389</th>\n",
       "      <td>1550</td>\n",
       "      <td>philip seymour hoffman</td>\n",
       "      <td>2014</td>\n",
       "      <td>2014-02-02</td>\n",
       "    </tr>\n",
       "    <tr>\n",
       "      <th>357</th>\n",
       "      <td>1425</td>\n",
       "      <td>mickey rooney</td>\n",
       "      <td>2014</td>\n",
       "      <td>2014-04-06</td>\n",
       "    </tr>\n",
       "    <tr>\n",
       "      <th>140</th>\n",
       "      <td>1112</td>\n",
       "      <td>eli wallach</td>\n",
       "      <td>2014</td>\n",
       "      <td>2014-06-24</td>\n",
       "    </tr>\n",
       "    <tr>\n",
       "      <th>51</th>\n",
       "      <td>1057</td>\n",
       "      <td>bob hoskins</td>\n",
       "      <td>2014</td>\n",
       "      <td>2014-04-29</td>\n",
       "    </tr>\n",
       "  </tbody>\n",
       "</table>\n",
       "</div>"
      ],
      "text/plain": [
       "     reviews              actor name  death year death date\n",
       "228     2054            james garner        2014 2014-07-19\n",
       "389     1550  philip seymour hoffman        2014 2014-02-02\n",
       "357     1425           mickey rooney        2014 2014-04-06\n",
       "140     1112             eli wallach        2014 2014-06-24\n",
       "51      1057             bob hoskins        2014 2014-04-29"
      ]
     },
     "execution_count": 17,
     "metadata": {},
     "output_type": "execute_result"
    }
   ],
   "source": [
    "# SUBJECTS COUNTS BY YEAR\n",
    "subjects_revs = subjects_actors.groupby(['actor name','reviewYear']).count()\n",
    "\n",
    "\n",
    "def getreview(actor, year) : \n",
    "    try : \n",
    "        val = subjects_revs.loc[actor, year]['asin']\n",
    "        return val\n",
    "    except TypeError :\n",
    "        return 0\n",
    "    \n",
    "    \n",
    "\n",
    "# FILTER TO GET THE DEATH YEAR COUNT - 1\n",
    "subjects_feats = deathdates[1:].apply(lambda row : getreview(row['actor name'], int(row['death year'])-1), axis=1)\n",
    "subjects_feats = pd.DataFrame(subjects_feats, columns=['reviews'])\n",
    "subjects_feats['actor name'] = deathdates['actor name']\n",
    "subjects_feats['death year'] = deathdates['death year']\n",
    "subjects_feats['death date'] = deathdates['death date']\n",
    "\n",
    "subjects_feats.sort_values(by='reviews', ascending=False).head()"
   ]
  },
  {
   "cell_type": "markdown",
   "metadata": {},
   "source": [
    "Extract features for controls (?)"
   ]
  },
  {
   "cell_type": "code",
   "execution_count": 18,
   "metadata": {
    "collapsed": true
   },
   "outputs": [],
   "source": [
    "controls_revs = controls_actors.groupby(['actor name','reviewMonth'])\\\n",
    "                                .count()['asin']\\\n",
    "                                .to_frame().reset_index()"
   ]
  },
  {
   "cell_type": "code",
   "execution_count": 19,
   "metadata": {},
   "outputs": [
    {
     "data": {
      "text/html": [
       "<div>\n",
       "<style>\n",
       "    .dataframe thead tr:only-child th {\n",
       "        text-align: right;\n",
       "    }\n",
       "\n",
       "    .dataframe thead th {\n",
       "        text-align: left;\n",
       "    }\n",
       "\n",
       "    .dataframe tbody tr th {\n",
       "        vertical-align: top;\n",
       "    }\n",
       "</style>\n",
       "<table border=\"1\" class=\"dataframe\">\n",
       "  <thead>\n",
       "    <tr style=\"text-align: right;\">\n",
       "      <th></th>\n",
       "      <th>actor name</th>\n",
       "      <th>reviewMonth</th>\n",
       "      <th>asin</th>\n",
       "    </tr>\n",
       "  </thead>\n",
       "  <tbody>\n",
       "    <tr>\n",
       "      <th>49759</th>\n",
       "      <td>zuzana parmova</td>\n",
       "      <td>143</td>\n",
       "      <td>1</td>\n",
       "    </tr>\n",
       "    <tr>\n",
       "      <th>49760</th>\n",
       "      <td>zuzana parmova</td>\n",
       "      <td>168</td>\n",
       "      <td>1</td>\n",
       "    </tr>\n",
       "    <tr>\n",
       "      <th>49743</th>\n",
       "      <td>zuhal gencer</td>\n",
       "      <td>185</td>\n",
       "      <td>2</td>\n",
       "    </tr>\n",
       "    <tr>\n",
       "      <th>49740</th>\n",
       "      <td>zuhal gencer</td>\n",
       "      <td>180</td>\n",
       "      <td>1</td>\n",
       "    </tr>\n",
       "    <tr>\n",
       "      <th>49741</th>\n",
       "      <td>zuhal gencer</td>\n",
       "      <td>182</td>\n",
       "      <td>1</td>\n",
       "    </tr>\n",
       "  </tbody>\n",
       "</table>\n",
       "</div>"
      ],
      "text/plain": [
       "           actor name  reviewMonth  asin\n",
       "49759  zuzana parmova          143     1\n",
       "49760  zuzana parmova          168     1\n",
       "49743    zuhal gencer          185     2\n",
       "49740    zuhal gencer          180     1\n",
       "49741    zuhal gencer          182     1"
      ]
     },
     "execution_count": 19,
     "metadata": {},
     "output_type": "execute_result"
    }
   ],
   "source": [
    "controls_revs.sort_values(by=['actor name', 'asin'], ascending=False).head()"
   ]
  },
  {
   "cell_type": "markdown",
   "metadata": {},
   "source": [
    "# Matching"
   ]
  },
  {
   "cell_type": "markdown",
   "metadata": {},
   "source": [
    "Construct a matching function per subject"
   ]
  },
  {
   "cell_type": "code",
   "execution_count": 20,
   "metadata": {
    "collapsed": true
   },
   "outputs": [],
   "source": [
    "# copy back above\n",
    "def getreview_month_controls(row, monthNb, musiciansDataframe, deathMonth=None) : \n",
    "    actor = row['actor name']\n",
    "    if deathMonth==None : \n",
    "        deathMonth = int(row['death month'])\n",
    "    try : \n",
    "        val = musiciansDataframe.loc[actor, int(deathMonth+monthNb)]['asin']\n",
    "        return int(val)\n",
    "    ## Both exceptions can happen when the indexing keys are \n",
    "    ## not in the index == when there were no review for the actor at the given month\n",
    "    except TypeError :\n",
    "        #print('key (', actor, ', '+str(deathMonth+monthNb)+') returned typeError')\n",
    "        return 0\n",
    "    except KeyError :\n",
    "        #print('key (', actor, ', ', deathMonth, ') found no match in the index')\n",
    "        return 0"
   ]
  },
  {
   "cell_type": "code",
   "execution_count": 21,
   "metadata": {},
   "outputs": [
    {
     "data": {
      "text/html": [
       "<div>\n",
       "<style>\n",
       "    .dataframe thead tr:only-child th {\n",
       "        text-align: right;\n",
       "    }\n",
       "\n",
       "    .dataframe thead th {\n",
       "        text-align: left;\n",
       "    }\n",
       "\n",
       "    .dataframe tbody tr th {\n",
       "        vertical-align: top;\n",
       "    }\n",
       "</style>\n",
       "<table border=\"1\" class=\"dataframe\">\n",
       "  <thead>\n",
       "    <tr style=\"text-align: right;\">\n",
       "      <th></th>\n",
       "      <th>actor name</th>\n",
       "      <th>reviewMonth</th>\n",
       "      <th>asin</th>\n",
       "    </tr>\n",
       "  </thead>\n",
       "  <tbody>\n",
       "    <tr>\n",
       "      <th>0</th>\n",
       "      <td>aaron chayrez</td>\n",
       "      <td>1</td>\n",
       "      <td>1</td>\n",
       "    </tr>\n",
       "    <tr>\n",
       "      <th>1</th>\n",
       "      <td>aaron kwok</td>\n",
       "      <td>60</td>\n",
       "      <td>60</td>\n",
       "    </tr>\n",
       "    <tr>\n",
       "      <th>2</th>\n",
       "      <td>aarti chopra</td>\n",
       "      <td>2</td>\n",
       "      <td>2</td>\n",
       "    </tr>\n",
       "    <tr>\n",
       "      <th>3</th>\n",
       "      <td>abdul salaam el razzac</td>\n",
       "      <td>5</td>\n",
       "      <td>5</td>\n",
       "    </tr>\n",
       "    <tr>\n",
       "      <th>4</th>\n",
       "      <td>adam clark</td>\n",
       "      <td>19</td>\n",
       "      <td>19</td>\n",
       "    </tr>\n",
       "  </tbody>\n",
       "</table>\n",
       "</div>"
      ],
      "text/plain": [
       "               actor name  reviewMonth  asin\n",
       "0           aaron chayrez            1     1\n",
       "1              aaron kwok           60    60\n",
       "2            aarti chopra            2     2\n",
       "3  abdul salaam el razzac            5     5\n",
       "4              adam clark           19    19"
      ]
     },
     "execution_count": 21,
     "metadata": {},
     "output_type": "execute_result"
    }
   ],
   "source": [
    "subjects_monthly_feats.head()\n",
    "controls_revs.set_index(['actor name','reviewMonth']).loc['adrian holmes']\n",
    "controls_revs.groupby('actor name').count().reset_index().head()"
   ]
  },
  {
   "cell_type": "code",
   "execution_count": 22,
   "metadata": {},
   "outputs": [],
   "source": [
    "def unwrap(subjectStuff) : \n",
    "    return subjectStuff.tolist()[0]\n",
    "\n",
    "def match(actorname, threshold, ctrl_revs) : \n",
    "\n",
    "    # extract the useful features for the subject \n",
    "    sbj_actor = subjects_monthly_feats[subjects_monthly_feats['actor name'] == actorname]\n",
    "    deathmonth = int(sbj_actor['death month'])\n",
    "    sbjname = unwrap(sbj_actor['actor name'])\n",
    "    feature = [unwrap(sbj_actor[relFeaturesStr[i]]) for i in relMonthBeforeDeath]\n",
    "    \n",
    "    #print(sbj_actor)\n",
    "    #print('feature : ', feature)\n",
    "    \n",
    "    for control in ctrl_revs.groupby('actor name').count().reset_index().iterrows() : \n",
    "        \n",
    "        # iterrows returns tuple (0, row)\n",
    "        idx = control[0]\n",
    "        control = control[1]\n",
    "        \n",
    "        #if idx % 100 == 0 : \n",
    "        #    print('    iterated over ', idx, 'controls (out of ', \n",
    "        #          ctrl_revs.groupby('actor name').count().reset_index().shape[0], ')')\n",
    "        \n",
    "        # Compute feature\n",
    "        ctrl_feature = [getreview_month_controls(control, i, \n",
    "                                        ctrl_revs.set_index(['actor name', 'reviewMonth']), \n",
    "                                        deathMonth=deathmonth) \\\n",
    "                        for i in relMonthBeforeDeath]\n",
    "        \n",
    "        #print('   ctrl_feature : ', ctrl_feature )\n",
    "        \n",
    "        diff = np.linalg.norm(np.array(feature) - np.array(ctrl_feature))\n",
    "        \n",
    "        #print('    diff : ', diff)\n",
    "        \n",
    "        if diff <= threshold : \n",
    "            matched_name = control['actor name']\n",
    "            matched_count = ctrl_feature\n",
    "            \n",
    "            #ctrl_revs = ctrl_revs[ctrl_revs['actor name'].isin([matched_name])==False]\n",
    "            ctrl_revs = ctrl_revs[ctrl_revs['actor name']!=matched_name]\n",
    "            \n",
    "            print('    ', sbjname, ' matched with ', matched_name)\n",
    "            print('    ', feature, ' ~ ' , ctrl_feature)\n",
    "            return matched_name, ctrl_feature, ctrl_revs\n",
    "    \n",
    "    print('1 iteration completed over all controls')\n",
    "    return 0, 0, ctrl_revs  \n"
   ]
  },
  {
   "cell_type": "code",
   "execution_count": null,
   "metadata": {
    "scrolled": true
   },
   "outputs": [
    {
     "name": "stdout",
     "output_type": "stream",
     "text": [
      "2419 501\n",
      "0  subjects out of  500\n",
      "james garner - [151, 178]\n",
      "  thr :  34\n",
      "     james garner  matched with  laurence fishburne\n",
      "     [151, 178]  ~  [144, 155]\n",
      "mickey rooney - [149, 156]\n",
      "  thr :  31\n",
      "     mickey rooney  matched with  bob denver\n",
      "     [149, 156]  ~  [126, 145]\n",
      "eli wallach - [120, 138]\n",
      "  thr :  28\n",
      "     eli wallach  matched with  michael kelly\n",
      "     [120, 138]  ~  [104, 137]\n",
      "philip seymour hoffman - [119, 106]\n",
      "  thr :  26\n"
     ]
    }
   ],
   "source": [
    "ctrl_revs = controls_revs.copy()\n",
    "print(len(ctrl_names), len(sbj_names))\n",
    "\n",
    "thresh = 10\n",
    "ctrl_revs = controls_revs.copy()\n",
    "sorted_subjects = subjects_monthly_feats.sort_values(by='featureNorm', ascending=False)\n",
    "\n",
    "sbj_list = []\n",
    "sbj_feat_list = []\n",
    "sbj_death_list = []\n",
    "ctl_list = []\n",
    "ctl_feat_list = []\n",
    "\n",
    "for idx, subject_name in enumerate(sorted_subjects['actor name']):\n",
    "    \n",
    "    if idx%50 == 0: \n",
    "        print(idx, \" subjects out of \", len(subjects_feats['actor name']))\n",
    "    \n",
    "    # extract the feature for the subject and use it to set the threshold\n",
    "    sbj_actor = sorted_subjects[sorted_subjects['actor name'] == subject_name]\n",
    "    feature = [unwrap(sbj_actor[relFeaturesStr[i]]) for i in relMonthBeforeDeath]\n",
    "    \n",
    "    sbjname = unwrap(sbj_actor['actor name'])\n",
    "    print(sbjname, '-', feature)\n",
    "    \n",
    "    featureNorm = sbj_actor['featureNorm']\n",
    "    thr = int(8 + 0.06*featureNorm)\n",
    "    mtch = 0\n",
    "\n",
    "    while mtch == 0:\n",
    "        \n",
    "        thr += int(0.5*thr + 1)\n",
    "        print('  thr : ', thr)\n",
    "        \n",
    "        if thr > 50 and thr < 60  : \n",
    "            print(subject_name+' reached threshold ', thr)\n",
    "        if thr > 1000 and thr < 1250  : \n",
    "            print(subject_name+' reached threshold ', thr)\n",
    "        \n",
    "        name, ctrl_feature, ctrl_revs_ = match(subject_name,thr,ctrl_revs)\n",
    "        ctrl_revs = ctrl_revs_.sample(frac=1) \n",
    "        \n",
    "        \n",
    "        if name != 0:\n",
    "            \n",
    "            #print(subject_name+' matched with '+name)\n",
    "            \n",
    "            sbjDeathDate = unwrap(sbj_actor['death date'])\n",
    "            \n",
    "            sbj_list.append(sbjname)\n",
    "            sbj_feat_list.append(feature)\n",
    "            sbj_death_list.append(sbjDeathDate)\n",
    "            ctl_list.append(name)\n",
    "            ctl_feat_list.append(ctrl_feature)\n",
    "            \n",
    "            mtch += 1\n",
    "            \n",
    "print('DONE')"
   ]
  },
  {
   "cell_type": "markdown",
   "metadata": {},
   "source": [
    "# Results"
   ]
  },
  {
   "cell_type": "code",
   "execution_count": null,
   "metadata": {},
   "outputs": [],
   "source": [
    "res = pd.DataFrame()\n",
    "\n",
    "res['sbj'] = sbj_list\n",
    "res['sbj_feats'] = sbj_feat_list\n",
    "res['death date'] = sbj_death_list\n",
    "res['ctl_feats'] = ctl_feat_list\n",
    "res['ctl'] = ctl_list\n",
    "\n",
    "res.head()"
   ]
  },
  {
   "cell_type": "code",
   "execution_count": null,
   "metadata": {
    "collapsed": true
   },
   "outputs": [],
   "source": [
    "ctrl_features = pd.DataFrame(ctrl_list, columns=['ctrl_name'])\n",
    "ctrl_features['ctrl_reviews'] = count_list\n",
    "\n",
    "res = pd.concat([ctrl_features.reset_index(), sorted_subjects.reset_index()], axis=1)\\\n",
    "            .drop('index', axis=1)\n",
    "res['error'] = np.abs(res['ctrl_reviews'] - res['reviews'])/(2*(1+res['ctrl_reviews'] + res['reviews']))\n",
    "\n",
    "res.sort_values(by='error', ascending=False).head()"
   ]
  },
  {
   "cell_type": "code",
   "execution_count": null,
   "metadata": {},
   "outputs": [],
   "source": [
    "ctrl_features.hist(column='ctrl_reviews', figsize=[10,10], bins=100)"
   ]
  },
  {
   "cell_type": "code",
   "execution_count": null,
   "metadata": {
    "collapsed": true
   },
   "outputs": [],
   "source": [
    "subjects_feats.hist(column='reviews', figsize=[10,10], bins=100)"
   ]
  },
  {
   "cell_type": "markdown",
   "metadata": {},
   "source": [
    "# Export results"
   ]
  },
  {
   "cell_type": "code",
   "execution_count": null,
   "metadata": {
    "collapsed": true
   },
   "outputs": [],
   "source": [
    "subjectsnb = str(len(sbj_names)-1)"
   ]
  },
  {
   "cell_type": "code",
   "execution_count": null,
   "metadata": {},
   "outputs": [],
   "source": [
    "subjects_actors.to_csv('reviews_subjects_.csv', index=False)"
   ]
  },
  {
   "cell_type": "code",
   "execution_count": null,
   "metadata": {
    "collapsed": true
   },
   "outputs": [],
   "source": [
    "controls_actors.to_csv('reviews_controls_.csv', index=False)"
   ]
  },
  {
   "cell_type": "code",
   "execution_count": null,
   "metadata": {
    "collapsed": true
   },
   "outputs": [],
   "source": [
    "res.to_csv('DATA/reviews_cs_matched/matchings_'+subjectsnb+'_feature=yearbefore.csv', index=False)"
   ]
  },
  {
   "cell_type": "code",
   "execution_count": null,
   "metadata": {
    "collapsed": true
   },
   "outputs": [],
   "source": []
  }
 ],
 "metadata": {
  "kernelspec": {
   "display_name": "Python 3",
   "language": "python",
   "name": "python3"
  },
  "language_info": {
   "codemirror_mode": {
    "name": "ipython",
    "version": 3
   },
   "file_extension": ".py",
   "mimetype": "text/x-python",
   "name": "python",
   "nbconvert_exporter": "python",
   "pygments_lexer": "ipython3",
   "version": "3.6.3"
  }
 },
 "nbformat": 4,
 "nbformat_minor": 2
}
