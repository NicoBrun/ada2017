{
 "cells": [
  {
   "cell_type": "markdown",
   "metadata": {},
   "source": [
    "### Processing pipeline for 'meta_Movies_and_TV.json'"
   ]
  },
  {
   "cell_type": "code",
   "execution_count": 1,
   "metadata": {
    "collapsed": true
   },
   "outputs": [],
   "source": [
    "datapath = 'DATA/'\n",
    "filename = 'meta_Digital_Music.json.gz'\n",
    "\n",
    "features = ['asin', 'title', 'description']"
   ]
  },
  {
   "cell_type": "code",
   "execution_count": 2,
   "metadata": {
    "collapsed": true
   },
   "outputs": [],
   "source": [
    "# Essential imports\n",
    "import pandas as pd\n",
    "import numpy as np\n",
    "import json\n",
    "\n",
    "# Strict JSON conversion\n",
    "import json \n",
    "import gzip \n",
    "\n",
    "# Sleep\n",
    "import time\n",
    "\n",
    "# Progress display\n",
    "from IPython.display import clear_output"
   ]
  },
  {
   "cell_type": "code",
   "execution_count": 9,
   "metadata": {
    "collapsed": true
   },
   "outputs": [],
   "source": [
    "def gz_to_dataframe(datapath, filename):\n",
    "    def parse(path): \n",
    "        g = gzip.open(path, 'rb') \n",
    "        for l in g: \n",
    "            yield eval(l) \n",
    "    def getDF(path): \n",
    "        i = 0 \n",
    "        df = {} \n",
    "        for d in parse(path): \n",
    "            df[i] = d \n",
    "            i += 1 \n",
    "        return pd.DataFrame.from_dict(df, orient='index') \n",
    "    return getDF(datapath+filename)\n",
    "    \n",
    "product_df = gz_to_dataframe(datapath, filename)\n",
    "product_df = product_df[features]"
   ]
  },
  {
   "cell_type": "code",
   "execution_count": 10,
   "metadata": {},
   "outputs": [
    {
     "data": {
      "text/html": [
       "<div>\n",
       "<style scoped>\n",
       "    .dataframe tbody tr th:only-of-type {\n",
       "        vertical-align: middle;\n",
       "    }\n",
       "\n",
       "    .dataframe tbody tr th {\n",
       "        vertical-align: top;\n",
       "    }\n",
       "\n",
       "    .dataframe thead th {\n",
       "        text-align: right;\n",
       "    }\n",
       "</style>\n",
       "<table border=\"1\" class=\"dataframe\">\n",
       "  <thead>\n",
       "    <tr style=\"text-align: right;\">\n",
       "      <th></th>\n",
       "      <th>asin</th>\n",
       "      <th>title</th>\n",
       "      <th>description</th>\n",
       "    </tr>\n",
       "  </thead>\n",
       "  <tbody>\n",
       "    <tr>\n",
       "      <th>0</th>\n",
       "      <td>5555991584</td>\n",
       "      <td>Memory of Trees</td>\n",
       "      <td>NaN</td>\n",
       "    </tr>\n",
       "    <tr>\n",
       "      <th>1</th>\n",
       "      <td>6308051551</td>\n",
       "      <td>Don't Drink His Blood</td>\n",
       "      <td>NEW Combo BLUWAVS CD and FLAC FILE</td>\n",
       "    </tr>\n",
       "    <tr>\n",
       "      <th>2</th>\n",
       "      <td>7901622466</td>\n",
       "      <td>On Fire</td>\n",
       "      <td>NaN</td>\n",
       "    </tr>\n",
       "    <tr>\n",
       "      <th>3</th>\n",
       "      <td>B0000000ZW</td>\n",
       "      <td>Changing Faces</td>\n",
       "      <td></td>\n",
       "    </tr>\n",
       "    <tr>\n",
       "      <th>4</th>\n",
       "      <td>B00000016W</td>\n",
       "      <td>Pet Sounds</td>\n",
       "      <td>NaN</td>\n",
       "    </tr>\n",
       "  </tbody>\n",
       "</table>\n",
       "</div>"
      ],
      "text/plain": [
       "         asin                  title                         description\n",
       "0  5555991584        Memory of Trees                                 NaN\n",
       "1  6308051551  Don't Drink His Blood  NEW Combo BLUWAVS CD and FLAC FILE\n",
       "2  7901622466                On Fire                                 NaN\n",
       "3  B0000000ZW         Changing Faces                                    \n",
       "4  B00000016W             Pet Sounds                                 NaN"
      ]
     },
     "execution_count": 10,
     "metadata": {},
     "output_type": "execute_result"
    }
   ],
   "source": [
    "product_df.head()"
   ]
  },
  {
   "cell_type": "code",
   "execution_count": 13,
   "metadata": {
    "collapsed": true
   },
   "outputs": [],
   "source": [
    "# https://www.amazon.com/Memory-Trees-Enya/dp/B00122OCJ0/ref=sr_1_1?ie=UTF8&qid=1511729210&sr=8-1&keywords=5555991584\n",
    "p = get_prod('5555991584')"
   ]
  },
  {
   "cell_type": "code",
   "execution_count": 18,
   "metadata": {},
   "outputs": [
    {
     "ename": "AttributeError",
     "evalue": "'AmazonProduct' object has no attribute 'artist'",
     "output_type": "error",
     "traceback": [
      "\u001b[0;31m---------------------------------------------------------------------------\u001b[0m",
      "\u001b[0;31mAttributeError\u001b[0m                            Traceback (most recent call last)",
      "\u001b[0;32m<ipython-input-18-05b734c46a37>\u001b[0m in \u001b[0;36m<module>\u001b[0;34m()\u001b[0m\n\u001b[0;32m----> 1\u001b[0;31m \u001b[0mp\u001b[0m\u001b[0;34m.\u001b[0m\u001b[0martist\u001b[0m\u001b[0;34m\u001b[0m\u001b[0m\n\u001b[0m",
      "\u001b[0;31mAttributeError\u001b[0m: 'AmazonProduct' object has no attribute 'artist'"
     ]
    }
   ],
   "source": [
    "##\n",
    "## What field ???\n",
    "##\n",
    "\n",
    "p.artist"
   ]
  },
  {
   "cell_type": "markdown",
   "metadata": {},
   "source": [
    "### 1. Fetch artists names with amazon API"
   ]
  },
  {
   "cell_type": "code",
   "execution_count": 11,
   "metadata": {
    "collapsed": true
   },
   "outputs": [],
   "source": [
    "## Identify with amazon api servers\n",
    "##\n",
    "\n",
    "from amazon.api import AmazonAPI\n",
    "\n",
    "def get_api_keys():\n",
    "    f = open(\"api_creds\")\n",
    "    ar = f.read().split(\"\\n\")\n",
    "    return ar[0], ar[1], ar[2]\n",
    "\n",
    "AMAZON_ACCESS_KEY, AMAZON_SECRET_KEY, AMAZON_ASSOC_TAG = get_api_keys()\n",
    "\n",
    "amazon = AmazonAPI(AMAZON_ACCESS_KEY, AMAZON_SECRET_KEY, AMAZON_ASSOC_TAG)"
   ]
  },
  {
   "cell_type": "code",
   "execution_count": 12,
   "metadata": {
    "collapsed": true
   },
   "outputs": [],
   "source": [
    "## API query helpers\n",
    "##\n",
    "\n",
    "\n",
    "''' Product lookup with API, asin can be a string ('one by one' lookup)\n",
    "    or a list of strings ('bulk lookup').\n",
    "    bulk lookup provides better performance\n",
    "'''\n",
    "def get_prod(asin) : \n",
    "    if not isinstance(asin, str): \n",
    "        acc_str = asin[0]\n",
    "        for e in asin : \n",
    "            acc_str += ','+e\n",
    "        print(acc_str)\n",
    "        return amazon.lookup(ItemId=acc_str)\n",
    "    else :\n",
    "        return amazon.lookup(ItemId=asin)\n",
    "    \n",
    "    \n",
    "''' Splits the interval [start-end] into bulks of size bulksize\n",
    "'''    \n",
    "def gen_bulk_index(start, end, bulksize=10, includeEnd=False):\n",
    "    size = end - start + 1\n",
    "    bulks = [list(range(start+(i*bulksize), start + (i+1)*bulksize)) for i in range(0, int(size/bulksize))]\n",
    "    if includeEnd : \n",
    "        bulks.append(list(range(bulks[len(bulks)-1][bulksize-1], end+1)))\n",
    "    else : \n",
    "        bulks.append(list(range(bulks[len(bulks)-1][bulksize-1], end)))\n",
    "    return bulks    \n",
    "\n",
    "\n",
    "def get_directors(prod) : \n",
    "    return prod.directors\n",
    "\n",
    "def get_actors(prod) : \n",
    "    return prod.actors"
   ]
  },
  {
   "cell_type": "markdown",
   "metadata": {},
   "source": [
    "#### 1.a API bulk querying"
   ]
  },
  {
   "cell_type": "code",
   "execution_count": 7,
   "metadata": {
    "collapsed": true
   },
   "outputs": [],
   "source": [
    "## Parameters for bulk item lookup, values should be retained between runs\n",
    "##\n",
    "\n",
    "bulksize = 10\n",
    "\n",
    "# used to restart from where we were in case of an error\n",
    "lastItemLookedUp = 0"
   ]
  },
  {
   "cell_type": "code",
   "execution_count": 8,
   "metadata": {},
   "outputs": [
    {
     "name": "stdout",
     "output_type": "stream",
     "text": [
      "last item looked up :  0   -  time :  21:42:13 \n",
      "\n",
      "\n"
     ]
    }
   ],
   "source": [
    "## Show time and item of start - since next cell's output will be continuously cleared\n",
    "##\n",
    "\n",
    "print(\"last item looked up : \", lastItemLookedUp,  \"  -  time : \",time.strftime(\"%H:%M:%S\"), \"\\n\\n\")"
   ]
  },
  {
   "cell_type": "code",
   "execution_count": null,
   "metadata": {
    "collapsed": true
   },
   "outputs": [],
   "source": [
    "original_lastItemLookedUp = lastItemLookedUp\n",
    "\n",
    "\n",
    "for bulk in gen_bulk_index(lastItemLookedUp, product_df.shape[0], bulksize=bulksize) : \n",
    "    # display progess\n",
    "    if ((bulk[0]-(original_lastItemLookedUp)) % 100 == 0) : \n",
    "        clear_output()\n",
    "        print(\"    \",int(100 * (bulk[0]+1) / product_df.shape[0]), \"% completed (\",bulk[0], \" rows)\", \"  -  time : \",time.strftime(\"%H:%M:%S\"))\n",
    "        print(\"     Last Item Looked up : \", lastItemLookedUp, \" / \", product_df.shape[0])\n",
    "        print(\"\\n\\n\\n\")\n",
    "    \n",
    "    # get asins for the bulk\n",
    "    asins = product_df['asin'][bulk].tolist()\n",
    "    # fetch products using the bulk_lookup\n",
    "    prods = get_prod(asins)\n",
    "\n",
    "    # Then, process each product to add necessary informations in the dataframe\n",
    "    for i, prod in enumerate(prods) : \n",
    "        actors = get_actors(prod)\n",
    "        product_df.set_value(bulk[i], \"actors\", actors)\n",
    "        directors = get_directors(prod)\n",
    "        product_df.set_value(bulk[i], \"directors\", directors)\n",
    "        \n",
    "    # Save progress\n",
    "    lastItemLookedUp = bulk[bulksize-1]\n",
    "        \n",
    "    # limit query frequency to avoid getting 503'd\n",
    "    time.sleep(min(bulksize/25, 10))"
   ]
  }
 ],
 "metadata": {
  "kernelspec": {
   "display_name": "Python 3",
   "language": "python",
   "name": "python3"
  },
  "language_info": {
   "codemirror_mode": {
    "name": "ipython",
    "version": 3
   },
   "file_extension": ".py",
   "mimetype": "text/x-python",
   "name": "python",
   "nbconvert_exporter": "python",
   "pygments_lexer": "ipython3",
   "version": "3.6.3"
  }
 },
 "nbformat": 4,
 "nbformat_minor": 2
}
