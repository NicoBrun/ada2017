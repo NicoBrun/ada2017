{
 "cells": [
  {
   "cell_type": "markdown",
   "metadata": {},
   "source": [
    "### Forbe.com\n",
    "> C'est vraiment une belle introduction, bravo Nico!\n",
    "\n",
    "### Mark Zuckerberg\n",
    "> Best project ever!! 9.5/10\n",
    "\n",
    "\n"
   ]
  },
  {
   "cell_type": "code",
   "execution_count": 1,
   "metadata": {
    "collapsed": true
   },
   "outputs": [],
   "source": [
    "#essential imports\n",
    "import pandas as pd\n",
    "import numpy as np\n",
    "import json\n",
    "from pandas.io.json import json_normalize\n",
    "\n",
    "#scraping imports\n",
    "import requests\n",
    "from bs4 import BeautifulSoup\n",
    "\n",
    "#plotting imports\n",
    "%matplotlib inline\n",
    "import matplotlib.pyplot as plt\n",
    "\n",
    "#String matching\n",
    "import re"
   ]
  },
  {
   "cell_type": "markdown",
   "metadata": {},
   "source": [
    "Amazon has a lot of categories:\n",
    "\n",
    "Books, Electronics, Movies and TV, CDs and Vinyl, Clothing (Shoes and Jewelry), Home and Kitchen, Kindle Store, Sports and Outdoors, Cell Phones and Accessorie, Health and Personal Care, Toys and Games, Video Games, Tools and Home Improvement, Beauty, Apps for Android, Office Products, Pet Supplies, Automotive, Grocery and Gourmet Food, Patio (Lawn and Garden), Baby, Digital Music, Musical Instruments, Amazon Instant Video\n",
    "\n",
    "\n",
    "### For our project the useful categories are:\n",
    "* Books\n",
    "* Movies and TV\n",
    "* CDs and Vinyl\n",
    "* Kindle Store\n",
    "* Digital Music\n",
    "* Amazon Instant Video\n",
    "\n",
    "#### Potentially useful\n",
    "* Toy and Games\n",
    "* Video Games\n",
    "\n",
    "---\n",
    "### [Amazon DB](http://jmcauley.ucsd.edu/data/amazon/links.html)\n",
    "\n",
    "### Authors\n",
    "* [Books](http://snap.stanford.edu/data/amazon/productGraph/categoryFiles/reviews_Books_5.json.gz)\n",
    "* [Kindle Store](http://snap.stanford.edu/data/amazon/productGraph/categoryFiles/reviews_Kindle_Store_5.json.gz)\n",
    "\n",
    "### Actors\n",
    "* [Movies and TV](http://snap.stanford.edu/data/amazon/productGraph/categoryFiles/reviews_Movies_and_TV_5.json.gz)\n",
    "* [Amazon Instant Video](http://snap.stanford.edu/data/amazon/productGraph/categoryFiles/reviews_Amazon_Instant_Video_5.json.gz)\n",
    "\n",
    "### Musician\n",
    "* [CDs and Vinyl](http://snap.stanford.edu/data/amazon/productGraph/categoryFiles/reviews_CDs_and_Vinyl_5.json.gz)\n",
    "* [Digital Music](http://snap.stanford.edu/data/amazon/productGraph/categoryFiles/reviews_Digital_Music_5.json.gz)"
   ]
  },
  {
   "cell_type": "markdown",
   "metadata": {},
   "source": [
    "---"
   ]
  },
  {
   "cell_type": "code",
   "execution_count": null,
   "metadata": {
    "collapsed": true
   },
   "outputs": [],
   "source": [
    "data_path = 'data/'"
   ]
  },
  {
   "cell_type": "code",
   "execution_count": null,
   "metadata": {
    "collapsed": true
   },
   "outputs": [],
   "source": [
    "data = pd.read_json(data_path+'Kindle_Store_5.json', lines=True)"
   ]
  },
  {
   "cell_type": "code",
   "execution_count": null,
   "metadata": {},
   "outputs": [],
   "source": [
    "data"
   ]
  },
  {
   "cell_type": "code",
   "execution_count": null,
   "metadata": {
    "collapsed": true
   },
   "outputs": [],
   "source": [
    "import re"
   ]
  },
  {
   "cell_type": "code",
   "execution_count": null,
   "metadata": {
    "collapsed": true
   },
   "outputs": [],
   "source": [
    "def matchLine(line, debug=False):\n",
    "    if debug:\n",
    "        print(line)\n",
    "    match_1_line = re.match( r'.*\\[\\[(.*)\\]\\].*\\[\\[(.*)\\]\\],(.*)\\(b\\. ?\\[\\[(.*)\\]\\]\\)', line)\n",
    "    if match_1_line:\n",
    "        if debug:\n",
    "            print(match_1_line)\n",
    "        return [(match_1_line.group(1),match_1_line.group(2),match_1_line.group(3),match_1_line.group(4))]\n",
    "    else:\n",
    "        result = []\n",
    "        s = line.split(\"\\n**\")\n",
    "        match_date = re.match( r'\\[\\[(.*)\\]\\]',s[0]).group(1)\n",
    "        for i in range(1,len(s)):\n",
    "            match_3_param = re.match( r'.*\\[\\[(.*)\\]\\],(.*)\\(b\\. ?\\[\\[(.*)\\]\\]\\)', s[i])\n",
    "            if debug:\n",
    "                print(match_3_param)\n",
    "            result.append((match_date,match_3_param.group(1),match_3_param.group(2),match_3_param.group(3)))\n",
    "        return result"
   ]
  },
  {
   "cell_type": "code",
   "execution_count": null,
   "metadata": {
    "scrolled": true
   },
   "outputs": [],
   "source": [
    "#Current regex problem:\n",
    "    #TODO 1996 victum of TWA Flight 800 July 17\n",
    "    #TODO update Peter Cureton 2 March 1994 (need to be wikipedia verified)\n",
    "    #TODO 2011 Prince of Iran 4 January\n",
    "columns = ['Year','Death Date', 'Name', 'Description','Birth Date']\n",
    "df = pd.DataFrame(columns=columns) \n",
    "\n",
    "month_list = ['January', 'February', 'March', 'April', 'May', \n",
    "              'June', 'July', 'August', 'September', 'October', 'November', 'December']\n",
    "starting_year = 1997\n",
    "ending_year = 1997\n",
    "for year in range(starting_year,ending_year+1):\n",
    "    yoloUrl = \"https://en.wikipedia.org/w/index.php?action=raw&title={}&maxlag=5\".format(year)\n",
    "    r = requests.get(yoloUrl)\n",
    "    page_text = r.text\n",
    "    if(\"== Deaths ==\" in page_text):\n",
    "        a = page_text.split(\"== Deaths ==\")[1]\n",
    "    elif(\"==Deaths==\" in page_text):\n",
    "        a = page_text.split(\"==Deaths==\")[1]\n",
    "    else:\n",
    "        a = None\n",
    "    if(\"=== January ===\" in page_text):\n",
    "        a = a.split(\"=== January ===\")[1]\n",
    "    elif(\"===January===\" in page_text):\n",
    "        a = a.split(\"===January===\")[1]\n",
    "    else:\n",
    "        a = None\n",
    "    deaths = a.split(\"\\n\\n\")\n",
    "    for i in range(12):\n",
    "        #print(\"yolo\" + deaths[i])\n",
    "        s = deaths[i].split('* ',1)[1]\n",
    "        yolo = s.split(\"\\n* \")\n",
    "        for date_d in yolo:\n",
    "            pass\n",
    "            res = matchLine(date_d)\n",
    "            for person in res:\n",
    "                    df.loc[len(df)]=[year,person[0],person[1],person[2],person[3]]\n",
    "df"
   ]
  },
  {
   "cell_type": "code",
   "execution_count": null,
   "metadata": {},
   "outputs": [],
   "source": [
    "adf = df[df['Description'].str.contains(\"singer\")]\n",
    "\n",
    "columns2 = ['Death Date', 'Name', 'Singer', 'Actor', 'Author', 'Birth Year']\n",
    "df2 = pd.DataFrame(columns=columns2).set_index(['Name','Birth Year']) \n",
    "df2"
   ]
  },
  {
   "cell_type": "code",
   "execution_count": null,
   "metadata": {},
   "outputs": [],
   "source": [
    "#testCell\n",
    "line = \"[[January 2]] – [[Pierre-Paul Schweitzer]], French director of the IMF (b. [[1912]])\"\n",
    "line3 = \"[[January 11]] &ndash; [[Onat Kutlar]], Turkish writer and poet (b. [[1936]])\"\n",
    "line2 = \"\"\"[[January 17]]\n",
    "** [[Helen Stephens]], American runner (b. [[1918]])\n",
    "** [[Chung Il-kwon]], South Korean politician (b. [[1917]])\"\"\"\n",
    "#one element\n",
    "\n",
    "matchLine(line3,debug=True)\n",
    "    \n"
   ]
  },
  {
   "cell_type": "code",
   "execution_count": null,
   "metadata": {
    "collapsed": true
   },
   "outputs": [],
   "source": []
  }
 ],
 "metadata": {
  "kernelspec": {
   "display_name": "Python 3",
   "language": "python",
   "name": "python3"
  },
  "language_info": {
   "codemirror_mode": {
    "name": "ipython",
    "version": 3
   },
   "file_extension": ".py",
   "mimetype": "text/x-python",
   "name": "python",
   "nbconvert_exporter": "python",
   "pygments_lexer": "ipython3",
   "version": "3.6.3"
  }
 },
 "nbformat": 4,
 "nbformat_minor": 2
}
