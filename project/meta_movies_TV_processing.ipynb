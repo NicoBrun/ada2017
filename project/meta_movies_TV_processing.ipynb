{
 "cells": [
  {
   "cell_type": "markdown",
   "metadata": {
    "collapsed": true
   },
   "source": [
    "### Processing pipeline for 'meta_Movies_and_TV.json'"
   ]
  },
  {
   "cell_type": "code",
   "execution_count": 1,
   "metadata": {
    "collapsed": true
   },
   "outputs": [],
   "source": [
    "datapath = 'DATA/'\n",
    "filename = 'meta_Movies_and_TV.json.gz'\n",
    "\n",
    "features = ['asin', 'title', 'description']"
   ]
  },
  {
   "cell_type": "code",
   "execution_count": 2,
   "metadata": {
    "collapsed": true
   },
   "outputs": [],
   "source": [
    "# Essential imports\n",
    "import pandas as pd\n",
    "import numpy as np\n",
    "import json\n",
    "from pandas.io.json import json_normalize\n",
    "\n",
    "# Strict JSON conversion\n",
    "import json \n",
    "import gzip \n",
    "\n",
    "# Sleep\n",
    "import time\n",
    "\n",
    "# Progress display\n",
    "from IPython.display import clear_output"
   ]
  },
  {
   "cell_type": "code",
   "execution_count": 3,
   "metadata": {
    "collapsed": true
   },
   "outputs": [],
   "source": [
    "def gz_to_dataframe(datapath, filename):\n",
    "    def parse(path): \n",
    "        g = gzip.open(path, 'rb') \n",
    "        for l in g: \n",
    "            yield eval(l) \n",
    "    def getDF(path): \n",
    "        i = 0 \n",
    "        df = {} \n",
    "        for d in parse(path): \n",
    "            df[i] = d \n",
    "            i += 1 \n",
    "        return pd.DataFrame.from_dict(df, orient='index') \n",
    "    return getDF(datapath+filename)\n",
    "    \n",
    "product_df = gz_to_dataframe(datapath, filename)"
   ]
  },
  {
   "cell_type": "code",
   "execution_count": 4,
   "metadata": {},
   "outputs": [
    {
     "data": {
      "text/plain": [
       "(208321, 3)"
      ]
     },
     "execution_count": 4,
     "metadata": {},
     "output_type": "execute_result"
    }
   ],
   "source": [
    "product_df[features].shape"
   ]
  },
  {
   "cell_type": "code",
   "execution_count": 5,
   "metadata": {},
   "outputs": [
    {
     "data": {
      "text/html": [
       "<div>\n",
       "<style scoped>\n",
       "    .dataframe tbody tr th:only-of-type {\n",
       "        vertical-align: middle;\n",
       "    }\n",
       "\n",
       "    .dataframe tbody tr th {\n",
       "        vertical-align: top;\n",
       "    }\n",
       "\n",
       "    .dataframe thead th {\n",
       "        text-align: right;\n",
       "    }\n",
       "</style>\n",
       "<table border=\"1\" class=\"dataframe\">\n",
       "  <thead>\n",
       "    <tr style=\"text-align: right;\">\n",
       "      <th></th>\n",
       "      <th>Name</th>\n",
       "      <th>Birth Date</th>\n",
       "      <th>Death Date</th>\n",
       "      <th>Description</th>\n",
       "      <th>Actor</th>\n",
       "      <th>Author</th>\n",
       "      <th>Musician</th>\n",
       "    </tr>\n",
       "  </thead>\n",
       "  <tbody>\n",
       "    <tr>\n",
       "      <th>0</th>\n",
       "      <td>Jack Weston</td>\n",
       "      <td>1924</td>\n",
       "      <td>1996-05-03</td>\n",
       "      <td>, american actor</td>\n",
       "      <td>True</td>\n",
       "      <td>False</td>\n",
       "      <td>False</td>\n",
       "    </tr>\n",
       "    <tr>\n",
       "      <th>1</th>\n",
       "      <td>John Beradino</td>\n",
       "      <td>1917</td>\n",
       "      <td>1996-05-19</td>\n",
       "      <td>, american baseball player and actor</td>\n",
       "      <td>True</td>\n",
       "      <td>False</td>\n",
       "      <td>False</td>\n",
       "    </tr>\n",
       "    <tr>\n",
       "      <th>2</th>\n",
       "      <td>Jon Pertwee</td>\n",
       "      <td>1919</td>\n",
       "      <td>1996-05-20</td>\n",
       "      <td>, british actor</td>\n",
       "      <td>True</td>\n",
       "      <td>False</td>\n",
       "      <td>False</td>\n",
       "    </tr>\n",
       "    <tr>\n",
       "      <th>3</th>\n",
       "      <td>Lash LaRue</td>\n",
       "      <td>1917</td>\n",
       "      <td>1996-05-21</td>\n",
       "      <td>, american actor</td>\n",
       "      <td>True</td>\n",
       "      <td>False</td>\n",
       "      <td>False</td>\n",
       "    </tr>\n",
       "    <tr>\n",
       "      <th>4</th>\n",
       "      <td>Paul Delph</td>\n",
       "      <td>1957</td>\n",
       "      <td>1996-05-21</td>\n",
       "      <td>, american musician and producer</td>\n",
       "      <td>False</td>\n",
       "      <td>False</td>\n",
       "      <td>True</td>\n",
       "    </tr>\n",
       "    <tr>\n",
       "      <th>5</th>\n",
       "      <td>Jacob Druckman</td>\n",
       "      <td>1928</td>\n",
       "      <td>1996-05-24</td>\n",
       "      <td>, american composer</td>\n",
       "      <td>False</td>\n",
       "      <td>False</td>\n",
       "      <td>True</td>\n",
       "    </tr>\n",
       "    <tr>\n",
       "      <th>6</th>\n",
       "      <td>Enrique Álvarez Félix</td>\n",
       "      <td>1934</td>\n",
       "      <td>1996-05-24</td>\n",
       "      <td>, mexican actor</td>\n",
       "      <td>True</td>\n",
       "      <td>False</td>\n",
       "      <td>False</td>\n",
       "    </tr>\n",
       "    <tr>\n",
       "      <th>7</th>\n",
       "      <td>Joseph Mitchell (writer)|Joseph Mitchell</td>\n",
       "      <td>1908</td>\n",
       "      <td>1996-05-24</td>\n",
       "      <td>, american writer</td>\n",
       "      <td>False</td>\n",
       "      <td>True</td>\n",
       "      <td>False</td>\n",
       "    </tr>\n",
       "    <tr>\n",
       "      <th>8</th>\n",
       "      <td>Bradley Nowell</td>\n",
       "      <td>1968</td>\n",
       "      <td>1996-05-25</td>\n",
       "      <td>, american musician</td>\n",
       "      <td>False</td>\n",
       "      <td>False</td>\n",
       "      <td>True</td>\n",
       "    </tr>\n",
       "    <tr>\n",
       "      <th>9</th>\n",
       "      <td>Tamara Toumanova</td>\n",
       "      <td>1919</td>\n",
       "      <td>1996-05-29</td>\n",
       "      <td>, russian dancer and actress</td>\n",
       "      <td>True</td>\n",
       "      <td>False</td>\n",
       "      <td>False</td>\n",
       "    </tr>\n",
       "  </tbody>\n",
       "</table>\n",
       "</div>"
      ],
      "text/plain": [
       "                                       Name  Birth Date  Death Date  \\\n",
       "0                               Jack Weston        1924  1996-05-03   \n",
       "1                             John Beradino        1917  1996-05-19   \n",
       "2                               Jon Pertwee        1919  1996-05-20   \n",
       "3                                Lash LaRue        1917  1996-05-21   \n",
       "4                                Paul Delph        1957  1996-05-21   \n",
       "5                            Jacob Druckman        1928  1996-05-24   \n",
       "6                     Enrique Álvarez Félix        1934  1996-05-24   \n",
       "7  Joseph Mitchell (writer)|Joseph Mitchell        1908  1996-05-24   \n",
       "8                            Bradley Nowell        1968  1996-05-25   \n",
       "9                          Tamara Toumanova        1919  1996-05-29   \n",
       "\n",
       "                              Description  Actor  Author  Musician  \n",
       "0                       , american actor    True   False     False  \n",
       "1   , american baseball player and actor    True   False     False  \n",
       "2                        , british actor    True   False     False  \n",
       "3                       , american actor    True   False     False  \n",
       "4       , american musician and producer   False   False      True  \n",
       "5                    , american composer   False   False      True  \n",
       "6                        , mexican actor    True   False     False  \n",
       "7                      , american writer   False    True     False  \n",
       "8                    , american musician   False   False      True  \n",
       "9           , russian dancer and actress    True   False     False  "
      ]
     },
     "execution_count": 5,
     "metadata": {},
     "output_type": "execute_result"
    }
   ],
   "source": [
    "deaths=pd.read_csv(\"DATA/deaths.csv\")\n",
    "deaths.head(10)"
   ]
  },
  {
   "cell_type": "code",
   "execution_count": null,
   "metadata": {
    "collapsed": true
   },
   "outputs": [],
   "source": []
  },
  {
   "cell_type": "markdown",
   "metadata": {},
   "source": [
    "### 1. fetch artists names with amazon API"
   ]
  },
  {
   "cell_type": "code",
   "execution_count": 6,
   "metadata": {
    "collapsed": true
   },
   "outputs": [],
   "source": [
    "## Identify with amazon api servers\n",
    "##\n",
    "\n",
    "from amazon.api import AmazonAPI\n",
    "\n",
    "def get_api_keys():\n",
    "    f = open(\"api_creds\")\n",
    "    ar = f.read().split(\"\\n\")\n",
    "    return ar[0], ar[1], ar[2]\n",
    "\n",
    "AMAZON_ACCESS_KEY, AMAZON_SECRET_KEY, AMAZON_ASSOC_TAG = get_api_keys()\n",
    "\n",
    "amazon = AmazonAPI(AMAZON_ACCESS_KEY, AMAZON_SECRET_KEY, AMAZON_ASSOC_TAG)"
   ]
  },
  {
   "cell_type": "code",
   "execution_count": 7,
   "metadata": {
    "collapsed": true
   },
   "outputs": [],
   "source": [
    "## API query helpers\n",
    "##\n",
    "\n",
    "\n",
    "''' Product lookup with API, asin can be a string ('one by one' lookup)\n",
    "    or a list of strings ('bulk lookup').\n",
    "    bulk lookup provides better performance\n",
    "'''\n",
    "def get_prod(asin) : \n",
    "    if not isinstance(asin, str): \n",
    "        acc_str = asin[0]\n",
    "        for e in asin : \n",
    "            acc_str += ','+e\n",
    "        print(acc_str)\n",
    "        return amazon.lookup(ItemId=acc_str)\n",
    "    else :\n",
    "        return amazon.lookup(ItemId=asin)\n",
    "    \n",
    "    \n",
    "''' Splits the interval [start-end] into bulks of size bulksize\n",
    "'''    \n",
    "def gen_bulk_index(start, end, bulksize=10, includeEnd=False):\n",
    "    size = end - start + 1\n",
    "    bulks = [list(range(start+(i*bulksize), start + (i+1)*bulksize)) for i in range(0, int(size/bulksize))]\n",
    "    if includeEnd : \n",
    "        bulks.append(list(range(bulks[len(bulks)-1][bulksize-1], end+1)))\n",
    "    else : \n",
    "        bulks.append(list(range(bulks[len(bulks)-1][bulksize-1], end)))\n",
    "    return bulks    \n",
    "\n",
    "\n",
    "def get_directors(prod) : \n",
    "    return prod.directors\n",
    "\n",
    "def get_actors(prod) : \n",
    "    return prod.actors"
   ]
  },
  {
   "cell_type": "code",
   "execution_count": null,
   "metadata": {},
   "outputs": [],
   "source": [
    "## API \"one-by-one\" querying\n",
    "##\n",
    "\n",
    "product_df['actors'] = pd.Series(dtype=object)\n",
    "product_df['directors'] = pd.Series(dtype=object)\n",
    "\n",
    "for i, prod_row in enumerate(product_df.iterrows()) : \n",
    "    if i%100 == 0 : print(int(100 * (i+1) / product_df.shape[0]), \"% completed (\",i, \" rows)\", \"  -  time : \",time.strftime(\"%H:%M:%S\"))\n",
    "    prod = get_prod(prod_row[1]['asin'])\n",
    "    product_df.set_value(i, 'actors', get_actors(prod))\n",
    "    product_df.set_value(i, 'directors', get_directors(prod))\n",
    "    time.sleep(1)\n",
    "    \n",
    "    if(i>=300):\n",
    "        break\n",
    "    "
   ]
  },
  {
   "cell_type": "code",
   "execution_count": 25,
   "metadata": {},
   "outputs": [
    {
     "data": {
      "text/plain": [
       "0         False\n",
       "1         False\n",
       "2         False\n",
       "3         False\n",
       "4         False\n",
       "5         False\n",
       "6         False\n",
       "7         False\n",
       "8         False\n",
       "9         False\n",
       "10        False\n",
       "11        False\n",
       "12        False\n",
       "13        False\n",
       "14        False\n",
       "15        False\n",
       "16        False\n",
       "17        False\n",
       "18        False\n",
       "19        False\n",
       "20        False\n",
       "21        False\n",
       "22        False\n",
       "23        False\n",
       "24        False\n",
       "25        False\n",
       "26        False\n",
       "27        False\n",
       "28        False\n",
       "29        False\n",
       "          ...  \n",
       "208292     True\n",
       "208293     True\n",
       "208294     True\n",
       "208295     True\n",
       "208296     True\n",
       "208297     True\n",
       "208298     True\n",
       "208299     True\n",
       "208300     True\n",
       "208301     True\n",
       "208302     True\n",
       "208303     True\n",
       "208304     True\n",
       "208305     True\n",
       "208306     True\n",
       "208307     True\n",
       "208308     True\n",
       "208309     True\n",
       "208310     True\n",
       "208311     True\n",
       "208312     True\n",
       "208313     True\n",
       "208314     True\n",
       "208315     True\n",
       "208316     True\n",
       "208317     True\n",
       "208318     True\n",
       "208319     True\n",
       "208320     True\n",
       "208321     True\n",
       "Name: actors, Length: 208322, dtype: bool"
      ]
     },
     "execution_count": 25,
     "metadata": {},
     "output_type": "execute_result"
    }
   ],
   "source": [
    "product_df[product_df['actors'].isna() == True]\n",
    "product_df['actors'].isna() "
   ]
  },
  {
   "cell_type": "markdown",
   "metadata": {},
   "source": [
    "### API \"bulk\" querying"
   ]
  },
  {
   "cell_type": "code",
   "execution_count": 45,
   "metadata": {
    "collapsed": true
   },
   "outputs": [],
   "source": [
    "## Parameters for bulk item lookup, should be kept between runs\n",
    "##\n",
    "\n",
    "bulksize = 10\n",
    "\n",
    "# used to restart from where we were in case of an error\n",
    "lastItemLookedUp = 0\n",
    "incompleterows = 0\n",
    "emptyrows = 0"
   ]
  },
  {
   "cell_type": "code",
   "execution_count": 46,
   "metadata": {
    "scrolled": true
   },
   "outputs": [
    {
     "name": "stdout",
     "output_type": "stream",
     "text": [
      "last item looked up :  0   -  time :  13:41:26 \n",
      "\n",
      "\n"
     ]
    }
   ],
   "source": [
    "print(\"last item looked up : \", lastItemLookedUp,  \"  -  time : \",time.strftime(\"%H:%M:%S\"), \"\\n\\n\")"
   ]
  },
  {
   "cell_type": "code",
   "execution_count": null,
   "metadata": {
    "scrolled": true
   },
   "outputs": [
    {
     "name": "stdout",
     "output_type": "stream",
     "text": [
      "     0 % completed ( 300  rows)   -  time :  13:42:27\n",
      "     Last Item Looked up :  299  /  208322\n",
      "     Incomplete rows :  0\n",
      "     Empty rows :  0\n",
      "\n",
      "\n",
      "\n",
      "\n",
      "0563412879,0563412879,0570088933,0578000601,0578002019,0578009927,057804546X,0578046725,0578047861,0578045427,0578057247\n",
      "0578058758,0578058758,0578057239,0590295918,0590582380,0594580897,0609607510,0609810553,0615111017,0615111114,0615113702\n",
      "0615114180,0615114180,0615115187,0615117120,0615113729,0615118240,0615127894,0615122434,0615172083,0615181848,0615195555\n",
      "0615208185,0615208185,0615212050,061522072X,061522153X,0615219225,0615219675,0615229476,0615229492,0615239420,061524226X\n",
      "0615255868,0615255868,0615254721,0615270778,0615270557,0615274641,0615278094,0615290183,061529118X,061530091X,0615315763\n",
      "0615328091,0615328091,0615329071,0615327087,0615334423,0615336132,0615344216,0615348572,0615353789,0615363628,0615377777\n"
     ]
    }
   ],
   "source": [
    "original_lastItemLookedUp = lastItemLookedUp\n",
    "\n",
    "''' Helper : extracts wanted data from the amazon product 'amazonProduct' and \n",
    "             puts it in the dataframe at the given positions   \n",
    "'''\n",
    "def set_df_values_from_product(amazonProduct, rowNumber, fieldName1, fieldName2) :\n",
    "    if (amazonProduct==None) : \n",
    "        product_df.set_value(rowNumber, fieldName1, [])\n",
    "        product_df.set_value(rowNumber, fieldName2, [])        \n",
    "    actors = get_actors(amazonProduct)\n",
    "    product_df.set_value(rowNumber, fieldName1, actors)\n",
    "    directors = get_directors(amazonProduct)\n",
    "    product_df.set_value(rowNumber, fieldName2, directors)\n",
    "\n",
    "\n",
    "for bulk in gen_bulk_index(lastItemLookedUp, product_df.shape[0], bulksize=bulksize) : \n",
    "    # display progess\n",
    "    if ((bulk[0]-(original_lastItemLookedUp)) % 100 == 0) : \n",
    "        clear_output()\n",
    "        print(\"    \",int(100 * (bulk[0]+1) / product_df.shape[0]), \"% completed (\",bulk[0], \" rows)\", \"  -  time : \",time.strftime(\"%H:%M:%S\"))\n",
    "        print(\"     Last Item Looked up : \", lastItemLookedUp, \" / \", product_df.shape[0])\n",
    "        print(\"     Incomplete rows : \", incompleterows)\n",
    "        print(\"     Empty rows : \", emptyrows)\n",
    "        print(\"\\n\\n\\n\")\n",
    "    \n",
    "    # get asins for the bulk and fetch the matching AmazonProducts\n",
    "    asins = product_df['asin'][bulk].tolist()\n",
    "    prods = get_prod(asins)\n",
    "\n",
    "    # Then, process each product to add necessary informations in the dataframe\n",
    "    # Problem : the API can fail silently (no ASIN found -> the result will contain one less product\n",
    "    #           than given asins) which breaks the matching ASIN <-> result if we process in bulk\n",
    "    # Solution : detect discrepancy and fall back to 'one-by-one' querying\n",
    "    if (type(prods) is list) and (len(prods) == bulksize) :              \n",
    "        # Case : we found exactly one result per ASIN\n",
    "        #        process by bulk\n",
    "            for i, prod in enumerate(prods) : \n",
    "                set_df_values_from_product(prod, bulk[i], \"actors\", \"directors\")\n",
    "    elif (type(prods) is list) or (type(prods) is AmazonApi.AmazonProduct) :  \n",
    "        # Case : we obtained a list of AmazonProducts or a single AmazonProduct\n",
    "        #        fallback to 1-by-1 querying\n",
    "        for n in bulk :               \n",
    "            asin = product_df['asin'][n]\n",
    "            prod = get_prod(asin)\n",
    "            set_df_values_from_product(prod, n, \"actors\", \"directors\")\n",
    "        incompleterows += 1\n",
    "    else : \n",
    "        emtpyrows += 1\n",
    "        \n",
    "    # Save progress\n",
    "    lastItemLookedUp = bulk[bulksize-1]\n",
    "        \n",
    "    # limit query frequency to avoid getting 503'd\n",
    "    time.sleep(min(bulksize/25, 10))"
   ]
  },
  {
   "cell_type": "code",
   "execution_count": null,
   "metadata": {
    "scrolled": false
   },
   "outputs": [],
   "source": [
    "features = ['asin', 'categories', 'description', 'title', 'salesRank', 'actors', 'directors']\n",
    "product_df = product_df[features]\n",
    "product_df.head()"
   ]
  },
  {
   "cell_type": "code",
   "execution_count": 172,
   "metadata": {
    "collapsed": true
   },
   "outputs": [],
   "source": [
    "product_df.to_csv(\"meta_movies_TV_processed.csv\")"
   ]
  },
  {
   "cell_type": "code",
   "execution_count": 12,
   "metadata": {},
   "outputs": [
    {
     "name": "stderr",
     "output_type": "stream",
     "text": [
      "/usr/lib/python3.6/site-packages/IPython/core/interactiveshell.py:2728: DtypeWarning: Columns (0,4) have mixed types. Specify dtype option on import or set low_memory=False.\n",
      "  interactivity=interactivity, compiler=compiler, result=result)\n"
     ]
    }
   ],
   "source": [
    "product_df = pd.read_csv(\"meta_movies_TV_processed.csv\")"
   ]
  },
  {
   "cell_type": "code",
   "execution_count": 174,
   "metadata": {},
   "outputs": [
    {
     "data": {
      "text/plain": [
       "(208322, 8)"
      ]
     },
     "execution_count": 174,
     "metadata": {},
     "output_type": "execute_result"
    }
   ],
   "source": [
    "test.shape"
   ]
  },
  {
   "cell_type": "code",
   "execution_count": 176,
   "metadata": {},
   "outputs": [
    {
     "data": {
      "text/html": [
       "<div>\n",
       "<style scoped>\n",
       "    .dataframe tbody tr th:only-of-type {\n",
       "        vertical-align: middle;\n",
       "    }\n",
       "\n",
       "    .dataframe tbody tr th {\n",
       "        vertical-align: top;\n",
       "    }\n",
       "\n",
       "    .dataframe thead th {\n",
       "        text-align: right;\n",
       "    }\n",
       "</style>\n",
       "<table border=\"1\" class=\"dataframe\">\n",
       "  <thead>\n",
       "    <tr style=\"text-align: right;\">\n",
       "      <th></th>\n",
       "      <th>Unnamed: 0</th>\n",
       "      <th>asin</th>\n",
       "      <th>categories</th>\n",
       "      <th>description</th>\n",
       "      <th>title</th>\n",
       "      <th>salesRank</th>\n",
       "      <th>actors</th>\n",
       "      <th>directors</th>\n",
       "    </tr>\n",
       "  </thead>\n",
       "  <tbody>\n",
       "    <tr>\n",
       "      <th>0</th>\n",
       "      <td>0</td>\n",
       "      <td>0000143561</td>\n",
       "      <td>[['Movies &amp; TV', 'Movies']]</td>\n",
       "      <td>3Pack DVD set - Italian Classics, Parties and ...</td>\n",
       "      <td>Everyday Italian (with Giada de Laurentiis), V...</td>\n",
       "      <td>{'Movies &amp; TV': 376041}</td>\n",
       "      <td>[]</td>\n",
       "      <td>[]</td>\n",
       "    </tr>\n",
       "    <tr>\n",
       "      <th>1</th>\n",
       "      <td>1</td>\n",
       "      <td>0000589012</td>\n",
       "      <td>[['Movies &amp; TV', 'Movies']]</td>\n",
       "      <td>NaN</td>\n",
       "      <td>Why Don't They Just Quit? DVD Roundtable Discu...</td>\n",
       "      <td>{'Movies &amp; TV': 1084845}</td>\n",
       "      <td>[]</td>\n",
       "      <td>[]</td>\n",
       "    </tr>\n",
       "    <tr>\n",
       "      <th>2</th>\n",
       "      <td>2</td>\n",
       "      <td>0000695009</td>\n",
       "      <td>[['Movies &amp; TV', 'Movies']]</td>\n",
       "      <td>NaN</td>\n",
       "      <td>Understanding Seizures and Epilepsy DVD</td>\n",
       "      <td>{'Movies &amp; TV': 1022732}</td>\n",
       "      <td>[]</td>\n",
       "      <td>[]</td>\n",
       "    </tr>\n",
       "    <tr>\n",
       "      <th>3</th>\n",
       "      <td>3</td>\n",
       "      <td>000107461X</td>\n",
       "      <td>[['Movies &amp; TV', 'Movies']]</td>\n",
       "      <td>NaN</td>\n",
       "      <td>Live in Houston [VHS]</td>\n",
       "      <td>{'Movies &amp; TV': 954116}</td>\n",
       "      <td>['Douglas Miller']</td>\n",
       "      <td>[]</td>\n",
       "    </tr>\n",
       "    <tr>\n",
       "      <th>4</th>\n",
       "      <td>4</td>\n",
       "      <td>0000143529</td>\n",
       "      <td>[['Movies &amp; TV', 'Movies']]</td>\n",
       "      <td>Disc 1: Flour Power (Scones; Shortcakes; South...</td>\n",
       "      <td>My Fair Pastry (Good Eats Vol. 9)</td>\n",
       "      <td>{'Movies &amp; TV': 463562}</td>\n",
       "      <td>['Alton Brown']</td>\n",
       "      <td>[]</td>\n",
       "    </tr>\n",
       "  </tbody>\n",
       "</table>\n",
       "</div>"
      ],
      "text/plain": [
       "  Unnamed: 0        asin                   categories  \\\n",
       "0          0  0000143561  [['Movies & TV', 'Movies']]   \n",
       "1          1  0000589012  [['Movies & TV', 'Movies']]   \n",
       "2          2  0000695009  [['Movies & TV', 'Movies']]   \n",
       "3          3  000107461X  [['Movies & TV', 'Movies']]   \n",
       "4          4  0000143529  [['Movies & TV', 'Movies']]   \n",
       "\n",
       "                                         description  \\\n",
       "0  3Pack DVD set - Italian Classics, Parties and ...   \n",
       "1                                                NaN   \n",
       "2                                                NaN   \n",
       "3                                                NaN   \n",
       "4  Disc 1: Flour Power (Scones; Shortcakes; South...   \n",
       "\n",
       "                                               title  \\\n",
       "0  Everyday Italian (with Giada de Laurentiis), V...   \n",
       "1  Why Don't They Just Quit? DVD Roundtable Discu...   \n",
       "2            Understanding Seizures and Epilepsy DVD   \n",
       "3                              Live in Houston [VHS]   \n",
       "4                  My Fair Pastry (Good Eats Vol. 9)   \n",
       "\n",
       "                  salesRank              actors directors  \n",
       "0   {'Movies & TV': 376041}                  []        []  \n",
       "1  {'Movies & TV': 1084845}                  []        []  \n",
       "2  {'Movies & TV': 1022732}                  []        []  \n",
       "3   {'Movies & TV': 954116}  ['Douglas Miller']        []  \n",
       "4   {'Movies & TV': 463562}     ['Alton Brown']        []  "
      ]
     },
     "execution_count": 176,
     "metadata": {},
     "output_type": "execute_result"
    }
   ],
   "source": [
    "test.head()"
   ]
  },
  {
   "cell_type": "code",
   "execution_count": null,
   "metadata": {
    "collapsed": true
   },
   "outputs": [],
   "source": []
  }
 ],
 "metadata": {
  "kernelspec": {
   "display_name": "Python 3",
   "language": "python",
   "name": "python3"
  },
  "language_info": {
   "codemirror_mode": {
    "name": "ipython",
    "version": 3
   },
   "file_extension": ".py",
   "mimetype": "text/x-python",
   "name": "python",
   "nbconvert_exporter": "python",
   "pygments_lexer": "ipython3",
   "version": "3.6.3"
  }
 },
 "nbformat": 4,
 "nbformat_minor": 2
}
