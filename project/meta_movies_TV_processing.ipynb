{
 "cells": [
  {
   "cell_type": "markdown",
   "metadata": {
    "collapsed": true
   },
   "source": [
    "### Processing pipeline for 'meta_Movies_and_TV.json'"
   ]
  },
  {
   "cell_type": "code",
   "execution_count": 1,
   "metadata": {
    "collapsed": true
   },
   "outputs": [],
   "source": [
    "datapath = 'DATA/'\n",
    "filename = 'meta_Movies_and_TV.json.gz'\n",
    "\n",
    "features = ['asin', 'title', 'description']"
   ]
  },
  {
   "cell_type": "code",
   "execution_count": 2,
   "metadata": {
    "collapsed": true
   },
   "outputs": [],
   "source": [
    "# Essential imports\n",
    "import pandas as pd\n",
    "import numpy as np\n",
    "import json\n",
    "from pandas.io.json import json_normalize\n",
    "\n",
    "# Strict JSON conversion\n",
    "import json \n",
    "import gzip \n",
    "\n",
    "# Sleep\n",
    "import time\n",
    "\n",
    "# Progress display\n",
    "from IPython.display import clear_output"
   ]
  },
  {
   "cell_type": "code",
   "execution_count": 3,
   "metadata": {
    "collapsed": true
   },
   "outputs": [],
   "source": [
    "def gz_to_dataframe(datapath, filename):\n",
    "    def parse(path): \n",
    "        g = gzip.open(path, 'rb') \n",
    "        for l in g: \n",
    "            yield eval(l) \n",
    "    def getDF(path): \n",
    "        i = 0 \n",
    "        df = {} \n",
    "        for d in parse(path): \n",
    "            df[i] = d \n",
    "            i += 1 \n",
    "        return pd.DataFrame.from_dict(df, orient='index') \n",
    "    return getDF(datapath+filename)\n",
    "    \n",
    "product_df = gz_to_dataframe(datapath, filename)[features]"
   ]
  },
  {
   "cell_type": "code",
   "execution_count": 38,
   "metadata": {},
   "outputs": [
    {
     "data": {
      "text/plain": [
       "(208321, 11)"
      ]
     },
     "execution_count": 38,
     "metadata": {},
     "output_type": "execute_result"
    }
   ],
   "source": [
    "product_df.shape"
   ]
  },
  {
   "cell_type": "code",
   "execution_count": 5,
   "metadata": {},
   "outputs": [
    {
     "data": {
      "text/html": [
       "<div>\n",
       "<style scoped>\n",
       "    .dataframe tbody tr th:only-of-type {\n",
       "        vertical-align: middle;\n",
       "    }\n",
       "\n",
       "    .dataframe tbody tr th {\n",
       "        vertical-align: top;\n",
       "    }\n",
       "\n",
       "    .dataframe thead th {\n",
       "        text-align: right;\n",
       "    }\n",
       "</style>\n",
       "<table border=\"1\" class=\"dataframe\">\n",
       "  <thead>\n",
       "    <tr style=\"text-align: right;\">\n",
       "      <th></th>\n",
       "      <th>Name</th>\n",
       "      <th>Birth Date</th>\n",
       "      <th>Death Date</th>\n",
       "      <th>Description</th>\n",
       "      <th>Actor</th>\n",
       "      <th>Author</th>\n",
       "      <th>Musician</th>\n",
       "    </tr>\n",
       "  </thead>\n",
       "  <tbody>\n",
       "    <tr>\n",
       "      <th>0</th>\n",
       "      <td>Jack Weston</td>\n",
       "      <td>1924</td>\n",
       "      <td>1996-05-03</td>\n",
       "      <td>, american actor</td>\n",
       "      <td>True</td>\n",
       "      <td>False</td>\n",
       "      <td>False</td>\n",
       "    </tr>\n",
       "    <tr>\n",
       "      <th>1</th>\n",
       "      <td>John Beradino</td>\n",
       "      <td>1917</td>\n",
       "      <td>1996-05-19</td>\n",
       "      <td>, american baseball player and actor</td>\n",
       "      <td>True</td>\n",
       "      <td>False</td>\n",
       "      <td>False</td>\n",
       "    </tr>\n",
       "    <tr>\n",
       "      <th>2</th>\n",
       "      <td>Jon Pertwee</td>\n",
       "      <td>1919</td>\n",
       "      <td>1996-05-20</td>\n",
       "      <td>, british actor</td>\n",
       "      <td>True</td>\n",
       "      <td>False</td>\n",
       "      <td>False</td>\n",
       "    </tr>\n",
       "    <tr>\n",
       "      <th>3</th>\n",
       "      <td>Lash LaRue</td>\n",
       "      <td>1917</td>\n",
       "      <td>1996-05-21</td>\n",
       "      <td>, american actor</td>\n",
       "      <td>True</td>\n",
       "      <td>False</td>\n",
       "      <td>False</td>\n",
       "    </tr>\n",
       "    <tr>\n",
       "      <th>4</th>\n",
       "      <td>Paul Delph</td>\n",
       "      <td>1957</td>\n",
       "      <td>1996-05-21</td>\n",
       "      <td>, american musician and producer</td>\n",
       "      <td>False</td>\n",
       "      <td>False</td>\n",
       "      <td>True</td>\n",
       "    </tr>\n",
       "    <tr>\n",
       "      <th>5</th>\n",
       "      <td>Jacob Druckman</td>\n",
       "      <td>1928</td>\n",
       "      <td>1996-05-24</td>\n",
       "      <td>, american composer</td>\n",
       "      <td>False</td>\n",
       "      <td>False</td>\n",
       "      <td>True</td>\n",
       "    </tr>\n",
       "    <tr>\n",
       "      <th>6</th>\n",
       "      <td>Enrique Álvarez Félix</td>\n",
       "      <td>1934</td>\n",
       "      <td>1996-05-24</td>\n",
       "      <td>, mexican actor</td>\n",
       "      <td>True</td>\n",
       "      <td>False</td>\n",
       "      <td>False</td>\n",
       "    </tr>\n",
       "    <tr>\n",
       "      <th>7</th>\n",
       "      <td>Joseph Mitchell (writer)|Joseph Mitchell</td>\n",
       "      <td>1908</td>\n",
       "      <td>1996-05-24</td>\n",
       "      <td>, american writer</td>\n",
       "      <td>False</td>\n",
       "      <td>True</td>\n",
       "      <td>False</td>\n",
       "    </tr>\n",
       "    <tr>\n",
       "      <th>8</th>\n",
       "      <td>Bradley Nowell</td>\n",
       "      <td>1968</td>\n",
       "      <td>1996-05-25</td>\n",
       "      <td>, american musician</td>\n",
       "      <td>False</td>\n",
       "      <td>False</td>\n",
       "      <td>True</td>\n",
       "    </tr>\n",
       "    <tr>\n",
       "      <th>9</th>\n",
       "      <td>Tamara Toumanova</td>\n",
       "      <td>1919</td>\n",
       "      <td>1996-05-29</td>\n",
       "      <td>, russian dancer and actress</td>\n",
       "      <td>True</td>\n",
       "      <td>False</td>\n",
       "      <td>False</td>\n",
       "    </tr>\n",
       "  </tbody>\n",
       "</table>\n",
       "</div>"
      ],
      "text/plain": [
       "                                       Name  Birth Date  Death Date  \\\n",
       "0                               Jack Weston        1924  1996-05-03   \n",
       "1                             John Beradino        1917  1996-05-19   \n",
       "2                               Jon Pertwee        1919  1996-05-20   \n",
       "3                                Lash LaRue        1917  1996-05-21   \n",
       "4                                Paul Delph        1957  1996-05-21   \n",
       "5                            Jacob Druckman        1928  1996-05-24   \n",
       "6                     Enrique Álvarez Félix        1934  1996-05-24   \n",
       "7  Joseph Mitchell (writer)|Joseph Mitchell        1908  1996-05-24   \n",
       "8                            Bradley Nowell        1968  1996-05-25   \n",
       "9                          Tamara Toumanova        1919  1996-05-29   \n",
       "\n",
       "                              Description  Actor  Author  Musician  \n",
       "0                       , american actor    True   False     False  \n",
       "1   , american baseball player and actor    True   False     False  \n",
       "2                        , british actor    True   False     False  \n",
       "3                       , american actor    True   False     False  \n",
       "4       , american musician and producer   False   False      True  \n",
       "5                    , american composer   False   False      True  \n",
       "6                        , mexican actor    True   False     False  \n",
       "7                      , american writer   False    True     False  \n",
       "8                    , american musician   False   False      True  \n",
       "9           , russian dancer and actress    True   False     False  "
      ]
     },
     "execution_count": 5,
     "metadata": {},
     "output_type": "execute_result"
    }
   ],
   "source": [
    "deaths=pd.read_csv(\"DATA/deaths.csv\")\n",
    "deaths.head(10)"
   ]
  },
  {
   "cell_type": "code",
   "execution_count": null,
   "metadata": {
    "collapsed": true
   },
   "outputs": [],
   "source": []
  },
  {
   "cell_type": "markdown",
   "metadata": {},
   "source": [
    "### 1. fetch artists names with amazon API"
   ]
  },
  {
   "cell_type": "code",
   "execution_count": 6,
   "metadata": {
    "collapsed": true
   },
   "outputs": [],
   "source": [
    "## Identify with amazon api servers\n",
    "##\n",
    "\n",
    "from amazon.api import AmazonAPI\n",
    "from amazon.api import AsinNotFound\n",
    "\n",
    "def get_amazon_interface():\n",
    "    f = open(\"api_creds\")\n",
    "    ar = f.read().split(\"\\n\")\n",
    "    return AmazonAPI(ar[0], ar[1], ar[2])\n",
    "    return ar[0], ar[1], ar[2]\n",
    "\n",
    "amazon = get_amazon_interface"
   ]
  },
  {
   "cell_type": "code",
   "execution_count": 35,
   "metadata": {
    "collapsed": true
   },
   "outputs": [],
   "source": [
    "## API query helpers\n",
    "##\n",
    "\n",
    "\n",
    "''' Product lookup with API, asin can be a string ('one by one' lookup)\n",
    "    or a list of strings ('bulk lookup').\n",
    "    bulk lookup provides better performance\n",
    "'''\n",
    "def get_prod(asin) : \n",
    "    if not isinstance(asin, str): \n",
    "        acc_str = asin[0]\n",
    "        for e in asin : \n",
    "            acc_str += ','+e\n",
    "        print(acc_str)\n",
    "        return amazon.lookup(ItemId=acc_str)\n",
    "    else :\n",
    "        return amazon.lookup(ItemId=asin)\n",
    "    \n",
    "    \n",
    "''' Splits the interval [start-end] into bulks of size bulksize\n",
    "'''    \n",
    "def gen_bulk_index(start, end, bulksize=10, includeEnd=False):\n",
    "    size = end - start + 1\n",
    "    bulks = [list(range(start+(i*bulksize), start + (i+1)*bulksize)) for i in range(0, int(size/bulksize))]\n",
    "    if includeEnd : \n",
    "        bulks.append(list(range(bulks[len(bulks)-1][bulksize-1], end+1)))\n",
    "    else : \n",
    "        bulks.append(list(range(bulks[len(bulks)-1][bulksize-1], end)))\n",
    "    return bulks    \n",
    "\n",
    "\n",
    "''' Helper : extracts wanted data from the amazon product 'amazonProduct' and \n",
    "             puts it in the dataframe at the given positions   \n",
    "'''\n",
    "def set_df_cell_from_product(amazonProduct, rowNumber, fieldName1, fieldName2) :\n",
    "    if (amazonProduct is None) : \n",
    "        product_df.set_value(rowNumber, fieldName1, [])\n",
    "        product_df.set_value(rowNumber, fieldName2, [])     \n",
    "    else : \n",
    "        actors = get_actors(amazonProduct)\n",
    "        product_df.set_value(rowNumber, fieldName1, actors)\n",
    "        directors = get_directors(amazonProduct)\n",
    "        product_df.set_value(rowNumber, fieldName2, directors)\n",
    "\n",
    "\n",
    "''' Save and load progress to file, as opposed to keeping it in memory inbetween cells\n",
    "'''\n",
    "def save_progress(dataframe, nb_rows_processed):\n",
    "    dataframe.to_csv(datapath+\"meta_movies_TV_temp.csv\")\n",
    "    file = open(datapath+\"meta_movies_TV_progress\", \"w\")\n",
    "    file.write(str(nb_rows_processed))\n",
    "\n",
    "    \n",
    "def load_progress():\n",
    "    dataframe = pd.read_csv(datapath+\"meta_movies_TV_temp.csv\")\n",
    "    file = open(datapath+\"meta_movies_TV_progress\", \"r\")\n",
    "    nb_rows_processed = file.readline()\n",
    "    return dataframe, int(nb_rows_processed)\n",
    "\n",
    "\n",
    "def get_directors(prod) : \n",
    "    return prod.directors\n",
    "\n",
    "def get_actors(prod) : \n",
    "    return prod.actors"
   ]
  },
  {
   "cell_type": "markdown",
   "metadata": {},
   "source": [
    "### API \"bulk\" querying"
   ]
  },
  {
   "cell_type": "code",
   "execution_count": 9,
   "metadata": {
    "collapsed": true
   },
   "outputs": [],
   "source": [
    "## Parameters for bulk item lookup, should be kept between runs\n",
    "##\n",
    "\n",
    "bulksize = 10\n",
    "\n",
    "# used to restart from where we were in case of an error\n",
    "lastItemLookedUp = 0\n",
    "incompleterows = 0\n",
    "emptyrows = 0"
   ]
  },
  {
   "cell_type": "code",
   "execution_count": 39,
   "metadata": {},
   "outputs": [
    {
     "name": "stderr",
     "output_type": "stream",
     "text": [
      "/usr/lib/python3.6/site-packages/IPython/core/interactiveshell.py:2850: DtypeWarning: Columns (4,9,10,11) have mixed types. Specify dtype option on import or set low_memory=False.\n",
      "  if self.run_code(code, result):\n"
     ]
    }
   ],
   "source": [
    "fresh_run = False\n",
    "\n",
    "if fresh_run : \n",
    "    product_df = product_df[features]\n",
    "    product_df['actors'] = pd.Series(dtype=object)\n",
    "    product_df['directors'] = pd.Series(dtype=object)\n",
    "else : \n",
    "    product_df, lastItemLookedUp = load_progress()"
   ]
  },
  {
   "cell_type": "code",
   "execution_count": 40,
   "metadata": {
    "scrolled": true
   },
   "outputs": [
    {
     "name": "stdout",
     "output_type": "stream",
     "text": [
      "last item looked up :  115733   -  time :  13:39:29 \n",
      "\n",
      "\n"
     ]
    }
   ],
   "source": [
    "print(\"last item looked up : \", lastItemLookedUp,  \"  -  time : \",time.strftime(\"%H:%M:%S\"), \"\\n\\n\")"
   ]
  },
  {
   "cell_type": "code",
   "execution_count": null,
   "metadata": {
    "scrolled": false
   },
   "outputs": [
    {
     "name": "stdout",
     "output_type": "stream",
     "text": [
      "     72 % completed ( 151619  rows)   -  time :  15:56:48\n",
      "     Last Item Looked up :  151618  /  208321\n",
      "     Incomplete rows :  487\n",
      "     Empty rows :  0\n",
      "\n",
      "\n",
      "\n",
      "\n",
      "B002HIUM8I,B002HIUM8I,B002HINWA8,B002HIYM5C,B002HJ2ZXC,B002HJ44B8,B002HJHGUO,B002HJX3QU,B002HK4VK6,B002HK4OXA,B002HK9HZU\n",
      "B002HK9INQ,B002HK9INQ,B002HK9ILS,B002HK9IN6,B002HK9IK4,B002HK9IM2,B002HK9IMC,B002HK9IOU,B002HK9HZ0,B002HKQ5A0,B002HK9IMW\n",
      "B002HKYAAW,B002HKYAAW,B002HK9ING,B002HMCS5O,B002HMDEDE,B002HMDSOY,B002HMDENO,B002HMDQ3C,B002HMHXKY,B002HML6Z2,B002HMTX84\n",
      "B002HMUUP4,B002HMUUP4,B002HMY7GC,B002HMUZQ8,B002HN3NY8,B002HN3N02,B002HN6LZG,B002HO436O,B002HO8YE6,B002HO8YEG,B002HOI3RO\n"
     ]
    }
   ],
   "source": [
    "original_lastItemLookedUp = lastItemLookedUp\n",
    "\n",
    "\n",
    "for bulk in gen_bulk_index(lastItemLookedUp, product_df.shape[0], bulksize=bulksize) : \n",
    "    # display progess\n",
    "    if ((bulk[0]-(original_lastItemLookedUp)) % 100 == 0) : \n",
    "        clear_output()\n",
    "        print(\"    \",int(100 * (bulk[0]+1) / product_df.shape[0]), \"% completed (\",bulk[0], \" rows)\", \"  -  time : \",time.strftime(\"%H:%M:%S\"))\n",
    "        print(\"     Last Item Looked up : \", lastItemLookedUp, \" / \", product_df.shape[0])\n",
    "        print(\"     Incomplete rows : \", incompleterows)\n",
    "        print(\"     Empty rows : \", emptyrows)\n",
    "        print(\"\\n\\n\\n\")\n",
    "    \n",
    "    # get asins for the bulk and fetch the matching AmazonProducts\n",
    "    asins = product_df['asin'][bulk].tolist()\n",
    "    prods = get_prod(asins)\n",
    "\n",
    "    # Then, process each product to add necessary informations in the dataframe\n",
    "    # Problem : the API can fail silently (no ASIN found -> the result will contain one less product\n",
    "    #           than given asins) which breaks the matching ASIN <-> result if we process in bulk\n",
    "    # Solution : detect discrepancy and fall back to 'one-by-one' querying\n",
    "    if (type(prods) is list) and (len(prods) == bulksize) :              \n",
    "        # Case : we found exactly one result per ASIN\n",
    "        #        process by bulk\n",
    "            for i, prod in enumerate(prods) : \n",
    "                set_df_values_from_product(prod, bulk[i], \"actors\", \"directors\")\n",
    "    elif (type(prods) is list) or (type(prods) is AmazonApi.AmazonProduct) :  \n",
    "        # Case : we obtained a list of AmazonProducts or a single AmazonProduct\n",
    "        #        fallback to 1-by-1 querying\n",
    "        for n in bulk :               \n",
    "            asin = product_df['asin'][n]\n",
    "            try : \n",
    "                prod = get_prod(asin)\n",
    "            except(AsinNotFound): \n",
    "                prod = None\n",
    "            set_df_values_from_product(prod, n, \"actors\", \"directors\")\n",
    "            time.sleep(0.15)\n",
    "        incompleterows += 1\n",
    "    else : \n",
    "        emtpyrows += 1\n",
    "        \n",
    "    # Save progress\n",
    "    lastItemLookedUp = bulk[bulksize-1]\n",
    "        \n",
    "    # limit query frequency to avoid 503 errors\n",
    "    time.sleep(min(bulksize/25, 10))"
   ]
  },
  {
   "cell_type": "code",
   "execution_count": 48,
   "metadata": {},
   "outputs": [],
   "source": [
    "save_progress(product_df, lastItemLookedUp)\n"
   ]
  },
  {
   "cell_type": "code",
   "execution_count": null,
   "metadata": {
    "collapsed": true
   },
   "outputs": [],
   "source": []
  }
 ],
 "metadata": {
  "kernelspec": {
   "display_name": "Python 3",
   "language": "python",
   "name": "python3"
  },
  "language_info": {
   "codemirror_mode": {
    "name": "ipython",
    "version": 3
   },
   "file_extension": ".py",
   "mimetype": "text/x-python",
   "name": "python",
   "nbconvert_exporter": "python",
   "pygments_lexer": "ipython3",
   "version": "3.6.3"
  }
 },
 "nbformat": 4,
 "nbformat_minor": 2
}
