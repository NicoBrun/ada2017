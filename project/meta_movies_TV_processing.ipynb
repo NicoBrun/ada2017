{
 "cells": [
  {
   "cell_type": "markdown",
   "metadata": {
    "collapsed": true
   },
   "source": [
    "### Pipeline for filtering 'meta_Movies_and_TV.json'"
   ]
  },
  {
   "cell_type": "code",
   "execution_count": 4,
   "metadata": {
    "collapsed": true
   },
   "outputs": [],
   "source": [
    "datapath = 'DATA/archives/'\n",
    "filename = 'meta_Movies_and_TV.json.gz'\n",
    "\n",
    "features = ['asin', 'title', 'description']"
   ]
  },
  {
   "cell_type": "code",
   "execution_count": 129,
   "metadata": {
    "collapsed": true
   },
   "outputs": [],
   "source": [
    "#essential imports\n",
    "import pandas as pd\n",
    "import numpy as np\n",
    "import json\n",
    "from pandas.io.json import json_normalize\n",
    "\n",
    "# Strict JSON conversion\n",
    "import json \n",
    "import gzip \n",
    "\n",
    "#plotting imports\n",
    "%matplotlib inline\n",
    "import matplotlib.pyplot as plt\n",
    "\n",
    "#String matching\n",
    "import re\n",
    "\n",
    "# sleep\n",
    "import time\n",
    "\n",
    "from IPython.display import clear_output"
   ]
  },
  {
   "cell_type": "code",
   "execution_count": 7,
   "metadata": {},
   "outputs": [],
   "source": [
    "def gz_to_dataframe(datapath, filename):\n",
    "    def parse(path): \n",
    "        g = gzip.open(path, 'rb') \n",
    "        for l in g: \n",
    "            yield eval(l) \n",
    "    def getDF(path): \n",
    "        i = 0 \n",
    "        df = {} \n",
    "        for d in parse(path): \n",
    "            df[i] = d \n",
    "            i += 1 \n",
    "        return pd.DataFrame.from_dict(df, orient='index') \n",
    "    return getDF(datapath+filename)\n",
    "    \n",
    "product_df = gz_to_dataframe(datapath, filename)"
   ]
  },
  {
   "cell_type": "code",
   "execution_count": 17,
   "metadata": {},
   "outputs": [
    {
     "data": {
      "text/plain": [
       "(208321, 3)"
      ]
     },
     "execution_count": 17,
     "metadata": {},
     "output_type": "execute_result"
    }
   ],
   "source": [
    "product_df[features].shape"
   ]
  },
  {
   "cell_type": "code",
   "execution_count": 10,
   "metadata": {},
   "outputs": [
    {
     "data": {
      "text/html": [
       "<div>\n",
       "<style scoped>\n",
       "    .dataframe tbody tr th:only-of-type {\n",
       "        vertical-align: middle;\n",
       "    }\n",
       "\n",
       "    .dataframe tbody tr th {\n",
       "        vertical-align: top;\n",
       "    }\n",
       "\n",
       "    .dataframe thead th {\n",
       "        text-align: right;\n",
       "    }\n",
       "</style>\n",
       "<table border=\"1\" class=\"dataframe\">\n",
       "  <thead>\n",
       "    <tr style=\"text-align: right;\">\n",
       "      <th></th>\n",
       "      <th>Name</th>\n",
       "      <th>Birth Date</th>\n",
       "      <th>Death Date</th>\n",
       "      <th>Description</th>\n",
       "      <th>Actor</th>\n",
       "      <th>Author</th>\n",
       "      <th>Musician</th>\n",
       "    </tr>\n",
       "  </thead>\n",
       "  <tbody>\n",
       "    <tr>\n",
       "      <th>0</th>\n",
       "      <td>Jack Weston</td>\n",
       "      <td>1924</td>\n",
       "      <td>1996-05-03</td>\n",
       "      <td>, american actor</td>\n",
       "      <td>True</td>\n",
       "      <td>False</td>\n",
       "      <td>False</td>\n",
       "    </tr>\n",
       "    <tr>\n",
       "      <th>1</th>\n",
       "      <td>John Beradino</td>\n",
       "      <td>1917</td>\n",
       "      <td>1996-05-19</td>\n",
       "      <td>, american baseball player and actor</td>\n",
       "      <td>True</td>\n",
       "      <td>False</td>\n",
       "      <td>False</td>\n",
       "    </tr>\n",
       "    <tr>\n",
       "      <th>2</th>\n",
       "      <td>Jon Pertwee</td>\n",
       "      <td>1919</td>\n",
       "      <td>1996-05-20</td>\n",
       "      <td>, british actor</td>\n",
       "      <td>True</td>\n",
       "      <td>False</td>\n",
       "      <td>False</td>\n",
       "    </tr>\n",
       "    <tr>\n",
       "      <th>3</th>\n",
       "      <td>Lash LaRue</td>\n",
       "      <td>1917</td>\n",
       "      <td>1996-05-21</td>\n",
       "      <td>, american actor</td>\n",
       "      <td>True</td>\n",
       "      <td>False</td>\n",
       "      <td>False</td>\n",
       "    </tr>\n",
       "    <tr>\n",
       "      <th>4</th>\n",
       "      <td>Paul Delph</td>\n",
       "      <td>1957</td>\n",
       "      <td>1996-05-21</td>\n",
       "      <td>, american musician and producer</td>\n",
       "      <td>False</td>\n",
       "      <td>False</td>\n",
       "      <td>True</td>\n",
       "    </tr>\n",
       "    <tr>\n",
       "      <th>5</th>\n",
       "      <td>Jacob Druckman</td>\n",
       "      <td>1928</td>\n",
       "      <td>1996-05-24</td>\n",
       "      <td>, american composer</td>\n",
       "      <td>False</td>\n",
       "      <td>False</td>\n",
       "      <td>True</td>\n",
       "    </tr>\n",
       "    <tr>\n",
       "      <th>6</th>\n",
       "      <td>Enrique Álvarez Félix</td>\n",
       "      <td>1934</td>\n",
       "      <td>1996-05-24</td>\n",
       "      <td>, mexican actor</td>\n",
       "      <td>True</td>\n",
       "      <td>False</td>\n",
       "      <td>False</td>\n",
       "    </tr>\n",
       "    <tr>\n",
       "      <th>7</th>\n",
       "      <td>Joseph Mitchell (writer)|Joseph Mitchell</td>\n",
       "      <td>1908</td>\n",
       "      <td>1996-05-24</td>\n",
       "      <td>, american writer</td>\n",
       "      <td>False</td>\n",
       "      <td>True</td>\n",
       "      <td>False</td>\n",
       "    </tr>\n",
       "    <tr>\n",
       "      <th>8</th>\n",
       "      <td>Bradley Nowell</td>\n",
       "      <td>1968</td>\n",
       "      <td>1996-05-25</td>\n",
       "      <td>, american musician</td>\n",
       "      <td>False</td>\n",
       "      <td>False</td>\n",
       "      <td>True</td>\n",
       "    </tr>\n",
       "    <tr>\n",
       "      <th>9</th>\n",
       "      <td>Tamara Toumanova</td>\n",
       "      <td>1919</td>\n",
       "      <td>1996-05-29</td>\n",
       "      <td>, russian dancer and actress</td>\n",
       "      <td>True</td>\n",
       "      <td>False</td>\n",
       "      <td>False</td>\n",
       "    </tr>\n",
       "  </tbody>\n",
       "</table>\n",
       "</div>"
      ],
      "text/plain": [
       "                                       Name  Birth Date  Death Date  \\\n",
       "0                               Jack Weston        1924  1996-05-03   \n",
       "1                             John Beradino        1917  1996-05-19   \n",
       "2                               Jon Pertwee        1919  1996-05-20   \n",
       "3                                Lash LaRue        1917  1996-05-21   \n",
       "4                                Paul Delph        1957  1996-05-21   \n",
       "5                            Jacob Druckman        1928  1996-05-24   \n",
       "6                     Enrique Álvarez Félix        1934  1996-05-24   \n",
       "7  Joseph Mitchell (writer)|Joseph Mitchell        1908  1996-05-24   \n",
       "8                            Bradley Nowell        1968  1996-05-25   \n",
       "9                          Tamara Toumanova        1919  1996-05-29   \n",
       "\n",
       "                              Description  Actor  Author  Musician  \n",
       "0                       , american actor    True   False     False  \n",
       "1   , american baseball player and actor    True   False     False  \n",
       "2                        , british actor    True   False     False  \n",
       "3                       , american actor    True   False     False  \n",
       "4       , american musician and producer   False   False      True  \n",
       "5                    , american composer   False   False      True  \n",
       "6                        , mexican actor    True   False     False  \n",
       "7                      , american writer   False    True     False  \n",
       "8                    , american musician   False   False      True  \n",
       "9           , russian dancer and actress    True   False     False  "
      ]
     },
     "execution_count": 10,
     "metadata": {},
     "output_type": "execute_result"
    }
   ],
   "source": [
    "deaths=pd.read_csv(\"DATA/deaths.csv\")\n",
    "deaths.head(10)"
   ]
  },
  {
   "cell_type": "code",
   "execution_count": null,
   "metadata": {
    "collapsed": true
   },
   "outputs": [],
   "source": []
  },
  {
   "cell_type": "markdown",
   "metadata": {},
   "source": [
    "### 1. fetch artists names with amazon API"
   ]
  },
  {
   "cell_type": "code",
   "execution_count": 1,
   "metadata": {
    "collapsed": true
   },
   "outputs": [],
   "source": [
    "from amazon.api import AmazonAPI\n",
    "\n",
    "def get_api_keys():\n",
    "    f = open(\"api_creds\")\n",
    "    ar = f.read().split(\"\\n\")\n",
    "    return ar[0], ar[1], ar[2]\n",
    "\n",
    "AMAZON_ACCESS_KEY, AMAZON_SECRET_KEY, AMAZON_ASSOC_TAG = get_api_keys()\n",
    "\n",
    "amazon = AmazonAPI(AMAZON_ACCESS_KEY, AMAZON_SECRET_KEY, AMAZON_ASSOC_TAG)"
   ]
  },
  {
   "cell_type": "code",
   "execution_count": 109,
   "metadata": {
    "collapsed": true
   },
   "outputs": [],
   "source": [
    "def get_prod(asin) : \n",
    "    if not isinstance(asin, str): \n",
    "        acc_str = asin[0]\n",
    "        for e in asin : \n",
    "            acc_str += ','+e\n",
    "        print(acc_str)\n",
    "        return amazon.lookup(ItemId=acc_str)\n",
    "    else :\n",
    "        return amazon.lookup(ItemId=asin)\n",
    "\n",
    "def get_directors(prod) : \n",
    "    return prod.directors\n",
    "\n",
    "def get_actors(prod) : \n",
    "    return prod.actors\n",
    "\n",
    "def gen_bulk_index(start, end, bulksize=50, includeEnd=False):\n",
    "    size = end - start + 1\n",
    "    bulks = [list(range(start+(i*bulksize), start + (i+1)*bulksize)) for i in range(0, int(size/bulksize))]\n",
    "    if includeEnd : \n",
    "        bulks.append(list(range(bulks[len(bulks)-1][bulksize-1], end+1)))\n",
    "    else : \n",
    "        bulks.append(list(range(bulks[len(bulks)-1][bulksize-1], end)))\n",
    "    return bulks"
   ]
  },
  {
   "cell_type": "code",
   "execution_count": 126,
   "metadata": {},
   "outputs": [
    {
     "name": "stdout",
     "output_type": "stream",
     "text": [
      "0 % completed ( 0  rows)   -  time :  20:18:17\n"
     ]
    },
    {
     "name": "stderr",
     "output_type": "stream",
     "text": [
      "/usr/lib/python3.6/site-packages/ipykernel/__main__.py:9: FutureWarning: set_value is deprecated and will be removed in a future release. Please use .at[] or .iat[] accessors instead\n",
      "/usr/lib/python3.6/site-packages/ipykernel/__main__.py:10: FutureWarning: set_value is deprecated and will be removed in a future release. Please use .at[] or .iat[] accessors instead\n"
     ]
    },
    {
     "name": "stdout",
     "output_type": "stream",
     "text": [
      "0 % completed ( 100  rows)   -  time :  20:21:00\n"
     ]
    },
    {
     "ename": "KeyboardInterrupt",
     "evalue": "",
     "output_type": "error",
     "traceback": [
      "\u001b[0;31m---------------------------------------------------------------------------\u001b[0m",
      "\u001b[0;31mKeyboardInterrupt\u001b[0m                         Traceback (most recent call last)",
      "\u001b[0;32m<ipython-input-126-3ecc583a76bc>\u001b[0m in \u001b[0;36m<module>\u001b[0;34m()\u001b[0m\n\u001b[1;32m      9\u001b[0m     \u001b[0mproduct_df\u001b[0m\u001b[0;34m.\u001b[0m\u001b[0mset_value\u001b[0m\u001b[0;34m(\u001b[0m\u001b[0mi\u001b[0m\u001b[0;34m,\u001b[0m \u001b[0;34m'actors'\u001b[0m\u001b[0;34m,\u001b[0m \u001b[0mget_actors\u001b[0m\u001b[0;34m(\u001b[0m\u001b[0mprod\u001b[0m\u001b[0;34m)\u001b[0m\u001b[0;34m)\u001b[0m\u001b[0;34m\u001b[0m\u001b[0m\n\u001b[1;32m     10\u001b[0m     \u001b[0mproduct_df\u001b[0m\u001b[0;34m.\u001b[0m\u001b[0mset_value\u001b[0m\u001b[0;34m(\u001b[0m\u001b[0mi\u001b[0m\u001b[0;34m,\u001b[0m \u001b[0;34m'directors'\u001b[0m\u001b[0;34m,\u001b[0m \u001b[0mget_directors\u001b[0m\u001b[0;34m(\u001b[0m\u001b[0mprod\u001b[0m\u001b[0;34m)\u001b[0m\u001b[0;34m)\u001b[0m\u001b[0;34m\u001b[0m\u001b[0m\n\u001b[0;32m---> 11\u001b[0;31m     \u001b[0mtime\u001b[0m\u001b[0;34m.\u001b[0m\u001b[0msleep\u001b[0m\u001b[0;34m(\u001b[0m\u001b[0;36m1\u001b[0m\u001b[0;34m)\u001b[0m\u001b[0;34m\u001b[0m\u001b[0m\n\u001b[0m\u001b[1;32m     12\u001b[0m \u001b[0;34m\u001b[0m\u001b[0m\n\u001b[1;32m     13\u001b[0m     \u001b[0;32mif\u001b[0m\u001b[0;34m(\u001b[0m\u001b[0mi\u001b[0m\u001b[0;34m>=\u001b[0m\u001b[0;36m300\u001b[0m\u001b[0;34m)\u001b[0m\u001b[0;34m:\u001b[0m\u001b[0;34m\u001b[0m\u001b[0m\n",
      "\u001b[0;31mKeyboardInterrupt\u001b[0m: "
     ]
    }
   ],
   "source": [
    "## API \"one-by-one\" querying\n",
    "##\n",
    "\n",
    "product_df['actors'] = pd.Series(dtype=object)\n",
    "product_df['directors'] = pd.Series(dtype=object)\n",
    "\n",
    "for i, prod_row in enumerate(product_df.iterrows()) : \n",
    "    if i%100 == 0 : print(int(100 * (i+1) / product_df.shape[0]), \"% completed (\",i, \" rows)\", \"  -  time : \",time.strftime(\"%H:%M:%S\"))\n",
    "    prod = get_prod(prod_row[1]['asin'])\n",
    "    product_df.set_value(i, 'actors', get_actors(prod))\n",
    "    product_df.set_value(i, 'directors', get_directors(prod))\n",
    "    time.sleep(1)\n",
    "    \n",
    "    if(i>=300):\n",
    "        break\n",
    "    "
   ]
  },
  {
   "cell_type": "code",
   "execution_count": 127,
   "metadata": {
    "collapsed": true
   },
   "outputs": [],
   "source": [
    "## Parameters for bulk item lookup, should be kept between runs\n",
    "##\n",
    "\n",
    "bulksize = 10\n",
    "\n",
    "# used to restart from where we were in case of an error\n",
    "lastItemLookedUp = 0"
   ]
  },
  {
   "cell_type": "code",
   "execution_count": 147,
   "metadata": {},
   "outputs": [
    {
     "name": "stdout",
     "output_type": "stream",
     "text": [
      "last item looked up :  17835   -  time :  21:16:07 \n",
      "\n",
      "\n"
     ]
    }
   ],
   "source": [
    "print(\"last item looked up : \", lastItemLookedUp,  \"  -  time : \",time.strftime(\"%H:%M:%S\"), \"\\n\\n\")"
   ]
  },
  {
   "cell_type": "code",
   "execution_count": null,
   "metadata": {
    "scrolled": true
   },
   "outputs": [
    {
     "name": "stdout",
     "output_type": "stream",
     "text": [
      "     11 % completed ( 24935  rows)   -  time :  21:30:55\n",
      "     Last Item Looked up :  24934  /  208322\n",
      "\n",
      "\n",
      "\n",
      "\n",
      "6304109318,6304109318,6304111398,6304112688,6304098553,6304111762,6304113439,6304098162,6304111282,6304107188,6304089627\n",
      "6304107153,6304107153,6304097808,6304100787,6304114605,6304106041,6304114591,6304113013,6304111037,6304111061,6304076517\n",
      "6304106033,6304106033,6304108966,6304105436,6304108869,6304108842,6304114583,6304107641,6304115229,6304111045,6304113420\n",
      "6304098561,6304098561,6304115148,6304119011,6304111363,6304118074,6304105967,6304118996,6304123434,630410782X,6304122330\n",
      "6304118325,6304118325,6304118295,630410894X,6304125453,6304094000,6304102291,6304125259,6304119550,6304108877,6304116594\n",
      "6304118317,6304118317,6304119003,6304118015,6304118414,630411799X,6304121717,6304111797,630410751X,6304109717,6304123566\n",
      "6304123523,6304123523,6304124961,6304125445,6304117752,6304127154,6304119089,6304131879,6304124775,6304129599,6304104278\n",
      "6304109350,6304109350,6304111835,6304094930,6304117825,6304116225,630410605X,6304124414,6304112238,6304124953,6304107218\n"
     ]
    }
   ],
   "source": [
    "original_lastItemLookedUp = lastItemLookedUp\n",
    "\n",
    "\n",
    "for bulk in gen_bulk_index(lastItemLookedUp, product_df.shape[0], bulksize=bulksize) : \n",
    "    # display progess\n",
    "    if ((bulk[0]-(original_lastItemLookedUp)) % 100 == 0) : \n",
    "        clear_output()\n",
    "        print(\"    \",int(100 * (bulk[0]+1) / product_df.shape[0]), \"% completed (\",bulk[0], \" rows)\", \"  -  time : \",time.strftime(\"%H:%M:%S\"))\n",
    "        print(\"     Last Item Looked up : \", lastItemLookedUp, \" / \", product_df.shape[0])\n",
    "        print(\"\\n\\n\\n\")\n",
    "    \n",
    "    # get asins for the bulk\n",
    "    asins = product_df['asin'][bulk].tolist()\n",
    "    # fetch products using the bulk_lookup\n",
    "    prods = get_prod(asins)\n",
    "\n",
    "    # Then, process each product to add necessary informations in the dataframe\n",
    "    for i, prod in enumerate(prods) : \n",
    "        actors = get_actors(prod)\n",
    "        product_df.set_value(bulk[i], \"actors\", actors)\n",
    "        directors = get_directors(prod)\n",
    "        product_df.set_value(bulk[i], \"directors\", directors)\n",
    "        \n",
    "    # Save progress\n",
    "    lastItemLookedUp = bulk[bulksize-1]\n",
    "        \n",
    "    # limit query frequency to avoid getting 503'd\n",
    "    time.sleep(min(bulksize/25, 10))"
   ]
  },
  {
   "cell_type": "code",
   "execution_count": null,
   "metadata": {
    "collapsed": true
   },
   "outputs": [],
   "source": [
    "product_df.head()"
   ]
  }
 ],
 "metadata": {
  "kernelspec": {
   "display_name": "Python 3",
   "language": "python",
   "name": "python3"
  },
  "language_info": {
   "codemirror_mode": {
    "name": "ipython",
    "version": 3
   },
   "file_extension": ".py",
   "mimetype": "text/x-python",
   "name": "python",
   "nbconvert_exporter": "python",
   "pygments_lexer": "ipython3",
   "version": "3.6.3"
  }
 },
 "nbformat": 4,
 "nbformat_minor": 2
}
