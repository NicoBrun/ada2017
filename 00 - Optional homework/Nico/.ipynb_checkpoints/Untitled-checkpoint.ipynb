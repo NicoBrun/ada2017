{
 "cells": [
  {
   "cell_type": "code",
   "execution_count": 3,
   "metadata": {
    "collapsed": true
   },
   "outputs": [],
   "source": [
    "import csv"
   ]
  },
  {
   "cell_type": "code",
   "execution_count": 19,
   "metadata": {},
   "outputs": [
    {
     "name": "stdout",
     "output_type": "stream",
     "text": [
      "33599   21058  Ratio de mort par suicide: 0.6267448435965356\n"
     ]
    }
   ],
   "source": [
    "with open('interactive_data.csv') as csvfile:\n",
    "    readCSV = csv.reader(csvfile, delimiter=',')\n",
    "    totDeath = 0\n",
    "    totSuicide = 0\n",
    "    for row in readCSV:\n",
    "        index,intent,gender,age,race,deaths,population,rate = row\n",
    "        nul = 'None selected'\n",
    "        if intent == nul and gender == nul and age == nul and race == nul:\n",
    "            totDeath = int(deaths)\n",
    "        if intent == 'Suicide' and gender == nul and age == nul and race == nul:\n",
    "            totSuicide = int(deaths)\n",
    "        \n",
    "    print(totDeath,\" \",totSuicide,' Ratio de mort par suicide:',int(totSuicide)/int(totDeath))"
   ]
  },
  {
   "cell_type": "code",
   "execution_count": null,
   "metadata": {
    "collapsed": true
   },
   "outputs": [],
   "source": []
  }
 ],
 "metadata": {
  "kernelspec": {
   "display_name": "Python 3",
   "language": "python",
   "name": "python3"
  },
  "language_info": {
   "codemirror_mode": {
    "name": "ipython",
    "version": 3
   },
   "file_extension": ".py",
   "mimetype": "text/x-python",
   "name": "python",
   "nbconvert_exporter": "python",
   "pygments_lexer": "ipython3",
   "version": "3.6.0"
  }
 },
 "nbformat": 4,
 "nbformat_minor": 2
}
